{
 "cells": [
  {
   "cell_type": "code",
   "execution_count": 1,
   "metadata": {
    "tags": [
     "parameters"
    ]
   },
   "outputs": [],
   "source": [
    "# This is the parameters cell\n",
    "projection_paths = './Output/quickdraw-tsne_s1_30p.csv'\n",
    "\n",
    "# projection_paths = ''"
   ]
  },
  {
   "cell_type": "code",
   "execution_count": 2,
   "metadata": {},
   "outputs": [
    {
     "name": "stdout",
     "output_type": "stream",
     "text": [
      "['./Output/quickdraw-tsne_s1_30p.csv'] quickdraw\n"
     ]
    }
   ],
   "source": [
    "projection_paths = projection_paths.split(' ')\n",
    "dataset_id = projection_paths[0].split('/')[-1].split('-')[0]\n",
    "print(projection_paths, dataset_id)"
   ]
  },
  {
   "cell_type": "code",
   "execution_count": 3,
   "metadata": {},
   "outputs": [],
   "source": [
    "%matplotlib inline\n",
    "import pandas as pd\n",
    "import numpy as np\n",
    "import matplotlib.pyplot as plt\n",
    "import scipy.stats\n",
    "import math\n",
    "import cv2\n",
    "import re\n",
    "import glob\n",
    "import sys\n",
    "from sklearn.neighbors import NearestNeighbors\n",
    "from natsort import natsorted\n",
    "from tqdm import tqdm\n",
    "import os\n",
    "# Uncomment next line if testing\n",
    "os.chdir('..')\n",
    "\n",
    "sys.stderr = open('Metrics/log_' + dataset_id, 'w') # to check tqdm progress followed by watch -n 1 cat logfile\n",
    "\n",
    "\n",
    "IMAGE_DATASETS = ['quickdraw', 'fashion']\n",
    "# K_VALUES = [.05, .1, .15, .2] \n",
    "K_VALUES = [i/100 for i in range(1,21)]"
   ]
  },
  {
   "cell_type": "markdown",
   "metadata": {},
   "source": [
    "# Stability metrics"
   ]
  },
  {
   "cell_type": "code",
   "execution_count": 4,
   "metadata": {},
   "outputs": [],
   "source": [
    "def get_projection_as_array(dataset_path):\n",
    "    df = pd.read_csv(dataset_path, index_col=0)\n",
    "    vs = df.values.reshape(len(df), -1, 2)\n",
    "    return vs, list(df.index), vs.shape[1]\n",
    "\n",
    "\n",
    "def get_md_mov(dataset_path):\n",
    "    vs, indexes, n_timesteps = get_projection_as_array(dataset_path)\n",
    "    mov = []\n",
    "    for poly in vs:\n",
    "        mov_i = []\n",
    "        for i in range(len(poly)-1):\n",
    "            mov_i.append(math.sqrt(np.sum(np.square(poly[i] - poly[i+1]))))\n",
    "        mov.append(np.array(mov_i))\n",
    "    return np.array(mov), indexes, n_timesteps\n",
    "\n",
    "\n",
    "# get_md_mov('./Output/quickdraw-pca_s4.csv')"
   ]
  },
  {
   "cell_type": "code",
   "execution_count": 5,
   "metadata": {},
   "outputs": [],
   "source": [
    "def image_dataset_to_array(dataset_path):\n",
    "    # Convert image to np array\n",
    "    # Preload images to memory (trying to speed things up)\n",
    "    all_files = glob.glob('{}*'.format(dataset_path))\n",
    "    # Gather ids and timestep info    \n",
    "    max_t = {}\n",
    "    for f in all_files:\n",
    "        regex = r\".*/{}/(.*-.*)-(.*).png\".format(dataset_id)\n",
    "        match = re.match(regex, f)\n",
    "        img_id, t = match.groups()\n",
    "        t = int(t)\n",
    "        max_t[img_id] = max_t[img_id] if img_id in max_t and max_t[img_id] > t else t   \n",
    "    \n",
    "    img_size = 28 * 28  # Pixel count\n",
    "    n_revisions = max(max_t.values()) + 1\n",
    "    n_items = len(max_t.values())\n",
    "    vs = np.empty((n_revisions, n_items, img_size))\n",
    "    \n",
    "    # Populate vs\n",
    "    for i, img_id in enumerate(natsorted(max_t)):\n",
    "        # Copy existing bitmaps to np.array\n",
    "        for t in range(0, max_t[img_id]):\n",
    "            img_file = dataset_path + img_id + '-' + str(t) + '.png'\n",
    "            vs[t][i] = (cv2.imread(img_file, cv2.IMREAD_GRAYSCALE) / 255.).flatten()\n",
    "        # Replicate last image\n",
    "        for t in range(max_t[img_id], n_revisions):\n",
    "            img_file = dataset_path + img_id + '-' + str(max_t[img_id]-1) + '.png'\n",
    "            vs[t][i] = (cv2.imread(img_file, cv2.IMREAD_GRAYSCALE) / 255.).flatten()    \n",
    "    return vs, list(natsorted(max_t)), n_revisions\n",
    "\n",
    "\n",
    "def tabular_dataset_to_array(dataset_path):\n",
    "    # Get files with coords and save in an array vs\n",
    "    all_files = natsorted(glob.glob('{}*'.format(dataset_path)))\n",
    "    vs = [pd.read_csv(f, index_col=0).values for f in all_files] \n",
    "    # Get dataset info \n",
    "    df_temp = pd.read_csv(all_files[0], index_col=0)\n",
    "    n_timesteps = len(all_files)\n",
    "    return np.array(vs), list(df_temp.index), n_timesteps\n",
    "\n",
    "\n",
    "def dataset_as_array(dataset_path):\n",
    "    if dataset_id in IMAGE_DATASETS:\n",
    "         return image_dataset_to_array(dataset_path)\n",
    "    else:\n",
    "        return tabular_dataset_to_array(dataset_path)\n",
    "\n",
    "\n",
    "def get_nd_mov(dataset_id):\n",
    "    mov = []\n",
    "    dataset_path = './Datasets/' + dataset_id + '/'\n",
    "    # Get the nd data into arrays\n",
    "    vs, indexes, n_timesteps = dataset_as_array(dataset_path)\n",
    "    # Compute dists between 2 nd arrays\n",
    "    for t in range(n_timesteps - 1):\n",
    "        v_t = vs[t]\n",
    "        v_tp1 = vs[t+1]\n",
    "        mov_t = []\n",
    "        for a, b in zip(v_t, v_tp1):\n",
    "            mov_t.append(math.sqrt(np.sum(np.square(a - b))))\n",
    "        mov.append(np.array(mov_t)) \n",
    "    return np.array(mov).T, indexes, n_timesteps\n",
    "\n",
    "# dists, indexes, n_timesteps = get_nd_dists('quickdraw')"
   ]
  },
  {
   "cell_type": "code",
   "execution_count": 6,
   "metadata": {},
   "outputs": [],
   "source": [
    "# Compute distances\n",
    "mov_nd, indexes, n_timesteps = get_nd_mov(dataset_id)\n",
    "mov_md_dict = {}\n",
    "for p in projection_paths:\n",
    "    mov, _, _ = get_md_mov(p)\n",
    "    mov_md_dict[p] = mov"
   ]
  },
  {
   "cell_type": "code",
   "execution_count": 7,
   "metadata": {},
   "outputs": [],
   "source": [
    "metric_ids = ['stab_pearson', 'stab_spearman', 'stab_kendall', 'stab_kl', 'stab_stress_n', 'stab_stress_s',\n",
    "              'spat_pearson', 'spat_spearman', 'spat_kendall', 'spat_kl', 'spat_stress_n', 'spat_stress_s']\n",
    "\n",
    "for i in range(len(K_VALUES)):\n",
    "    metric_ids.append('spat_np_' + str(i+1))\n",
    "for i in range(len(K_VALUES)):\n",
    "    metric_ids.append('spat_nh_' + str(i+1))\n",
    "\n",
    "metric_results = pd.DataFrame(np.zeros((len(projection_paths), len(metric_ids))),\n",
    "                              index=projection_paths, columns=metric_ids)\n",
    "# metric_results"
   ]
  },
  {
   "cell_type": "markdown",
   "metadata": {},
   "source": [
    "# Stability metrics"
   ]
  },
  {
   "cell_type": "code",
   "execution_count": 8,
   "metadata": {},
   "outputs": [],
   "source": [
    "# Flatten the data\n",
    "mov_nd = mov_nd.flatten()\n",
    "for p in projection_paths:\n",
    "    mov_md = mov_md_dict[p].flatten()\n",
    "\n",
    "    # Correlation and divergence metrics\n",
    "    metric_results.loc[p]['stab_pearson']  = scipy.stats.pearsonr(mov_nd, mov_md)[0]\n",
    "    metric_results.loc[p]['stab_spearman'] = scipy.stats.spearmanr(mov_nd, mov_md)[0]\n",
    "    metric_results.loc[p]['stab_kendall']  = scipy.stats.kendalltau(mov_nd, mov_md)[0]\n",
    "    metric_results.loc[p]['stab_kl']       = scipy.stats.entropy(mov_nd, mov_md)\n",
    "\n",
    "    # Stress metrics\n",
    "    nd = mov_nd / max(mov_nd)\n",
    "    md = mov_md / max(mov_md)\n",
    "    metric_results.loc[p]['stab_stress_n'] = np.sum(np.square(nd - md)) / np.sum(np.square(nd))\n",
    "\n",
    "    nd = (mov_nd - np.mean(mov_nd)) / np.std(mov_nd)\n",
    "    md = (mov_md - np.mean(mov_md)) / np.std(mov_md)\n",
    "    metric_results.loc[p]['stab_stress_s'] = np.sum(np.square(nd - md)) / np.sum(np.square(nd))\n",
    "\n",
    "# display(metric_results)"
   ]
  },
  {
   "cell_type": "markdown",
   "metadata": {},
   "source": [
    "# Spatial metrics"
   ]
  },
  {
   "cell_type": "code",
   "execution_count": 9,
   "metadata": {},
   "outputs": [],
   "source": [
    "def trustworthiness_metric(nbrs_nd, nbrs_md, k):\n",
    "    sum_i = 0\n",
    "    for i in range(n_items):\n",
    "        # Look for false neighbors in a k sized neighborhood\n",
    "        knbrs_nd = nbrs_nd[i, 1:k+1]\n",
    "        knbrs_md = nbrs_md[i, 1:k+1]\n",
    "        U = np.setdiff1d(knbrs_nd, knbrs_md, assume_unique=True)\n",
    "\n",
    "        # For each false neighbor in mD, find out its rank in nD and sum it\n",
    "        sum_j = 0\n",
    "        for j in U: \n",
    "            sum_j += int(np.where(nbrs_md[i] == j)[0] - 1) - k   \n",
    "        sum_i += int(sum_j)\n",
    "\n",
    "    n = n_items\n",
    "    return float((1 - (2 / (n * k * (2 * n - 3 * k - 1)) * sum_i)))\n",
    "\n",
    "def continuity_metric(nbrs_nd, nbrs_md, k):\n",
    "    sum_i = 0\n",
    "    for i in range(n_items):\n",
    "        # Look for false neighbors in a k sized neighborhood\n",
    "        knbrs_nd = nbrs_nd[i, 1:k+1]\n",
    "        knbrs_md = nbrs_md[i, 1:k+1]\n",
    "        U = np.setdiff1d(knbrs_md, knbrs_nd, assume_unique=True)\n",
    "\n",
    "        # For each false neighbor in nD, find out its rank in mD and sum it\n",
    "        sum_j = 0\n",
    "        for j in U: \n",
    "            sum_j += int(np.where(nbrs_nd[i] == j)[0] - 1) - k   \n",
    "        sum_i += int(sum_j)\n",
    "\n",
    "    n = n_items\n",
    "    return float((1 - (2 / (n * k * (2 * n - 3 * k - 1)) * sum_i)))"
   ]
  },
  {
   "cell_type": "code",
   "execution_count": 10,
   "metadata": {
    "scrolled": true
   },
   "outputs": [
    {
     "name": "stdout",
     "output_type": "stream",
     "text": [
      "CPU times: user 9min 57s, sys: 8.38 s, total: 10min 6s\n",
      "Wall time: 10min 8s\n"
     ]
    }
   ],
   "source": [
    "%%time\n",
    "\n",
    "dataset_path = './Datasets/' + dataset_id + '/'\n",
    "vs_n, indexes, n_revisions = dataset_as_array(dataset_path)\n",
    "n_items = len(indexes)\n",
    "\n",
    "for p in projection_paths:\n",
    "    # Change axis in projection\n",
    "    vs_m, _, _ = get_projection_as_array(p)\n",
    "    vs_m = np.transpose(vs_m, (1,0,2))\n",
    "    \n",
    "    # Initialize structures\n",
    "    index_to_class = np.array([item.split('-')[0] for item in np.array(indexes)])\n",
    "    dists_nd_all = []\n",
    "    dists_md_all = [] \n",
    "    ngbr_preservation = np.zeros((n_timesteps, n_items, len(K_VALUES)))\n",
    "    ngbr_hit = np.zeros((n_timesteps, n_items, len(K_VALUES)))\n",
    "    trustworthiness = np.zeros((n_timesteps, len(K_VALUES)))\n",
    "    continuity = np.zeros((n_timesteps, len(K_VALUES)))\n",
    "    \n",
    "    for t in tqdm(range(n_timesteps)):\n",
    "        # Generate list of nearest neighbors for each item in timestep t\n",
    "        dists_nd, nbrs_nd = NearestNeighbors(n_neighbors=n_items, metric='euclidean',\n",
    "                                      algorithm='ball_tree').fit(vs_n[t]).kneighbors(vs_n[t])   \n",
    "        dists_md, nbrs_md = NearestNeighbors(n_neighbors=n_items, metric='euclidean',\n",
    "                                      algorithm='kd_tree').fit(vs_m[t]).kneighbors(vs_m[t])\n",
    "        \n",
    "        # Save distances to compute correlation/stress metrics\n",
    "        dists_nd_all.append(dists_nd)\n",
    "        dists_md_all.append(dists_md)\n",
    "        \n",
    "        # Check classes of neighbors for neighbor hit metric\n",
    "        for i in range(n_items):\n",
    "            i_class = index_to_class[i]\n",
    "            k_max = int(max(K_VALUES) * n_items)\n",
    "            ngbr_classes = index_to_class[nbrs_md[i, :k_max]]\n",
    "            for k_index, k_percentage in enumerate(K_VALUES):\n",
    "                k = max(int(k_percentage * n_items), 1)  # Avoid divisions by 0\n",
    "                ngbr_classes = ngbr_classes[:k]\n",
    "                nh = sum(map(lambda x: x == i_class, ngbr_classes)) / float(k)\n",
    "                ngbr_hit[t][i][k_index] = nh  \n",
    "\n",
    "        # Compute neighbor preservation for different values of k for each item \n",
    "        for i in range(n_items):\n",
    "            for k_index, k_percentage in enumerate(K_VALUES):\n",
    "                k = max(int(k_percentage * n_items), 1)  # Avoid divisions by 0\n",
    "                intersection = np.intersect1d(nbrs_nd[i, :k], nbrs_md[i, :k], assume_unique=True)\n",
    "                ngbr_preservation[t][i][k_index] = len(intersection) / float(k)\n",
    "                \n",
    "        # Compute trustworthiness\n",
    "        for k_index, k_percentage in enumerate(K_VALUES):\n",
    "            k = max(int(k_percentage * n_items), 1)  # Avoid divisions by 0\n",
    "            trustworthiness[t][k_index] = trustworthiness_metric(nbrs_nd, nbrs_md, k)\n",
    "            continuity[t][k_index] = continuity_metric(nbrs_nd, nbrs_md, k)\n",
    "        \n",
    "        \n",
    "    # Average values over TIME (axis 0)\n",
    "    ngbr_preservation = np.average(ngbr_preservation, axis=0)\n",
    "    ngbr_hit = np.average(ngbr_hit, axis=0)\n",
    "    trustworthiness = np.average(trustworthiness, axis=0)\n",
    "    continuity = np.average(continuity, axis=0)\n",
    "\n",
    "    # Then average values over all points (new axis 0)\n",
    "    ngbr_preservation = np.average(ngbr_preservation, axis=0)\n",
    "    ngbr_hit = np.average(ngbr_hit, axis=0)\n",
    "\n",
    "    # We get one value per k\n",
    "    for i in range(len(K_VALUES)):\n",
    "        metric_results.loc[p]['spat_np_' + str(i+1)] = ngbr_preservation[i]\n",
    "        metric_results.loc[p]['spat_nh_' + str(i+1)] = ngbr_hit[i]\n",
    "    \n",
    "    dists_nd_all = np.array(dists_nd_all)\n",
    "    dists_md_all = np.array(dists_md_all)\n",
    "    dists_nd_all = dists_nd_all.flatten()\n",
    "    dists_md_all = dists_md_all.flatten()\n",
    "\n",
    "    # Stress metrics\n",
    "    nd = dists_nd_all / max(dists_nd_all)\n",
    "    md = dists_md_all / max(dists_md_all)\n",
    "    metric_results.loc[p]['spat_stress_n'] = np.sum(np.square(nd - md)) / np.sum(np.square(nd))\n",
    "\n",
    "    nd = (dists_nd_all - np.mean(dists_nd_all)) / np.std(dists_nd_all)\n",
    "    md = (dists_md_all - np.mean(dists_md_all)) / np.std(dists_md_all)\n",
    "    metric_results.loc[p]['spat_stress_s'] = np.sum(np.square(nd - md)) / np.sum(np.square(nd))\n",
    "    \n",
    "    # Correlation and divergence metrics\n",
    "    metric_results.loc[p]['spat_pearson']  = scipy.stats.pearsonr(dists_nd_all, dists_md_all)[0]\n",
    "    metric_results.loc[p]['spat_spearman'] = scipy.stats.spearmanr(dists_nd_all, dists_md_all)[0]\n",
    "    metric_results.loc[p]['spat_kendall']  = scipy.stats.kendalltau(dists_nd_all, dists_md_all)[0]\n",
    "    metric_results.loc[p]['spat_kl']       = scipy.stats.entropy(dists_nd_all, dists_md_all)"
   ]
  },
  {
   "cell_type": "code",
   "execution_count": 11,
   "metadata": {},
   "outputs": [
    {
     "data": {
      "text/plain": [
       "[<matplotlib.lines.Line2D at 0x7f2e9562a7f0>]"
      ]
     },
     "execution_count": 11,
     "metadata": {},
     "output_type": "execute_result"
    },
    {
     "data": {
      "image/png": "[encoded data removed]",
      "text/plain": [
       "<Figure size 432x288 with 1 Axes>"
      ]
     },
     "metadata": {
      "needs_background": "light"
     },
     "output_type": "display_data"
    }
   ],
   "source": [
    "plt.plot(trustworthiness)\n",
    "plt.plot(continuity)"
   ]
  },
  {
   "cell_type": "code",
   "execution_count": null,
   "metadata": {},
   "outputs": [],
   "source": []
  },
  {
   "cell_type": "code",
   "execution_count": 12,
   "metadata": {},
   "outputs": [
    {
     "data": {
      "text/plain": [
       "['./Output/quickdraw-tsne_s1_30p.csv']"
      ]
     },
     "execution_count": 12,
     "metadata": {},
     "output_type": "execute_result"
    }
   ],
   "source": [
    "projection_paths"
   ]
  },
  {
   "cell_type": "code",
   "execution_count": 13,
   "metadata": {},
   "outputs": [
    {
     "data": {
      "text/html": [
       "<div>\n",
       "<style scoped>\n",
       "    .dataframe tbody tr th:only-of-type {\n",
       "        vertical-align: middle;\n",
       "    }\n",
       "\n",
       "    .dataframe tbody tr th {\n",
       "        vertical-align: top;\n",
       "    }\n",
       "\n",
       "    .dataframe thead th {\n",
       "        text-align: right;\n",
       "    }\n",
       "</style>\n",
       "<table border=\"1\" class=\"dataframe\">\n",
       "  <thead>\n",
       "    <tr style=\"text-align: right;\">\n",
       "      <th></th>\n",
       "      <th>stab_pearson</th>\n",
       "      <th>stab_spearman</th>\n",
       "      <th>stab_kendall</th>\n",
       "      <th>stab_kl</th>\n",
       "      <th>stab_stress_n</th>\n",
       "      <th>stab_stress_s</th>\n",
       "      <th>spat_pearson</th>\n",
       "      <th>spat_spearman</th>\n",
       "      <th>spat_kendall</th>\n",
       "      <th>spat_kl</th>\n",
       "      <th>...</th>\n",
       "      <th>spat_nh_11</th>\n",
       "      <th>spat_nh_12</th>\n",
       "      <th>spat_nh_13</th>\n",
       "      <th>spat_nh_14</th>\n",
       "      <th>spat_nh_15</th>\n",
       "      <th>spat_nh_16</th>\n",
       "      <th>spat_nh_17</th>\n",
       "      <th>spat_nh_18</th>\n",
       "      <th>spat_nh_19</th>\n",
       "      <th>spat_nh_20</th>\n",
       "    </tr>\n",
       "  </thead>\n",
       "  <tbody>\n",
       "    <tr>\n",
       "      <th>./Output/quickdraw-tsne_s1_30p.csv</th>\n",
       "      <td>0.117686</td>\n",
       "      <td>0.071949</td>\n",
       "      <td>0.054568</td>\n",
       "      <td>1.41692</td>\n",
       "      <td>0.849629</td>\n",
       "      <td>1.764627</td>\n",
       "      <td>0.092028</td>\n",
       "      <td>0.243789</td>\n",
       "      <td>0.178169</td>\n",
       "      <td>0.4155</td>\n",
       "      <td>...</td>\n",
       "      <td>0.061265</td>\n",
       "      <td>0.05616</td>\n",
       "      <td>0.05184</td>\n",
       "      <td>0.048137</td>\n",
       "      <td>0.044928</td>\n",
       "      <td>0.04212</td>\n",
       "      <td>0.039642</td>\n",
       "      <td>0.03744</td>\n",
       "      <td>0.035469</td>\n",
       "      <td>0.033696</td>\n",
       "    </tr>\n",
       "  </tbody>\n",
       "</table>\n",
       "<p>1 rows × 52 columns</p>\n",
       "</div>"
      ],
      "text/plain": [
       "                                    stab_pearson  stab_spearman  stab_kendall  \\\n",
       "./Output/quickdraw-tsne_s1_30p.csv      0.117686       0.071949      0.054568   \n",
       "\n",
       "                                    stab_kl  stab_stress_n  stab_stress_s  \\\n",
       "./Output/quickdraw-tsne_s1_30p.csv  1.41692       0.849629       1.764627   \n",
       "\n",
       "                                    spat_pearson  spat_spearman  spat_kendall  \\\n",
       "./Output/quickdraw-tsne_s1_30p.csv      0.092028       0.243789      0.178169   \n",
       "\n",
       "                                    spat_kl  ...  spat_nh_11  spat_nh_12  \\\n",
       "./Output/quickdraw-tsne_s1_30p.csv   0.4155  ...    0.061265     0.05616   \n",
       "\n",
       "                                    spat_nh_13  spat_nh_14  spat_nh_15  \\\n",
       "./Output/quickdraw-tsne_s1_30p.csv     0.05184    0.048137    0.044928   \n",
       "\n",
       "                                    spat_nh_16  spat_nh_17  spat_nh_18  \\\n",
       "./Output/quickdraw-tsne_s1_30p.csv     0.04212    0.039642     0.03744   \n",
       "\n",
       "                                    spat_nh_19  spat_nh_20  \n",
       "./Output/quickdraw-tsne_s1_30p.csv    0.035469    0.033696  \n",
       "\n",
       "[1 rows x 52 columns]"
      ]
     },
     "metadata": {},
     "output_type": "display_data"
    }
   ],
   "source": [
    "display(metric_results)"
   ]
  },
  {
   "cell_type": "code",
   "execution_count": 14,
   "metadata": {},
   "outputs": [],
   "source": [
    "# metric_results.to_csv('./Metrics/Results/{}.csv'.format(dataset_id))"
   ]
  },
  {
   "cell_type": "code",
   "execution_count": 15,
   "metadata": {
    "scrolled": true
   },
   "outputs": [
    {
     "data": {
      "text/plain": [
       "20"
      ]
     },
     "execution_count": 15,
     "metadata": {},
     "output_type": "execute_result"
    },
    {
     "data": {
      "image/png": "[encoded data removed]",
      "text/plain": [
       "<Figure size 432x288 with 1 Axes>"
      ]
     },
     "metadata": {
      "needs_background": "light"
     },
     "output_type": "display_data"
    }
   ],
   "source": [
    "plt.plot(metric_results[[c for c in metric_results.columns if c.startswith('spat_np_')]].values.flatten())\n",
    "len(metric_results[[c for c in metric_results.columns if c.startswith('spat_np_')]].values.flatten())"
   ]
  },
  {
   "cell_type": "code",
   "execution_count": 16,
   "metadata": {},
   "outputs": [
    {
     "data": {
      "text/plain": [
       "[<matplotlib.lines.Line2D at 0x7f2e95520630>]"
      ]
     },
     "execution_count": 16,
     "metadata": {},
     "output_type": "execute_result"
    },
    {
     "data": {
      "image/png": "[encoded data removed]",
      "text/plain": [
       "<Figure size 432x288 with 1 Axes>"
      ]
     },
     "metadata": {
      "needs_background": "light"
     },
     "output_type": "display_data"
    }
   ],
   "source": [
    "plt.plot(metric_results[[c for c in metric_results.columns if c.startswith('spat_nh_')]].values.flatten())\n"
   ]
  }
 ],
 "metadata": {
  "celltoolbar": "Tags",
  "kernelspec": {
   "display_name": "Python 3",
   "language": "python",
   "name": "python3"
  },
  "language_info": {
   "codemirror_mode": {
    "name": "ipython",
    "version": 3
   },
   "file_extension": ".py",
   "mimetype": "text/x-python",
   "name": "python",
   "nbconvert_exporter": "python",
   "pygments_lexer": "ipython3",
   "version": "3.5.2"
  }
 },
 "nbformat": 4,
 "nbformat_minor": 2
}
