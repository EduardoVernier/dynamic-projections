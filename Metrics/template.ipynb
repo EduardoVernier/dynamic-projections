{
 "cells": [
  {
   "cell_type": "code",
   "execution_count": 1,
   "metadata": {
    "tags": [
     "parameters"
    ]
   },
   "outputs": [],
   "source": [
    "# This is the parameters cell\n",
    "output_paths = './Output/quickdraw-pca_s4.csv'"
   ]
  },
  {
   "cell_type": "code",
   "execution_count": 2,
   "metadata": {
    "scrolled": true
   },
   "outputs": [
    {
     "data": {
      "text/plain": [
       "'/home/eduardo/PhD/Projections/dynamic-projections'"
      ]
     },
     "execution_count": 2,
     "metadata": {},
     "output_type": "execute_result"
    }
   ],
   "source": [
    "import os\n",
    "os.chdir('..')\n",
    "os.getcwd()"
   ]
  },
  {
   "cell_type": "code",
   "execution_count": 3,
   "metadata": {},
   "outputs": [
    {
     "name": "stdout",
     "output_type": "stream",
     "text": [
      "['./Output/quickdraw-pca_s4.csv'] quickdraw\n"
     ]
    }
   ],
   "source": [
    "output_paths = output_paths.split(' ')\n",
    "dataset_id = output_paths[0].split('/')[-1].split('-')[0]\n",
    "print(output_paths, dataset_id)"
   ]
  },
  {
   "cell_type": "code",
   "execution_count": 4,
   "metadata": {},
   "outputs": [],
   "source": [
    "import pandas as pd\n",
    "import numpy as np\n",
    "import math\n",
    "import cv2\n",
    "import re\n",
    "import glob\n",
    "from natsort import natsorted\n",
    "from tqdm import tqdm"
   ]
  },
  {
   "cell_type": "code",
   "execution_count": 26,
   "metadata": {},
   "outputs": [],
   "source": [
    "def get_md_dists(dataset_path):\n",
    "    df = pd.read_csv(dataset_path, index_col=0)\n",
    "    dists = []\n",
    "    for poly in tqdm(df.values.reshape(len(df), -1, 2)):\n",
    "        dists_i = []\n",
    "        for i in range(len(poly)-2):\n",
    "            dists_i.append(math.sqrt(np.sum(np.square(poly[i] - poly[i+1]))))\n",
    "        dists.append(np.array(dists_i))\n",
    "    return np.array(dists), df.index, len(poly)\n",
    "\n",
    "# get_md_dists(output_ids[0])"
   ]
  },
  {
   "cell_type": "code",
   "execution_count": 27,
   "metadata": {},
   "outputs": [],
   "source": [
    "image_datasets = ['quickdraw', 'fashion']\n",
    "\n",
    "def image_dataset_to_array(dataset_path):\n",
    "    # Convert image to np array\n",
    "    # Preload images to memory (trying to speed things up)\n",
    "    all_files = glob.glob('{}*'.format(dataset_path))\n",
    "    # Gather ids and timestep info    \n",
    "    max_t = {}\n",
    "    for f in all_files:\n",
    "        regex = r\".*/{}/(.*-.*)-(.*).png\".format(dataset_id)\n",
    "        match = re.match(regex, f)\n",
    "        img_id, t = match.groups()\n",
    "        t = int(t)\n",
    "        max_t[img_id] = max_t[img_id] if img_id in max_t and max_t[img_id] > t else t   \n",
    "    \n",
    "    img_size = 28 * 28  # Pixel count\n",
    "    n_revisions = max(max_t.values())\n",
    "    n_items = len(max_t.values())\n",
    "    vs = np.empty((n_revisions, n_items, img_size))\n",
    "    \n",
    "    # Populate vs\n",
    "    for i, img_id in enumerate(natsorted(max_t)):\n",
    "        # Copy existing bitmaps to np.array\n",
    "        for t in range(0, max_t[img_id]):\n",
    "            img_file = dataset_path + img_id + '-' + str(t) + '.png'\n",
    "            vs[t][i] = (cv2.imread(img_file, cv2.IMREAD_GRAYSCALE) / 255.).flatten()\n",
    "        # Replicate last image\n",
    "        for t in range(max_t[img_id], n_revisions):\n",
    "            img_file = dataset_path + img_id + '-' + str(max_t[img_id]-1) + '.png'\n",
    "            vs[t][i] = (cv2.imread(img_file, cv2.IMREAD_GRAYSCALE) / 255.).flatten()\n",
    "    \n",
    "    return vs, list(natsorted(max_t)), n_revisions\n",
    "\n",
    "\n",
    "def tabular_dataset_to_array(dataset_path):\n",
    "    # Get files with coords and save in an array vs\n",
    "    all_files = natsorted(glob.glob('{}*'.format(dataset_path)))\n",
    "    vs = [pd.read_csv(f, index_col=0).values for f in all_files] \n",
    "    # Get dataset info \n",
    "    df_temp = pd.read_csv(all_files[0], index_col=0)\n",
    "    n_timesteps = len(all_files)\n",
    "    return np.array(vs), list(df_temp.index), n_timesteps\n",
    "\n",
    "\n",
    "def get_nd_dists(dataset_id):\n",
    "    dists = []\n",
    "    dataset_path = './Datasets/' + dataset_id + '/'\n",
    "    # Get the nd data into arrays\n",
    "    if dataset_id in image_datasets:\n",
    "        vs, indexes, n_timesteps = image_dataset_to_array(dataset_path)\n",
    "    else:\n",
    "        vs, indexes, n_timesteps = tabular_dataset_to_array(dataset_path)\n",
    "    # Compute dists between 2 nd arrays\n",
    "    for t in tqdm(range(n_timesteps - 1)):\n",
    "        v_t = vs[t]\n",
    "        v_tp1 = vs[t+1]\n",
    "        dists_t = []\n",
    "        for a, b in zip(v_t, v_tp1):\n",
    "            dists_t.append(math.sqrt(np.sum(np.square(a - b))))\n",
    "        dists.append(np.array(dists_t)) \n",
    "    return np.array(dists).T, indexes, n_timesteps\n",
    "\n",
    "# dists, indexes, n_timesteps = get_nd_dists('quickdraw')"
   ]
  },
  {
   "cell_type": "code",
   "execution_count": 28,
   "metadata": {},
   "outputs": [
    {
     "name": "stderr",
     "output_type": "stream",
     "text": [
      "100%|██████████| 87/87 [00:00<00:00, 146.73it/s]\n",
      "100%|██████████| 600/600 [00:00<00:00, 1098.24it/s]\n"
     ]
    }
   ],
   "source": [
    "# Compute distances\n",
    "for output in output_paths:\n",
    "    dists_nd, indexes, n_timesteps = get_nd_dists(dataset_id)\n",
    "    dists_md, _, _ = get_md_dists(output)"
   ]
  },
  {
   "cell_type": "code",
   "execution_count": 29,
   "metadata": {},
   "outputs": [
    {
     "name": "stdout",
     "output_type": "stream",
     "text": [
      "(600, 87)\n",
      "(600, 87)\n"
     ]
    }
   ],
   "source": [
    "print(dists_nd.shape)\n",
    "print(dists_md.shape)"
   ]
  },
  {
   "cell_type": "code",
   "execution_count": 34,
   "metadata": {},
   "outputs": [
    {
     "data": {
      "text/html": [
       "<div>\n",
       "<style scoped>\n",
       "    .dataframe tbody tr th:only-of-type {\n",
       "        vertical-align: middle;\n",
       "    }\n",
       "\n",
       "    .dataframe tbody tr th {\n",
       "        vertical-align: top;\n",
       "    }\n",
       "\n",
       "    .dataframe thead th {\n",
       "        text-align: right;\n",
       "    }\n",
       "</style>\n",
       "<table border=\"1\" class=\"dataframe\">\n",
       "  <thead>\n",
       "    <tr style=\"text-align: right;\">\n",
       "      <th></th>\n",
       "      <th>stab_kendall</th>\n",
       "      <th>stab_kl</th>\n",
       "      <th>stab_pearson</th>\n",
       "      <th>stab_spearman</th>\n",
       "      <th>stab_stress_n</th>\n",
       "      <th>stab_stress_s</th>\n",
       "    </tr>\n",
       "  </thead>\n",
       "  <tbody>\n",
       "    <tr>\n",
       "      <th>./Output/quickdraw-pca_s4.csv</th>\n",
       "      <td>0.0</td>\n",
       "      <td>0.0</td>\n",
       "      <td>0.0</td>\n",
       "      <td>0.0</td>\n",
       "      <td>0.0</td>\n",
       "      <td>0.0</td>\n",
       "    </tr>\n",
       "  </tbody>\n",
       "</table>\n",
       "</div>"
      ],
      "text/plain": [
       "                               stab_kendall  stab_kl  stab_pearson  \\\n",
       "./Output/quickdraw-pca_s4.csv           0.0      0.0           0.0   \n",
       "\n",
       "                               stab_spearman  stab_stress_n  stab_stress_s  \n",
       "./Output/quickdraw-pca_s4.csv            0.0            0.0            0.0  "
      ]
     },
     "execution_count": 34,
     "metadata": {},
     "output_type": "execute_result"
    }
   ],
   "source": [
    "metric_ids = ['stab_pearson', 'stab_spearman', 'stab_kendall', 'stab_kl', 'stab_stress_n', 'stab_stress_s']\n",
    "metric_results = pd.DataFrame(np.zeros((len(output_paths), len(metric_ids))),\n",
    "                              index=output_paths, columns=metric_ids)\n",
    "metric_results = metric_results.reindex(sorted(metric_results.columns), axis=1)\n",
    "metric_results\n"
   ]
  },
  {
   "cell_type": "code",
   "execution_count": 35,
   "metadata": {},
   "outputs": [
    {
     "data": {
      "text/html": [
       "<div>\n",
       "<style scoped>\n",
       "    .dataframe tbody tr th:only-of-type {\n",
       "        vertical-align: middle;\n",
       "    }\n",
       "\n",
       "    .dataframe tbody tr th {\n",
       "        vertical-align: top;\n",
       "    }\n",
       "\n",
       "    .dataframe thead th {\n",
       "        text-align: right;\n",
       "    }\n",
       "</style>\n",
       "<table border=\"1\" class=\"dataframe\">\n",
       "  <thead>\n",
       "    <tr style=\"text-align: right;\">\n",
       "      <th></th>\n",
       "      <th>stab_kendall</th>\n",
       "      <th>stab_kl</th>\n",
       "      <th>stab_pearson</th>\n",
       "      <th>stab_spearman</th>\n",
       "      <th>stab_stress_n</th>\n",
       "      <th>stab_stress_s</th>\n",
       "    </tr>\n",
       "  </thead>\n",
       "  <tbody>\n",
       "    <tr>\n",
       "      <th>./Output/quickdraw-pca_s4.csv</th>\n",
       "      <td>0.0</td>\n",
       "      <td>0.0</td>\n",
       "      <td>10.0</td>\n",
       "      <td>0.0</td>\n",
       "      <td>0.0</td>\n",
       "      <td>0.0</td>\n",
       "    </tr>\n",
       "  </tbody>\n",
       "</table>\n",
       "</div>"
      ],
      "text/plain": [
       "                               stab_kendall  stab_kl  stab_pearson  \\\n",
       "./Output/quickdraw-pca_s4.csv           0.0      0.0          10.0   \n",
       "\n",
       "                               stab_spearman  stab_stress_n  stab_stress_s  \n",
       "./Output/quickdraw-pca_s4.csv            0.0            0.0            0.0  "
      ]
     },
     "execution_count": 35,
     "metadata": {},
     "output_type": "execute_result"
    }
   ],
   "source": [
    "# metric_results.loc[output_paths[0], metric_ids[0]] = 10\n",
    "# metric_results"
   ]
  },
  {
   "cell_type": "code",
   "execution_count": null,
   "metadata": {},
   "outputs": [],
   "source": []
  },
  {
   "cell_type": "code",
   "execution_count": null,
   "metadata": {},
   "outputs": [],
   "source": []
  }
 ],
 "metadata": {
  "celltoolbar": "Tags",
  "kernelspec": {
   "display_name": "Python 3",
   "language": "python",
   "name": "python3"
  },
  "language_info": {
   "codemirror_mode": {
    "name": "ipython",
    "version": 3
   },
   "file_extension": ".py",
   "mimetype": "text/x-python",
   "name": "python",
   "nbconvert_exporter": "python",
   "pygments_lexer": "ipython3",
   "version": "3.5.2"
  }
 },
 "nbformat": 4,
 "nbformat_minor": 2
}
