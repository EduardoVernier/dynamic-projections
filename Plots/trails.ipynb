{
 "cells": [
  {
   "cell_type": "code",
   "execution_count": 1,
   "metadata": {},
   "outputs": [],
   "source": [
    "%matplotlib inline\n",
    "\n",
    "import pandas as pd\n",
    "import numpy as np\n",
    "import matplotlib\n",
    "import matplotlib.pyplot as plt\n",
    "import imageio\n",
    "import os\n",
    "from tqdm import tqdm_notebook \n",
    "from glob import glob\n",
    "os.chdir('..')"
   ]
  },
  {
   "cell_type": "code",
   "execution_count": null,
   "metadata": {
    "tags": [
     "parameters"
    ]
   },
   "outputs": [],
   "source": [
    "dataset_id = ''"
   ]
  },
  {
   "cell_type": "code",
   "execution_count": 2,
   "metadata": {},
   "outputs": [],
   "source": [
    "dataset_id = 'quickdraw'\n",
    "projection_paths = pd.read_csv('Metrics/Results/{}.csv'.format(dataset_id), index_col=0).index\n",
    "names = projection_paths.str.extract(r'.*/{}-(.*).csv'.format(dataset_id), expand=False) # Clean string"
   ]
  },
  {
   "cell_type": "code",
   "execution_count": 3,
   "metadata": {
    "scrolled": true
   },
   "outputs": [
    {
     "name": "stdout",
     "output_type": "stream",
     "text": [
      "Index(['Output/quickdraw-AE_784f_500f_500f_2000f_2f_20ep.csv',\n",
      "       'Output/quickdraw-C2AE_32c_32c_32c_1568f_2f_2ep.csv',\n",
      "       'Output/quickdraw-VAE_784f_2048f_1024f_512f_2f_0-25drop_10ep.csv',\n",
      "       'Output/quickdraw-C2VAE_32c_64c_128c_6272f_2f_10ep.csv',\n",
      "       'Output/quickdraw-tsne_s1_200p.csv',\n",
      "       'Output/quickdraw-dtsne_500p_0-5l.csv', 'Output/quickdraw-pca_s1.csv',\n",
      "       'Output/quickdraw-pca_s4.csv'],\n",
      "      dtype='object') quickdraw\n"
     ]
    }
   ],
   "source": [
    "dataset_path = '../Datasets/' + dataset_id + '/'\n",
    "print(projection_paths, dataset_id)"
   ]
  },
  {
   "cell_type": "code",
   "execution_count": 4,
   "metadata": {},
   "outputs": [],
   "source": [
    "!mkdir {'Plots/Anim/'+dataset_id}"
   ]
  },
  {
   "cell_type": "code",
   "execution_count": 5,
   "metadata": {},
   "outputs": [],
   "source": [
    "def get_projection_as_array(dataset_path):\n",
    "    df = pd.read_csv(dataset_path, index_col=0)\n",
    "    vs = df.values.reshape(len(df), -1, 2)\n",
    "    return vs, df.index, vs.shape[1]"
   ]
  },
  {
   "cell_type": "code",
   "execution_count": 6,
   "metadata": {},
   "outputs": [],
   "source": [
    "lims = {}\n",
    "pos_interp = {}\n",
    "indexes = {}\n",
    "colors = {}\n",
    "for p_i, p in enumerate(projection_paths):\n",
    "    pos, ind, n_timesteps = get_projection_as_array(p)\n",
    "    # Shuffle arrays\n",
    "    perm = np.random.permutation(len(ind))\n",
    "    pos = pos[perm]\n",
    "    indexes[p] = ind[perm]\n",
    "\n",
    "    # Set x and y axis limits\n",
    "    x_max = max(pos[:,:,0].flatten())\n",
    "    x_min = min(pos[:,:,0].flatten())\n",
    "    y_max = max(pos[:,:,1].flatten())\n",
    "    y_min = min(pos[:,:,1].flatten())\n",
    "    x_max = x_max + (x_max - x_min) * .1\n",
    "    x_min = x_min - (x_max - x_min) * .1\n",
    "    y_max = y_max + (y_max - y_min) * .1\n",
    "    y_min = y_min - (y_max - y_min) * .1\n",
    "    lims[p] = (x_min, x_max, y_min, y_max)\n",
    "\n",
    "    # Choose colors\n",
    "    colormap = matplotlib.cm.Set3\n",
    "    classes = indexes[p].str.split('-').str[0]\n",
    "    unique_colors = {k:i for i,k in enumerate(np.unique(classes))}\n",
    "    colors[p] = [colormap(unique_colors[c]) for c in classes] \n",
    "\n",
    "    # Add more points with akima interpolation\n",
    "    n_nans = 9\n",
    "    pos_int = []\n",
    "    for points in pos:\n",
    "        extended = []\n",
    "        for po in points:\n",
    "            extended.append(list(po))\n",
    "            for i in range(n_nans):\n",
    "                extended.append([np.nan, np.nan])\n",
    "        df = pd.DataFrame(extended)\n",
    "        df = df.interpolate(method='akima')\n",
    "        df = df.dropna()\n",
    "        pos_int.append(df.values)\n",
    "    pos_interp[p] = np.array(pos_int)\n",
    "    n_extended = len(df)"
   ]
  },
  {
   "cell_type": "code",
   "execution_count": 7,
   "metadata": {},
   "outputs": [
    {
     "data": {
      "application/vnd.jupyter.widget-view+json": {
       "model_id": "b3edb3e7e2034dcdbfb75fc6dd1d0067",
       "version_major": 2,
       "version_minor": 0
      },
      "text/plain": [
       "HBox(children=(IntProgress(value=0, max=5), HTML(value='')))"
      ]
     },
     "metadata": {},
     "output_type": "display_data"
    },
    {
     "name": "stdout",
     "output_type": "stream",
     "text": [
      "\n"
     ]
    }
   ],
   "source": [
    "anim_dir = 'Plots/Anim/{}'.format(dataset_id)\n",
    "# Draw figures\n",
    "size_trail = 5\n",
    "n_proj = len(projection_paths)\n",
    "\n",
    "n_extended = 5\n",
    "\n",
    "for t in tqdm_notebook(range(n_extended)):\n",
    "    if n_proj < 4:\n",
    "        fig, axes = plt.subplots(ncols=n_proj, nrows=1,figsize=(n_proj*5,5))\n",
    "    else:\n",
    "        ncols = 4\n",
    "        nrows = (n_proj-1) // 4 + 1\n",
    "        fig, axes = plt.subplots(ncols=ncols, nrows=nrows,figsize=(ncols*5,nrows*5))   \n",
    "        axes = axes.flatten()\n",
    "        if len(axes) > n_proj:\n",
    "            [ax.set_visible(False) for ax in axes[n_proj:len(axes)]]\n",
    "            \n",
    "    for p_i, p in enumerate(projection_paths):\n",
    "        # Draw trails\n",
    "        ax = axes[p_i]\n",
    "        ax.set_title(names[p_i])\n",
    "        for i in range(len(indexes[p])):\n",
    "            b_trail = max(0, t - n_nans * size_trail)\n",
    "            e_trail = t + 1\n",
    "            points = pos_interp[p][i,b_trail:e_trail]\n",
    "            ax.plot(points[:,1], points[:,0], \n",
    "                    c=colors[p][i], lw=2, alpha=0.5);\n",
    "        # Draw scatter\n",
    "        ax.scatter(pos_interp[p][:,t,1], pos_interp[p][:,t,0], \n",
    "                   edgecolors='#000000', s=15, c=colors[p], zorder=4);\n",
    "        # Write text with current t in the first axis\n",
    "        if p_i == 0:\n",
    "            current_t = int(t/(n_nans+1))\n",
    "            ax.text(0.01, 0.01, str(current_t), \n",
    "                    ha='left', va='bottom', fontsize=18, transform=ax.transAxes)\n",
    "\n",
    "        ax.tick_params(axis='both', which='both', bottom=False, top=False,\n",
    "                       labelbottom=False, right=False, left=False, labelleft=False)\n",
    "        ax.set_xlim(lims[p][0], lims[p][1])\n",
    "        ax.set_ylim(lims[p][2], lims[p][3])\n",
    "        plt.tight_layout()\n",
    "#      plt.axis('scaled')\n",
    "\n",
    "    # Save current frame\n",
    "    plt.savefig('{}/proj-{}.png'.format(anim_dir, t),\n",
    "                format='png', dpi=80, bbox_inches='tight')\n",
    "#     plt.show()\n",
    "    plt.clf()\n",
    "    plt.close()"
   ]
  },
  {
   "cell_type": "code",
   "execution_count": 8,
   "metadata": {},
   "outputs": [],
   "source": [
    "n = n_extended-1\n",
    "!convert -delay 5 -loop 0 {anim_dir}/proj-%d.png[0-{n}] {anim_dir}/{dataset_id}-gif.gif"
   ]
  },
  {
   "cell_type": "code",
   "execution_count": 9,
   "metadata": {},
   "outputs": [
    {
     "name": "stdout",
     "output_type": "stream",
     "text": [
      "/home/eduardo/PhD/Projections/dynamic-projections/Plots/Anim/quickdraw\r\n"
     ]
    }
   ],
   "source": [
    "os.chdir(anim_dir)\n",
    "! pwd"
   ]
  },
  {
   "cell_type": "code",
   "execution_count": 10,
   "metadata": {},
   "outputs": [],
   "source": [
    "#sudo apt install mencoder"
   ]
  },
  {
   "cell_type": "code",
   "execution_count": 11,
   "metadata": {},
   "outputs": [
    {
     "name": "stdout",
     "output_type": "stream",
     "text": [
      "MEncoder 1.2.1 (Debian), built with gcc-5.4.0 (C) 2000-2016 MPlayer Team\n",
      "\n",
      "WARNING: OUTPUT FILE FORMAT IS _AVI_. See -of help.\n",
      "success: format: 16  data: 0x0 - 0x0\n",
      "MF file format detected.\n",
      "[mf] number of files: 5\n",
      "VIDEO:  [MPNG]  0x0  24bpp  10.000 fps    0.0 kbps ( 0.0 kbyte/s)\n",
      "[V] filefmt:16  fourcc:0x474E504D  size:0x0  fps:10.000  ftime:=0.1000\n",
      "Opening video filter: [expand osd=1]\n",
      "Expand: -1 x -1, -1 ; -1, osd: 1, aspect: 0.000000, round: 1\n",
      "==========================================================================\n",
      "Opening video decoder: [ffmpeg] FFmpeg's libavcodec codec family\n",
      "libavcodec version 56.60.100 (external)\n",
      "Selected video codec: [ffpng] vfm: ffmpeg (FFmpeg PNG)\n",
      "==========================================================================\n",
      "Could not find matching colorspace - retrying with -vf scale...\n",
      "Opening video filter: [scale]\n",
      "Movie-Aspect is undefined - no prescaling applied.\n",
      "[swscaler @ 0x7f32c72a3fa0]bicubic scaler, from rgba to yuv420p using MMXEXT\n",
      "x264 [info]: using SAR=1/1\n",
      "x264 [info]: using cpu capabilities: MMX2 SSE2Fast SSSE3 SSE4.2 AVX FMA3 AVX2 LZCNT BMI2\n",
      "x264 [info]: profile High, level 3.2\n",
      "Movie-Aspect is 2.01:1 - prescaling to correct movie aspect.\n",
      "[swscaler @ 0x7f32c72a3fa0]Warning: data is not aligned! This can lead to a speedloss\n",
      "Pos:   0.5s      5f (100%)  0.00fps Trem:   0min   0mb  A-V:0.000 [0:0]\n",
      "\n",
      "Skipping frame!\n",
      "Pos:   0.5s      6f (100%)  0.00fps Trem:   0min   0mb  A-V:0.000 [0:0]\n",
      "\n",
      "Flushing video frames.\n",
      "Writing header...\n",
      "ODML: vprp aspect is 16384:8130.\n",
      "Writing header...\n",
      "ODML: vprp aspect is 16384:8130.\n",
      "Writing index...\n",
      "Writing header...\n",
      "ODML: vprp aspect is 16384:8130.\n",
      "\n",
      "Video stream: 1420.896 kbit/s  (177612 B/s)  size: 88806 bytes  0.500 secs  6 frames\n",
      "x264 [info]: frame I:1     Avg QP:15.24  size: 33216\n",
      "x264 [info]: frame P:1     Avg QP:26.26  size: 17616\n",
      "x264 [info]: frame B:3     Avg QP:23.88  size: 12658\n",
      "x264 [info]: consecutive B-frames: 20.0%  0.0%  0.0% 80.0%\n",
      "x264 [info]: mb I  I16..4: 50.0% 39.8% 10.2%\n",
      "x264 [info]: mb P  I16..4:  0.5%  0.7%  2.1%  P16..4:  2.2%  1.6%  1.1%  0.0%  0.0%    skip:91.8%\n",
      "x264 [info]: mb B  I16..4:  0.5%  0.1%  0.3%  B16..8:  2.7%  2.0%  1.7%  direct: 0.8%  skip:91.9%  L0:39.7% L1:29.1% BI:31.1%\n",
      "x264 [info]: final ratefactor: 22.08\n",
      "x264 [info]: 8x8 transform intra:38.5% inter:5.0%\n",
      "x264 [info]: coded y,uvDC,uvAC intra: 8.8% 8.1% 7.7% inter: 2.9% 1.7% 1.4%\n",
      "x264 [info]: i16 v,h,dc,p: 88% 12%  0%  0%\n",
      "x264 [info]: i8 v,h,dc,ddl,ddr,vr,hd,vl,hu: 36% 35% 28%  0%  0%  0%  0%  0%  0%\n",
      "x264 [info]: i4 v,h,dc,ddl,ddr,vr,hd,vl,hu: 28% 22% 23%  4%  5%  5%  5%  4%  5%\n",
      "x264 [info]: i8c dc,h,v,p: 95%  2%  2%  0%\n",
      "x264 [info]: Weighted P-Frames: Y:0.0% UV:0.0%\n",
      "x264 [info]: ref B L0: 91.3%  8.7%\n",
      "x264 [info]: ref B L1: 97.2%  2.8%\n",
      "x264 [info]: kb/s:1420.90\n"
     ]
    }
   ],
   "source": [
    "! ls | grep .*.png | sort -V > order.txt\n",
    "! mencoder mf://@order.txt -mf fps=10:type=png -ovc x264 -x264encopts bitrate=1200:threads=2 -o {dataset_id}-mkv.mkv\n",
    "! rm order.txt"
   ]
  }
 ],
 "metadata": {
  "celltoolbar": "Tags",
  "kernelspec": {
   "display_name": "Python 3",
   "language": "python",
   "name": "python3"
  },
  "language_info": {
   "codemirror_mode": {
    "name": "ipython",
    "version": 3
   },
   "file_extension": ".py",
   "mimetype": "text/x-python",
   "name": "python",
   "nbconvert_exporter": "python",
   "pygments_lexer": "ipython3",
   "version": "3.5.2"
  }
 },
 "nbformat": 4,
 "nbformat_minor": 2
}
