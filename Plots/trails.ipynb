{
 "cells": [
  {
   "cell_type": "code",
   "execution_count": 2,
   "metadata": {},
   "outputs": [],
   "source": [
    "%matplotlib inline\n",
    "\n",
    "import pandas as pd\n",
    "import numpy as np\n",
    "import matplotlib\n",
    "import matplotlib.pyplot as plt\n",
    "import os\n",
    "from tqdm import tqdm\n",
    "from glob import glob\n",
    "os.chdir('..')"
   ]
  },
  {
   "cell_type": "code",
   "execution_count": 3,
   "metadata": {
    "tags": [
     "parameters"
    ]
   },
   "outputs": [],
   "source": [
    "dataset_id = ''"
   ]
  },
  {
   "cell_type": "code",
   "execution_count": 4,
   "metadata": {},
   "outputs": [],
   "source": [
    "dataset_id = 'quickdraw'\n",
    "projection_paths = pd.read_csv('Metrics/Results/{}.csv'.format(dataset_id), index_col=0).index\n",
    "names = projection_paths.str.extract(r'.*/{}-(.*).csv'.format(dataset_id), expand=False) # Clean string"
   ]
  },
  {
   "cell_type": "code",
   "execution_count": 5,
   "metadata": {
    "scrolled": true
   },
   "outputs": [
    {
     "name": "stdout",
     "output_type": "stream",
     "text": [
      "Index(['Output/quickdraw-AE_784f_500f_500f_2000f_2f_20ep.csv',\n",
      "       'Output/quickdraw-C2AE_32c_32c_32c_1568f_2f_2ep.csv',\n",
      "       'Output/quickdraw-VAE_784f_2048f_1024f_512f_2f_0-25drop_10ep.csv',\n",
      "       'Output/quickdraw-C2VAE_32c_64c_128c_6272f_2f_10ep.csv',\n",
      "       'Output/quickdraw-tsne_s1_200p.csv',\n",
      "       'Output/quickdraw-dtsne_500p_0-5l.csv', 'Output/quickdraw-pca_s1.csv',\n",
      "       'Output/quickdraw-pca_s4.csv'],\n",
      "      dtype='object') quickdraw\n"
     ]
    }
   ],
   "source": [
    "dataset_path = '../Datasets/' + dataset_id + '/'\n",
    "print(projection_paths, dataset_id)"
   ]
  },
  {
   "cell_type": "code",
   "execution_count": 6,
   "metadata": {},
   "outputs": [
    {
     "name": "stdout",
     "output_type": "stream",
     "text": [
      "mkdir: cannot create directory ‘Plots/Anim/quickdraw’: File exists\r\n"
     ]
    }
   ],
   "source": [
    "!mkdir {'Plots/Anim/'+dataset_id}"
   ]
  },
  {
   "cell_type": "code",
   "execution_count": 7,
   "metadata": {},
   "outputs": [],
   "source": [
    "def get_projection_as_array(dataset_path):\n",
    "    df = pd.read_csv(dataset_path, index_col=0)\n",
    "    vs = df.values.reshape(len(df), -1, 2)\n",
    "    return vs, df.index, vs.shape[1]"
   ]
  },
  {
   "cell_type": "code",
   "execution_count": 8,
   "metadata": {},
   "outputs": [],
   "source": [
    "lims = {}\n",
    "pos_interp = {}\n",
    "indexes = {}\n",
    "colors = {}\n",
    "for p_i, p in enumerate(projection_paths):\n",
    "    pos, ind, n_timesteps = get_projection_as_array(p)\n",
    "    # Shuffle arrays\n",
    "    perm = np.random.permutation(len(ind))\n",
    "    pos = pos[perm]\n",
    "    indexes[p] = ind[perm]\n",
    "\n",
    "    # Set x and y axis limits\n",
    "    x_max = max(pos[:,:,0].flatten())\n",
    "    x_min = min(pos[:,:,0].flatten())\n",
    "    y_max = max(pos[:,:,1].flatten())\n",
    "    y_min = min(pos[:,:,1].flatten())\n",
    "    x_max = x_max + (x_max - x_min) * .1\n",
    "    x_min = x_min - (x_max - x_min) * .1\n",
    "    y_max = y_max + (y_max - y_min) * .1\n",
    "    y_min = y_min - (y_max - y_min) * .1\n",
    "    lims[p] = (x_min, x_max, y_min, y_max)\n",
    "\n",
    "    # Choose colors\n",
    "    colormap = matplotlib.cm.Set3\n",
    "    classes = indexes[p].str.split('-').str[0]\n",
    "    unique_colors = {k:i for i,k in enumerate(np.unique(classes))}\n",
    "    colors[p] = [colormap(unique_colors[c]) for c in classes] \n",
    "\n",
    "    # Add more points with akima interpolation\n",
    "    n_nans = 9\n",
    "    pos_int = []\n",
    "    for points in pos:\n",
    "        extended = []\n",
    "        for po in points:\n",
    "            extended.append(list(po))\n",
    "            for i in range(n_nans):\n",
    "                extended.append([np.nan, np.nan])\n",
    "        df = pd.DataFrame(extended)\n",
    "        df = df.interpolate(method='akima')\n",
    "        df = df.dropna()\n",
    "        pos_int.append(df.values)\n",
    "    pos_interp[p] = np.array(pos_int)\n",
    "    n_extended = len(df)"
   ]
  },
  {
   "cell_type": "code",
   "execution_count": null,
   "metadata": {},
   "outputs": [],
   "source": [
    "anim_dir = 'Plots/Anim/{}'.format(dataset_id)\n",
    "# Draw figures\n",
    "size_trail = 5\n",
    "n_proj = len(projection_paths)\n",
    "\n",
    "for t in tqdm(range(n_extended)):\n",
    "    if n_proj < 4:\n",
    "        fig, axes = plt.subplots(ncols=n_proj, nrows=1,figsize=(n_proj*5,5))\n",
    "    else:\n",
    "        ncols = 4\n",
    "        nrows = (n_proj-1) // 4 + 1\n",
    "        fig, axes = plt.subplots(ncols=ncols, nrows=nrows,figsize=(ncols*5,nrows*5))   \n",
    "        axes = axes.flatten()\n",
    "        if len(axes) > n_proj:\n",
    "            [ax.set_visible(False) for ax in axes[n_proj:len(axes)]]\n",
    "            \n",
    "    for p_i, p in enumerate(projection_paths):\n",
    "        # Draw trails\n",
    "        ax = axes[p_i]\n",
    "        ax.set_title(names[p_i])\n",
    "        for i in range(len(indexes[p])):\n",
    "            b_trail = max(0, t - n_nans * size_trail)\n",
    "            e_trail = t + 1\n",
    "            points = pos_interp[p][i,b_trail:e_trail]\n",
    "            ax.plot(points[:,1], points[:,0], \n",
    "                    c=colors[p][i], lw=2, alpha=0.5);\n",
    "        # Draw scatter\n",
    "        ax.scatter(pos_interp[p][:,t,1], pos_interp[p][:,t,0], \n",
    "                   edgecolors='#000000', s=15, c=colors[p], zorder=4);\n",
    "        # Write text with current t in the first axis\n",
    "        if p_i == 0:\n",
    "            current_t = int(t/(n_nans+1))\n",
    "            ax.text(0.01, 0.01, str(current_t), \n",
    "                    ha='left', va='bottom', fontsize=18, transform=ax.transAxes)\n",
    "\n",
    "        ax.tick_params(axis='both', which='both', bottom=False, top=False,\n",
    "                       labelbottom=False, right=False, left=False, labelleft=False)\n",
    "        ax.set_xlim(lims[p][0], lims[p][1])\n",
    "        ax.set_ylim(lims[p][2], lims[p][3])\n",
    "        plt.tight_layout()\n",
    "#      plt.axis('scaled')\n",
    "\n",
    "    # Save current frame\n",
    "    plt.savefig('{}/proj-{}.png'.format(anim_dir, t),\n",
    "                format='png', dpi=80, bbox_inches='tight')\n",
    "#     plt.show()\n",
    "    plt.clf()\n",
    "    plt.close()"
   ]
  },
  {
   "cell_type": "code",
   "execution_count": null,
   "metadata": {},
   "outputs": [],
   "source": [
    "# Generate gif - usually large\n",
    "# n = n_extended-1\n",
    "# !convert -delay 5 -loop 0 {anim_dir}/proj-%d.png[0-{n}] {anim_dir}/{dataset_id}-gif.gif"
   ]
  },
  {
   "cell_type": "code",
   "execution_count": 11,
   "metadata": {},
   "outputs": [
    {
     "ename": "NameError",
     "evalue": "name 'anim_dir' is not defined",
     "output_type": "error",
     "traceback": [
      "\u001b[0;31m---------------------------------------------------\u001b[0m",
      "\u001b[0;31mNameError\u001b[0m         Traceback (most recent call last)",
      "\u001b[0;32m<ipython-input-11-85980129c1ee>\u001b[0m in \u001b[0;36m<module>\u001b[0;34m\u001b[0m\n\u001b[0;32m----> 1\u001b[0;31m \u001b[0mos\u001b[0m\u001b[0;34m.\u001b[0m\u001b[0mchdir\u001b[0m\u001b[0;34m(\u001b[0m\u001b[0manim_dir\u001b[0m\u001b[0;34m)\u001b[0m\u001b[0;34m\u001b[0m\u001b[0m\n\u001b[0m\u001b[1;32m      2\u001b[0m \u001b[0mget_ipython\u001b[0m\u001b[0;34m(\u001b[0m\u001b[0;34m)\u001b[0m\u001b[0;34m.\u001b[0m\u001b[0msystem\u001b[0m\u001b[0;34m(\u001b[0m\u001b[0;34m' pwd'\u001b[0m\u001b[0;34m)\u001b[0m\u001b[0;34m\u001b[0m\u001b[0m\n",
      "\u001b[0;31mNameError\u001b[0m: name 'anim_dir' is not defined"
     ]
    }
   ],
   "source": [
    "os.chdir(anim_dir)\n",
    "! pwd"
   ]
  },
  {
   "cell_type": "code",
   "execution_count": null,
   "metadata": {},
   "outputs": [],
   "source": [
    "#sudo apt install mencoder"
   ]
  },
  {
   "cell_type": "code",
   "execution_count": null,
   "metadata": {},
   "outputs": [],
   "source": [
    "# Generate video\n",
    "! ls | grep .*.png | sort -V > order.txt\n",
    "! mencoder mf://@order.txt -mf fps=10:type=png -ovc x264 -x264encopts bitrate=1200:threads=2 -o {dataset_id}-avi.avi\n",
    "! rm order.txt"
   ]
  },
  {
   "cell_type": "code",
   "execution_count": 13,
   "metadata": {},
   "outputs": [
    {
     "ename": "NameError",
     "evalue": "name 'anim_dir' is not defined",
     "output_type": "error",
     "traceback": [
      "\u001b[0;31m---------------------------------------------------\u001b[0m",
      "\u001b[0;31mNameError\u001b[0m         Traceback (most recent call last)",
      "\u001b[0;32m<ipython-input-13-c155675b1e79>\u001b[0m in \u001b[0;36m<module>\u001b[0;34m\u001b[0m\n\u001b[1;32m      1\u001b[0m \u001b[0;32mfor\u001b[0m \u001b[0mi\u001b[0m \u001b[0;32min\u001b[0m \u001b[0mrange\u001b[0m\u001b[0;34m(\u001b[0m\u001b[0mn_extended\u001b[0m\u001b[0;34m)\u001b[0m\u001b[0;34m:\u001b[0m\u001b[0;34m\u001b[0m\u001b[0m\n\u001b[1;32m      2\u001b[0m     \u001b[0;32mif\u001b[0m \u001b[0mi\u001b[0m \u001b[0;34m%\u001b[0m \u001b[0;34m(\u001b[0m\u001b[0mn_nans\u001b[0m\u001b[0;34m+\u001b[0m\u001b[0;36m1\u001b[0m\u001b[0;34m)\u001b[0m \u001b[0;34m!=\u001b[0m \u001b[0;36m0\u001b[0m\u001b[0;34m:\u001b[0m\u001b[0;34m\u001b[0m\u001b[0m\n\u001b[0;32m----> 3\u001b[0;31m         \u001b[0mr\u001b[0m \u001b[0;34m=\u001b[0m \u001b[0;34m'{}/proj-{}.png'\u001b[0m\u001b[0;34m.\u001b[0m\u001b[0mformat\u001b[0m\u001b[0;34m(\u001b[0m\u001b[0manim_dir\u001b[0m\u001b[0;34m,\u001b[0m \u001b[0mi\u001b[0m\u001b[0;34m)\u001b[0m\u001b[0;34m\u001b[0m\u001b[0m\n\u001b[0m\u001b[1;32m      4\u001b[0m         \u001b[0mprint\u001b[0m\u001b[0;34m(\u001b[0m\u001b[0;34m'rm '\u001b[0m \u001b[0;34m+\u001b[0m \u001b[0mr\u001b[0m\u001b[0;34m)\u001b[0m\u001b[0;34m\u001b[0m\u001b[0m\n\u001b[1;32m      5\u001b[0m         \u001b[0mget_ipython\u001b[0m\u001b[0;34m(\u001b[0m\u001b[0;34m)\u001b[0m\u001b[0;34m.\u001b[0m\u001b[0msystem\u001b[0m\u001b[0;34m(\u001b[0m\u001b[0;34m' rm {r}'\u001b[0m\u001b[0;34m)\u001b[0m\u001b[0;34m\u001b[0m\u001b[0m\n",
      "\u001b[0;31mNameError\u001b[0m: name 'anim_dir' is not defined"
     ]
    }
   ],
   "source": [
    "for i in range(n_extended):\n",
    "    if i % (n_nans+1) != 0:\n",
    "        r = '{}/proj-{}.png'.format(anim_dir, i) \n",
    "        print('rm ' + r)\n",
    "        ! rm {r}"
   ]
  }
 ],
 "metadata": {
  "celltoolbar": "Tags",
  "kernelspec": {
   "display_name": "Python 3",
   "language": "python",
   "name": "python3"
  },
  "language_info": {
   "codemirror_mode": {
    "name": "ipython",
    "version": 3
   },
   "file_extension": ".py",
   "mimetype": "text/x-python",
   "name": "python",
   "nbconvert_exporter": "python",
   "pygments_lexer": "ipython3",
   "version": "3.5.2"
  }
 },
 "nbformat": 4,
 "nbformat_minor": 2
}
