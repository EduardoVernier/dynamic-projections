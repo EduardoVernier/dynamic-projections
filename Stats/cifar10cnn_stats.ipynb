{
 "cells": [
  {
   "cell_type": "code",
   "execution_count": 1,
   "metadata": {},
   "outputs": [
    {
     "name": "stdout",
     "output_type": "stream",
     "text": [
      "/home/ipsilva/Repositories/dynamic-projections/Datasets/\n",
      "/home/ipsilva/Repositories/dynamic-projections/Stats/Results/\n"
     ]
    }
   ],
   "source": [
    "import os\n",
    "\n",
    "curr_folder = os.getcwd() + \"/\"\n",
    "datasets_folder = curr_folder[:-6] + \"Datasets/\"\n",
    "stats_results_folder = curr_folder + \"Results/\"\n",
    "print(datasets_folder)\n",
    "print(stats_results_folder)"
   ]
  },
  {
   "cell_type": "code",
   "execution_count": 2,
   "metadata": {},
   "outputs": [
    {
     "data": {
      "text/plain": [
       "['/home/ipsilva/Repositories/dynamic-projections/Datasets/gaussians',\n",
       " '/home/ipsilva/Repositories/dynamic-projections/Datasets/quickdraw',\n",
       " '/home/ipsilva/Repositories/dynamic-projections/Datasets/sorts',\n",
       " '/home/ipsilva/Repositories/dynamic-projections/Datasets/walk',\n",
       " '/home/ipsilva/Repositories/dynamic-projections/Datasets/nnset',\n",
       " '/home/ipsilva/Repositories/dynamic-projections/Datasets/fashion',\n",
       " '/home/ipsilva/Repositories/dynamic-projections/Datasets/cifar10cnn',\n",
       " '/home/ipsilva/Repositories/dynamic-projections/Datasets/esc50',\n",
       " '/home/ipsilva/Repositories/dynamic-projections/Datasets/qtables',\n",
       " '/home/ipsilva/Repositories/dynamic-projections/Datasets/cartolastd']"
      ]
     },
     "execution_count": 2,
     "metadata": {},
     "output_type": "execute_result"
    }
   ],
   "source": [
    "datasets_subfolders = []\n",
    "for i in os.walk(datasets_folder):\n",
    "    datasets_subfolders.append(i[0])\n",
    "\n",
    "datasets_subfolders = datasets_subfolders[1:]\n",
    "datasets_subfolders"
   ]
  },
  {
   "cell_type": "code",
   "execution_count": 3,
   "metadata": {},
   "outputs": [
    {
     "data": {
      "text/plain": [
       "'/home/ipsilva/Repositories/dynamic-projections/Datasets/cifar10cnn'"
      ]
     },
     "execution_count": 3,
     "metadata": {},
     "output_type": "execute_result"
    }
   ],
   "source": [
    "dataset_number = 6\n",
    "selected_dataset = datasets_subfolders[dataset_number]\n",
    "selected_dataset"
   ]
  },
  {
   "cell_type": "code",
   "execution_count": 4,
   "metadata": {},
   "outputs": [
    {
     "data": {
      "text/plain": [
       "['cifar10cnn-13.csv',\n",
       " 'cifar10cnn-10.csv',\n",
       " 'cifar10cnn-1.csv',\n",
       " 'cifar10cnn-19.csv',\n",
       " 'cifar10cnn-15.csv']"
      ]
     },
     "execution_count": 4,
     "metadata": {},
     "output_type": "execute_result"
    }
   ],
   "source": [
    "from os import listdir\n",
    "from os.path import isfile, join\n",
    "\n",
    "files = [f for f in listdir(selected_dataset) if isfile(join(selected_dataset, f))]\n",
    "files[:5]"
   ]
  },
  {
   "cell_type": "code",
   "execution_count": 5,
   "metadata": {},
   "outputs": [
    {
     "name": "stdout",
     "output_type": "stream",
     "text": [
      "(30000, 10)          f0        f1        f2        f3        f4            f5        f6  \\\n",
      "0  0.010032  0.000353  0.049079  0.589695  0.011765  1.737237e-01  0.142289   \n",
      "1  0.216628  0.069888  0.000191  0.000006  0.000010  2.390075e-07  0.000001   \n",
      "2  0.146004  0.076302  0.003534  0.001641  0.000798  2.143449e-04  0.000436   \n",
      "3  0.368393  0.019264  0.006644  0.000372  0.000928  2.537523e-05  0.000089   \n",
      "4  0.000148  0.000288  0.063946  0.086240  0.499107  2.625506e-02  0.322843   \n",
      "\n",
      "             f7        f8        f9  \n",
      "0  3.916146e-03  0.018220  0.000927  \n",
      "1  6.826322e-07  0.708683  0.004592  \n",
      "2  3.172614e-04  0.733660  0.037093  \n",
      "3  3.487493e-04  0.598512  0.005424  \n",
      "4  8.312096e-04  0.000100  0.000241  \n"
     ]
    }
   ],
   "source": [
    "import pandas as pd\n",
    "import numpy as np\n",
    "\n",
    "df = pd.DataFrame()\n",
    "\n",
    "obs_per_timestep = []\n",
    "for file in files:\n",
    "    file_loc = selected_dataset + \"/\" + file\n",
    "    ndf = pd.read_csv(file_loc)\n",
    "    df = df.append(ndf)\n",
    "    obs_per_timestep.append(ndf.shape[0])\n",
    "    \n",
    "median_obs_per_timestep = np.median(obs_per_timestep)\n",
    "dev_obs_per_timestep = np.std(obs_per_timestep)\n",
    "\n",
    "df = df.drop(columns=df.columns[0], axis=1)\n",
    "print(df.shape, df.head())"
   ]
  },
  {
   "cell_type": "code",
   "execution_count": 6,
   "metadata": {},
   "outputs": [],
   "source": [
    "from sklearn.preprocessing import StandardScaler\n",
    "from sklearn.decomposition import PCA\n",
    "\n",
    "def intrisic_dim(dataframe, target_variance):\n",
    "    dataframe = StandardScaler().fit_transform(dataframe)\n",
    "    pca = PCA()\n",
    "\n",
    "    principalComponents = pca.fit_transform(dataframe)\n",
    "\n",
    "    list_variance = pca.explained_variance_ratio_\n",
    "\n",
    "    final_var = 0\n",
    "    dims = 0\n",
    "    for var in list_variance:\n",
    "        final_var += var\n",
    "        dims += 1\n",
    "        if final_var > target_variance:\n",
    "            break\n",
    "    return dims, final_var, principalComponents[:dims]"
   ]
  },
  {
   "cell_type": "code",
   "execution_count": 7,
   "metadata": {
    "scrolled": false
   },
   "outputs": [
    {
     "name": "stdout",
     "output_type": "stream",
     "text": [
      "Total time-steps: 30\n",
      "Registers per time-step (median): 1000.0\n",
      "Registers per time-step (deviation): 0.0\n",
      "Total dimensions: 10\n",
      "Intrinsic dimensions: 8\n",
      "Total variance: 0.9500292645836843\n"
     ]
    }
   ],
   "source": [
    "target_variance = 0.9\n",
    "\n",
    "(dims, final_var, components) = intrisic_dim(df, target_variance)\n",
    "\n",
    "print(\"Total time-steps:\", len(obs_per_timestep))\n",
    "print(\"Registers per time-step (median):\", median_obs_per_timestep)\n",
    "print(\"Registers per time-step (deviation):\", dev_obs_per_timestep)\n",
    "print(\"Total dimensions:\", df.shape[1])\n",
    "print(\"Intrinsic dimensions:\", dims)\n",
    "print(\"Total variance:\", final_var)"
   ]
  },
  {
   "cell_type": "code",
   "execution_count": 9,
   "metadata": {},
   "outputs": [],
   "source": [
    "fig_name = selected_dataset.split('/')[-1]"
   ]
  },
  {
   "cell_type": "code",
   "execution_count": 17,
   "metadata": {},
   "outputs": [
    {
     "name": "stdout",
     "output_type": "stream",
     "text": [
      "0.8\n"
     ]
    },
    {
     "data": {
      "image/png": "[encoded data removed]",
      "text/plain": [
       "<Figure size 432x288 with 1 Axes>"
      ]
     },
     "metadata": {
      "needs_background": "light"
     },
     "output_type": "display_data"
    }
   ],
   "source": [
    "from matplotlib.lines import Line2D\n",
    "import matplotlib.pyplot as plt\n",
    "\n",
    "max_size = 50**2\n",
    "\n",
    "fig, ax = plt.subplots(1,1)\n",
    "\n",
    "ratio_intrinsic_dim = dims/df.shape[1]\n",
    "size = max_size\n",
    "greater_variance_color = [0,0,1,0.5]\n",
    "complementary_variance_color = [1,0,0.95,0.5]\n",
    "\n",
    "print(ratio_intrinsic_dim)\n",
    "\n",
    "x = [0] + np.cos(np.linspace(0, 2 * np.pi * ratio_intrinsic_dim, 20)).tolist()\n",
    "y = [0] + np.sin(np.linspace(0, 2 * np.pi * ratio_intrinsic_dim, 20)).tolist()\n",
    "xy_instrinsic_dim = np.column_stack([x, y])\n",
    "\n",
    "x = [0] + np.cos(np.linspace(2 * np.pi * ratio_intrinsic_dim, 2 * np.pi, 20)).tolist()\n",
    "y = [0] + np.sin(np.linspace(2 * np.pi * ratio_intrinsic_dim, 2 * np.pi, 20)).tolist()\n",
    "xy_total_dim = np.column_stack([x, y])\n",
    "\n",
    "ax.scatter([fig_name], df.shape[1], marker=xy_total_dim,\n",
    "           s=size, c=[complementary_variance_color])\n",
    "ax.scatter([fig_name], df.shape[1], marker=xy_instrinsic_dim,\n",
    "           s=size, c=[greater_variance_color])\n",
    "\n",
    "legend_elements = (Line2D([0], [0], marker='o', color=greater_variance_color, lw=0, markersize=10, label='> 90% variance'),\n",
    "                   Line2D([0], [0], marker='o', color=complementary_variance_color, lw=0, markersize=10, label='< 10% variance'))\n",
    "leg = ax.legend(handles=legend_elements)\n",
    "\n",
    "ax.set_ylabel('Total dimensions')\n",
    "ax.yaxis.set_ticks([df.shape[1]])\n",
    "\n",
    "lim_x = ax.set_xlim(fig_name, 5)\n",
    "lim_x = ax.set_xlim(lim_x[0]-5, lim_x[1])\n",
    "\n",
    "lim_y = ax.set_ylim(0, df.shape[1]+df.shape[1]*0.2)\n",
    "\n",
    "ax.hlines([df.shape[1]], lim_x[0], fig_name, linestyle='--', lw=1)\n",
    "ax.vlines([fig_name], lim_y[0], df.shape[1], linestyle='--', lw=1)\n",
    "\n",
    "plt.xticks(rotation=60)\n",
    "\n",
    "plt.suptitle(fig_name + \" dataset dimensionality\", fontsize=14, weight='roman')\n",
    "plt.tight_layout()\n",
    "plt.subplots_adjust(top=0.9)\n",
    "\n",
    "plt.savefig(stats_results_folder+\"dimensionality_plots/\"+fig_name+\"_dimensionality\")"
   ]
  },
  {
   "cell_type": "code",
   "execution_count": 36,
   "metadata": {},
   "outputs": [
    {
     "data": {
      "image/png": "[encoded data removed]",
      "text/plain": [
       "<Figure size 720x720 with 12 Axes>"
      ]
     },
     "metadata": {
      "needs_background": "light"
     },
     "output_type": "display_data"
    }
   ],
   "source": [
    "import matplotlib.pyplot as plt\n",
    "\n",
    "# identifying distributions\n",
    "hists_ax = df.hist(bins=20, grid=False, figsize=(10,10), density=True)\n",
    "\n",
    "for arr in hists_ax:\n",
    "    for ax in arr:\n",
    "        ax.set_yticklabels([])\n",
    "        ax.set_xticklabels([])\n",
    "        \n",
    "plt.suptitle(fig_name + \" attribute's absolute distributions\", fontsize=15, weight='roman')\n",
    "plt.tight_layout()\n",
    "plt.subplots_adjust(top=0.925)\n",
    "plt.savefig(stats_results_folder+\"attribute_histograms/\"+fig_name+\"_attr_dist\")"
   ]
  },
  {
   "cell_type": "code",
   "execution_count": 40,
   "metadata": {},
   "outputs": [
    {
     "data": {
      "image/png": "[encoded data removed]",
      "text/plain": [
       "<Figure size 720x360 with 2 Axes>"
      ]
     },
     "metadata": {
      "needs_background": "light"
     },
     "output_type": "display_data"
    }
   ],
   "source": [
    "from sklearn.preprocessing import MinMaxScaler\n",
    "import matplotlib.pyplot as plt\n",
    "\n",
    "fig, axes = plt.subplots(nrows=1, ncols=2, figsize=(10,5))\n",
    "\n",
    "ax_box = df.plot.box(ax=axes[0])\n",
    "ax_box.set_xticklabels(ax_box.get_xticklabels(), rotation=60);\n",
    "ax_box.set_title(\"Standard\")\n",
    "\n",
    "min_max_scaler = MinMaxScaler()\n",
    "ax_norm_box = pd.DataFrame(min_max_scaler.fit_transform(pd.DataFrame(df)), columns=df.columns).plot.box(ax=axes[1])\n",
    "ax_norm_box.set_xticklabels(ax_norm_box.get_xticklabels(), rotation=60);\n",
    "ax_norm_box.set_title(\"Normalized\");\n",
    "\n",
    "plt.suptitle(fig_name + \" attribute' statistic distributions\", fontsize=15, weight='roman')\n",
    "plt.tight_layout()\n",
    "plt.subplots_adjust(top=0.88)\n",
    "\n",
    "plt.savefig(stats_results_folder+\"attribute_boxplots/\"+fig_name+\"_attr_statdist\")"
   ]
  },
  {
   "cell_type": "code",
   "execution_count": null,
   "metadata": {},
   "outputs": [],
   "source": []
  }
 ],
 "metadata": {
  "kernelspec": {
   "display_name": "Python 3",
   "language": "python",
   "name": "python3"
  },
  "language_info": {
   "codemirror_mode": {
    "name": "ipython",
    "version": 3
   },
   "file_extension": ".py",
   "mimetype": "text/x-python",
   "name": "python",
   "nbconvert_exporter": "python",
   "pygments_lexer": "ipython3",
   "version": "3.5.2"
  }
 },
 "nbformat": 4,
 "nbformat_minor": 2
}
