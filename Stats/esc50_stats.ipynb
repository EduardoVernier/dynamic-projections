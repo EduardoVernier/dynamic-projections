{
 "cells": [
  {
   "cell_type": "code",
   "execution_count": 1,
   "metadata": {},
   "outputs": [
    {
     "name": "stdout",
     "output_type": "stream",
     "text": [
      "/home/ipsilva/Repositories/dynamic-projections/Datasets/\n",
      "/home/ipsilva/Repositories/dynamic-projections/Stats/Results/\n"
     ]
    }
   ],
   "source": [
    "import os\n",
    "\n",
    "curr_folder = os.getcwd() + \"/\"\n",
    "datasets_folder = curr_folder[:-6] + \"Datasets/\"\n",
    "stats_results_folder = curr_folder + \"Results/\"\n",
    "print(datasets_folder)\n",
    "print(stats_results_folder)"
   ]
  },
  {
   "cell_type": "code",
   "execution_count": 2,
   "metadata": {},
   "outputs": [
    {
     "data": {
      "text/plain": [
       "['/home/ipsilva/Repositories/dynamic-projections/Datasets/gaussians',\n",
       " '/home/ipsilva/Repositories/dynamic-projections/Datasets/quickdraw',\n",
       " '/home/ipsilva/Repositories/dynamic-projections/Datasets/sorts',\n",
       " '/home/ipsilva/Repositories/dynamic-projections/Datasets/walk',\n",
       " '/home/ipsilva/Repositories/dynamic-projections/Datasets/nnset',\n",
       " '/home/ipsilva/Repositories/dynamic-projections/Datasets/fashion',\n",
       " '/home/ipsilva/Repositories/dynamic-projections/Datasets/cifar10cnn',\n",
       " '/home/ipsilva/Repositories/dynamic-projections/Datasets/esc50',\n",
       " '/home/ipsilva/Repositories/dynamic-projections/Datasets/qtables',\n",
       " '/home/ipsilva/Repositories/dynamic-projections/Datasets/cartolastd']"
      ]
     },
     "execution_count": 2,
     "metadata": {},
     "output_type": "execute_result"
    }
   ],
   "source": [
    "datasets_subfolders = []\n",
    "for i in os.walk(datasets_folder):\n",
    "    datasets_subfolders.append(i[0])\n",
    "\n",
    "datasets_subfolders = datasets_subfolders[1:]\n",
    "datasets_subfolders"
   ]
  },
  {
   "cell_type": "code",
   "execution_count": 3,
   "metadata": {},
   "outputs": [
    {
     "data": {
      "text/plain": [
       "'/home/ipsilva/Repositories/dynamic-projections/Datasets/esc50'"
      ]
     },
     "execution_count": 3,
     "metadata": {},
     "output_type": "execute_result"
    }
   ],
   "source": [
    "dataset_number = 7\n",
    "selected_dataset = datasets_subfolders[dataset_number]\n",
    "selected_dataset"
   ]
  },
  {
   "cell_type": "code",
   "execution_count": 4,
   "metadata": {},
   "outputs": [
    {
     "data": {
      "text/plain": [
       "['esc50-100.csv',\n",
       " 'esc50-88.csv',\n",
       " 'esc50-68.csv',\n",
       " 'esc50-90.csv',\n",
       " 'esc50-102.csv']"
      ]
     },
     "execution_count": 4,
     "metadata": {},
     "output_type": "execute_result"
    }
   ],
   "source": [
    "from os import listdir\n",
    "from os.path import isfile, join\n",
    "\n",
    "files = [f for f in listdir(selected_dataset) if isfile(join(selected_dataset, f))]\n",
    "files[:5]"
   ]
  },
  {
   "cell_type": "code",
   "execution_count": 5,
   "metadata": {},
   "outputs": [
    {
     "name": "stdout",
     "output_type": "stream",
     "text": [
      "(34560, 128)         0         1         2         3         4         5         6    \\\n",
      "0  0.893591  0.881061  0.859159  0.834986  0.814445  0.784877  0.758748   \n",
      "1  0.878150  0.870891  0.847291  0.813527  0.778361  0.735661  0.702460   \n",
      "2  0.516475  0.529808  0.540790  0.551289  0.562773  0.565186  0.566901   \n",
      "3  0.395895  0.406114  0.416875  0.429916  0.445495  0.454088  0.461425   \n",
      "4  0.501981  0.521588  0.540918  0.559567  0.575336  0.575612  0.570660   \n",
      "\n",
      "        7         8         9    ...       118       119       120       121  \\\n",
      "0  0.739336  0.728934  0.727744  ...  0.595333  0.596239  0.597528  0.598795   \n",
      "1  0.683019  0.677538  0.683377  ...  0.537299  0.533330  0.525200  0.515340   \n",
      "2  0.569697  0.573325  0.576822  ...  0.707336  0.709125  0.711539  0.714764   \n",
      "3  0.469233  0.477615  0.484979  ...  0.672224  0.670170  0.664536  0.656302   \n",
      "4  0.566212  0.564015  0.562138  ...  0.743481  0.748923  0.753665  0.756441   \n",
      "\n",
      "        122       123       124       125       126       127  \n",
      "0  0.598103  0.592369  0.579287  0.558280  0.533356  0.508604  \n",
      "1  0.505566  0.495414  0.482732  0.465213  0.444426  0.422997  \n",
      "2  0.717794  0.718496  0.714718  0.704615  0.690818  0.676298  \n",
      "3  0.647216  0.638159  0.628022  0.613794  0.595939  0.576237  \n",
      "4  0.755493  0.748741  0.735286  0.715306  0.693024  0.671790  \n",
      "\n",
      "[5 rows x 128 columns]\n"
     ]
    }
   ],
   "source": [
    "from sklearn.preprocessing import MinMaxScaler\n",
    "from itertools import product\n",
    "import pandas as pd\n",
    "import numpy as np\n",
    "\n",
    "df = pd.DataFrame()\n",
    "\n",
    "obs_per_timestep = []\n",
    "for file in files:\n",
    "    file_loc = selected_dataset + \"/\" + file\n",
    "    ndf = pd.read_csv(file_loc)\n",
    "    df = df.append(ndf)\n",
    "    obs_per_timestep.append(ndf.shape[0])\n",
    "    \n",
    "median_obs_per_timestep = np.median(obs_per_timestep)\n",
    "dev_obs_per_timestep = np.std(obs_per_timestep)\n",
    "\n",
    "min_max_scaler = MinMaxScaler()\n",
    "df = pd.DataFrame(min_max_scaler.fit_transform(df.drop(columns=df.columns[0], axis=1)))\n",
    "print(df.shape, df.head())"
   ]
  },
  {
   "cell_type": "code",
   "execution_count": 6,
   "metadata": {},
   "outputs": [],
   "source": [
    "from sklearn.decomposition import PCA\n",
    "\n",
    "def intrisic_dim(dataframe, target_variance):\n",
    "    pca = PCA()\n",
    "\n",
    "    principalComponents = pca.fit_transform(df)\n",
    "\n",
    "    list_variance = pca.explained_variance_ratio_\n",
    "\n",
    "    final_var = 0\n",
    "    dims = 0\n",
    "    for var in list_variance:\n",
    "        final_var += var\n",
    "        dims += 1\n",
    "        if final_var > target_variance:\n",
    "            break\n",
    "    return dims, final_var, principalComponents[:dims]"
   ]
  },
  {
   "cell_type": "code",
   "execution_count": 7,
   "metadata": {
    "scrolled": false
   },
   "outputs": [
    {
     "name": "stdout",
     "output_type": "stream",
     "text": [
      "Total time-steps: 108\n",
      "Registers per time-step (median): 320.0\n",
      "Registers per time-step (deviation): 0.0\n",
      "Total dimensions: 128\n",
      "Intrinsic dimensions: 3\n",
      "Total variance: 0.9229026005300335\n"
     ]
    }
   ],
   "source": [
    "target_variance = 0.9\n",
    "\n",
    "(dims, final_var, components) = intrisic_dim(df, target_variance)\n",
    "\n",
    "print(\"Total time-steps:\", len(obs_per_timestep))\n",
    "print(\"Registers per time-step (median):\", median_obs_per_timestep)\n",
    "print(\"Registers per time-step (deviation):\", dev_obs_per_timestep)\n",
    "print(\"Total dimensions:\", df.shape[1])\n",
    "print(\"Intrinsic dimensions:\", dims)\n",
    "print(\"Total variance:\", final_var)"
   ]
  },
  {
   "cell_type": "code",
   "execution_count": 8,
   "metadata": {},
   "outputs": [],
   "source": [
    "import matplotlib.pyplot as plt\n",
    "\n",
    "# identifying distributions\n",
    "hists_ax = df.hist(bins=20, grid=False, figsize=(10,10), density=True)\n",
    "\n",
    "for arr in hists_ax:\n",
    "    for ax in arr:\n",
    "        ax.set_yticklabels([])\n",
    "        ax.set_xticklabels([])\n",
    "        \n",
    "fig_name = selected_dataset.split('/')[-1]\n",
    "plt.suptitle(fig_name + \" probability distributions\", fontsize=15, weight='roman')\n",
    "plt.tight_layout()\n",
    "plt.subplots_adjust(top=0.925)\n",
    "plt.savefig(stats_results_folder+\"attribute_histograms/\"+fig_name+\"_prob_dist\")"
   ]
  },
  {
   "cell_type": "code",
   "execution_count": null,
   "metadata": {},
   "outputs": [],
   "source": []
  }
 ],
 "metadata": {
  "kernelspec": {
   "display_name": "Python 3",
   "language": "python",
   "name": "python3"
  },
  "language_info": {
   "codemirror_mode": {
    "name": "ipython",
    "version": 3
   },
   "file_extension": ".py",
   "mimetype": "text/x-python",
   "name": "python",
   "nbconvert_exporter": "python",
   "pygments_lexer": "ipython3",
   "version": "3.5.2"
  }
 },
 "nbformat": 4,
 "nbformat_minor": 2
}
