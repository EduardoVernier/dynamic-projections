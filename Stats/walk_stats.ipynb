{
 "cells": [
  {
   "cell_type": "code",
   "execution_count": 1,
   "metadata": {},
   "outputs": [
    {
     "name": "stdout",
     "output_type": "stream",
     "text": [
      "/home/ipsilva/Repositories/dynamic-projections/Datasets/\n",
      "/home/ipsilva/Repositories/dynamic-projections/Stats/Results/\n"
     ]
    }
   ],
   "source": [
    "import os\n",
    "\n",
    "curr_folder = os.getcwd() + \"/\"\n",
    "datasets_folder = curr_folder[:-6] + \"Datasets/\"\n",
    "stats_results_folder = curr_folder + \"Results/\"\n",
    "print(datasets_folder)\n",
    "print(stats_results_folder)"
   ]
  },
  {
   "cell_type": "code",
   "execution_count": 2,
   "metadata": {},
   "outputs": [
    {
     "data": {
      "text/plain": [
       "['/home/ipsilva/Repositories/dynamic-projections/Datasets/gaussians',\n",
       " '/home/ipsilva/Repositories/dynamic-projections/Datasets/quickdraw',\n",
       " '/home/ipsilva/Repositories/dynamic-projections/Datasets/sorts',\n",
       " '/home/ipsilva/Repositories/dynamic-projections/Datasets/walk',\n",
       " '/home/ipsilva/Repositories/dynamic-projections/Datasets/nnset',\n",
       " '/home/ipsilva/Repositories/dynamic-projections/Datasets/fashion',\n",
       " '/home/ipsilva/Repositories/dynamic-projections/Datasets/cifar10cnn',\n",
       " '/home/ipsilva/Repositories/dynamic-projections/Datasets/esc50',\n",
       " '/home/ipsilva/Repositories/dynamic-projections/Datasets/qtables',\n",
       " '/home/ipsilva/Repositories/dynamic-projections/Datasets/cartolastd']"
      ]
     },
     "execution_count": 2,
     "metadata": {},
     "output_type": "execute_result"
    }
   ],
   "source": [
    "datasets_subfolders = []\n",
    "for i in os.walk(datasets_folder):\n",
    "    datasets_subfolders.append(i[0])\n",
    "\n",
    "datasets_subfolders = datasets_subfolders[1:]\n",
    "datasets_subfolders"
   ]
  },
  {
   "cell_type": "code",
   "execution_count": 3,
   "metadata": {},
   "outputs": [
    {
     "data": {
      "text/plain": [
       "'/home/ipsilva/Repositories/dynamic-projections/Datasets/walk'"
      ]
     },
     "execution_count": 3,
     "metadata": {},
     "output_type": "execute_result"
    }
   ],
   "source": [
    "dataset_number = 3\n",
    "selected_dataset = datasets_subfolders[dataset_number]\n",
    "selected_dataset"
   ]
  },
  {
   "cell_type": "code",
   "execution_count": 4,
   "metadata": {},
   "outputs": [
    {
     "data": {
      "text/plain": [
       "['walk-32.csv', 'walk-9.csv', 'walk-13.csv', 'walk-40.csv', 'walk-4.csv']"
      ]
     },
     "execution_count": 4,
     "metadata": {},
     "output_type": "execute_result"
    }
   ],
   "source": [
    "from os import listdir\n",
    "from os.path import isfile, join\n",
    "\n",
    "files = [f for f in listdir(selected_dataset) if isfile(join(selected_dataset, f))]\n",
    "files[:5]"
   ]
  },
  {
   "cell_type": "code",
   "execution_count": 5,
   "metadata": {},
   "outputs": [
    {
     "name": "stdout",
     "output_type": "stream",
     "text": [
      "(15000, 100)          0         1         2         3         4         5         6   \\\n",
      "0  0.719385  0.479067  0.437060  0.648702  0.630972  0.726107  0.601943   \n",
      "1  0.418759  0.561064  0.372445  0.333939  0.418129  0.315134  0.467605   \n",
      "2  0.544158  0.253494  0.532652  0.647772  0.691843  0.387712  0.571033   \n",
      "3  0.240812  0.546189  0.777406  0.570489  0.268278  0.535551  0.504847   \n",
      "4  0.193761  0.583883  0.459803  0.437561  0.594751  0.664078  0.751011   \n",
      "\n",
      "         7         8         9   ...        90        91        92        93  \\\n",
      "0  0.332192  0.637675  0.299020  ...  0.520356  0.332268  0.526429  0.564325   \n",
      "1  0.342318  0.354389  0.452754  ...  0.457031  0.690341  0.244814  0.356854   \n",
      "2  0.483193  0.526940  0.665484  ...  0.274776  0.640374  0.767704  0.549041   \n",
      "3  0.616460  0.441160  0.517919  ...  0.768270  0.567163  0.267984  0.267748   \n",
      "4  0.054837  0.456378  0.429461  ...  0.330103  0.332421  0.423307  0.648107   \n",
      "\n",
      "         94        95        96        97        98        99  \n",
      "0  0.504028  0.493608  0.477276  0.491688  0.557109  0.510288  \n",
      "1  0.401984  0.299796  0.425279  0.510236  0.300271  0.208670  \n",
      "2  0.880692  0.623203  0.856714  0.540096  0.744724  0.503247  \n",
      "3  0.659454  0.642423  0.519098  0.552502  0.307772  0.711704  \n",
      "4  0.571636  0.550447  0.452176  0.624012  0.519717  0.589311  \n",
      "\n",
      "[5 rows x 100 columns]\n"
     ]
    }
   ],
   "source": [
    "from sklearn.preprocessing import MinMaxScaler\n",
    "from itertools import product\n",
    "import pandas as pd\n",
    "import numpy as np\n",
    "\n",
    "df = pd.DataFrame()\n",
    "\n",
    "obs_per_timestep = []\n",
    "for file in files:\n",
    "    file_loc = selected_dataset + \"/\" + file\n",
    "    ndf = pd.read_csv(file_loc)\n",
    "    df = df.append(ndf)\n",
    "    obs_per_timestep.append(ndf.shape[0])\n",
    "    \n",
    "median_obs_per_timestep = np.median(obs_per_timestep)\n",
    "dev_obs_per_timestep = np.std(obs_per_timestep)\n",
    "\n",
    "min_max_scaler = MinMaxScaler()\n",
    "df = pd.DataFrame(min_max_scaler.fit_transform(df.drop(columns=df.columns[0], axis=1)))\n",
    "print(df.shape, df.head())"
   ]
  },
  {
   "cell_type": "code",
   "execution_count": 6,
   "metadata": {},
   "outputs": [],
   "source": [
    "from sklearn.decomposition import PCA\n",
    "\n",
    "def intrisic_dim(dataframe, target_variance):\n",
    "    pca = PCA()\n",
    "\n",
    "    principalComponents = pca.fit_transform(df)\n",
    "\n",
    "    list_variance = pca.explained_variance_ratio_\n",
    "    final_var = 0\n",
    "    dims = 0\n",
    "    for var in list_variance:\n",
    "        final_var += var\n",
    "        dims += 1\n",
    "        if final_var > target_variance:\n",
    "            break\n",
    "    return dims, final_var, principalComponents[:dims]"
   ]
  },
  {
   "cell_type": "code",
   "execution_count": 7,
   "metadata": {},
   "outputs": [
    {
     "name": "stdout",
     "output_type": "stream",
     "text": [
      "Total time-steps: 50\n",
      "Registers per time-step (median): 300.0\n",
      "Registers per time-step (deviation): 0.0\n",
      "Total dimensions: 100\n",
      "Intrinsic dimensions: 30\n",
      "Total variance: 0.9024231686676315\n"
     ]
    }
   ],
   "source": [
    "target_variance = 0.9\n",
    "\n",
    "(dims, final_var, components) = intrisic_dim(df, target_variance)\n",
    "\n",
    "print(\"Total time-steps:\", len(obs_per_timestep))\n",
    "print(\"Registers per time-step (median):\", median_obs_per_timestep)\n",
    "print(\"Registers per time-step (deviation):\", dev_obs_per_timestep)\n",
    "print(\"Total dimensions:\", df.shape[1])\n",
    "print(\"Intrinsic dimensions:\", dims)\n",
    "print(\"Total variance:\", final_var)"
   ]
  },
  {
   "cell_type": "code",
   "execution_count": 8,
   "metadata": {},
   "outputs": [],
   "source": [
    "import matplotlib.pyplot as plt\n",
    "\n",
    "# identifying distributions\n",
    "hists_ax = df.hist(bins=20, grid=False, figsize=(10,10), density=True)\n",
    "\n",
    "for arr in hists_ax:\n",
    "    for ax in arr:\n",
    "        ax.set_yticklabels([])\n",
    "        ax.set_xticklabels([])\n",
    "        \n",
    "fig_name = selected_dataset.split('/')[-1]\n",
    "plt.suptitle(fig_name + \" probability distributions\", fontsize=15, weight='roman')\n",
    "plt.tight_layout()\n",
    "plt.subplots_adjust(top=0.925)\n",
    "plt.savefig(stats_results_folder+\"attribute_histograms/\"+fig_name+\"_prob_dist\")"
   ]
  },
  {
   "cell_type": "code",
   "execution_count": null,
   "metadata": {},
   "outputs": [],
   "source": []
  }
 ],
 "metadata": {
  "kernelspec": {
   "display_name": "Python 3",
   "language": "python",
   "name": "python3"
  },
  "language_info": {
   "codemirror_mode": {
    "name": "ipython",
    "version": 3
   },
   "file_extension": ".py",
   "mimetype": "text/x-python",
   "name": "python",
   "nbconvert_exporter": "python",
   "pygments_lexer": "ipython3",
   "version": "3.5.2"
  }
 },
 "nbformat": 4,
 "nbformat_minor": 2
}
