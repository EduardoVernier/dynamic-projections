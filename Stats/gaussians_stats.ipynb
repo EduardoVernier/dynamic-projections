{
 "cells": [
  {
   "cell_type": "code",
   "execution_count": 1,
   "metadata": {},
   "outputs": [
    {
     "name": "stdout",
     "output_type": "stream",
     "text": [
      "/home/ipsilva/Repositories/dynamic-projections/Datasets/\n",
      "/home/ipsilva/Repositories/dynamic-projections/Stats/Results/\n"
     ]
    }
   ],
   "source": [
    "import os\n",
    "\n",
    "curr_folder = os.getcwd() + \"/\"\n",
    "datasets_folder = curr_folder[:-6] + \"Datasets/\"\n",
    "stats_results_folder = curr_folder + \"Results/\"\n",
    "print(datasets_folder)\n",
    "print(stats_results_folder)"
   ]
  },
  {
   "cell_type": "code",
   "execution_count": 2,
   "metadata": {},
   "outputs": [
    {
     "data": {
      "text/plain": [
       "['/home/ipsilva/Repositories/dynamic-projections/Datasets/gaussians',\n",
       " '/home/ipsilva/Repositories/dynamic-projections/Datasets/quickdraw',\n",
       " '/home/ipsilva/Repositories/dynamic-projections/Datasets/sorts',\n",
       " '/home/ipsilva/Repositories/dynamic-projections/Datasets/walk',\n",
       " '/home/ipsilva/Repositories/dynamic-projections/Datasets/nnset',\n",
       " '/home/ipsilva/Repositories/dynamic-projections/Datasets/fashion',\n",
       " '/home/ipsilva/Repositories/dynamic-projections/Datasets/cifar10cnn',\n",
       " '/home/ipsilva/Repositories/dynamic-projections/Datasets/esc50',\n",
       " '/home/ipsilva/Repositories/dynamic-projections/Datasets/qtables',\n",
       " '/home/ipsilva/Repositories/dynamic-projections/Datasets/cartolastd']"
      ]
     },
     "execution_count": 2,
     "metadata": {},
     "output_type": "execute_result"
    }
   ],
   "source": [
    "datasets_subfolders = []\n",
    "for i in os.walk(datasets_folder):\n",
    "    datasets_subfolders.append(i[0])\n",
    "\n",
    "datasets_subfolders = datasets_subfolders[1:]\n",
    "datasets_subfolders"
   ]
  },
  {
   "cell_type": "code",
   "execution_count": 3,
   "metadata": {},
   "outputs": [
    {
     "data": {
      "text/plain": [
       "'/home/ipsilva/Repositories/dynamic-projections/Datasets/gaussians'"
      ]
     },
     "execution_count": 3,
     "metadata": {},
     "output_type": "execute_result"
    }
   ],
   "source": [
    "dataset_number = 0\n",
    "selected_dataset = datasets_subfolders[dataset_number]\n",
    "selected_dataset"
   ]
  },
  {
   "cell_type": "code",
   "execution_count": 4,
   "metadata": {},
   "outputs": [
    {
     "data": {
      "text/plain": [
       "['gaussians-5.csv',\n",
       " 'gaussians-3.csv',\n",
       " 'gaussians-0.csv',\n",
       " 'gaussians-2.csv',\n",
       " 'gaussians-6.csv']"
      ]
     },
     "execution_count": 4,
     "metadata": {},
     "output_type": "execute_result"
    }
   ],
   "source": [
    "from os import listdir\n",
    "from os.path import isfile, join\n",
    "\n",
    "files = [f for f in listdir(selected_dataset) if isfile(join(selected_dataset, f))]\n",
    "files[:5]"
   ]
  },
  {
   "cell_type": "code",
   "execution_count": 5,
   "metadata": {},
   "outputs": [
    {
     "name": "stdout",
     "output_type": "stream",
     "text": [
      "(20000, 100)          0         1         2         3         4         5         6   \\\n",
      "0  0.530142  0.495118  0.385638  0.500342  0.511417  0.533485  0.497092   \n",
      "1  0.520969  0.494992  0.375561  0.494886  0.508571  0.543360  0.499705   \n",
      "2  0.532845  0.498663  0.378882  0.501165  0.519510  0.528451  0.494986   \n",
      "3  0.524346  0.499002  0.380514  0.492182  0.517581  0.534326  0.498844   \n",
      "4  0.533763  0.489745  0.381589  0.494883  0.504085  0.535719  0.499199   \n",
      "\n",
      "         7         8         9   ...        90        91        92        93  \\\n",
      "0  0.494619  0.533231  0.483606  ...  0.498367  0.529469  0.552982  0.353367   \n",
      "1  0.495869  0.545141  0.472459  ...  0.488040  0.525182  0.545578  0.341740   \n",
      "2  0.491554  0.535580  0.477116  ...  0.491223  0.523522  0.553152  0.341100   \n",
      "3  0.490597  0.537239  0.487051  ...  0.493648  0.518867  0.551000  0.346478   \n",
      "4  0.490602  0.533075  0.473207  ...  0.491117  0.514891  0.541098  0.346461   \n",
      "\n",
      "         94        95        96        97        98        99  \n",
      "0  0.545801  0.350351  0.513180  0.456121  0.481549  0.562383  \n",
      "1  0.547572  0.346731  0.512231  0.467439  0.478815  0.562793  \n",
      "2  0.538315  0.347933  0.515536  0.465726  0.477302  0.558797  \n",
      "3  0.539530  0.350622  0.508570  0.464389  0.473475  0.562327  \n",
      "4  0.541550  0.350965  0.516066  0.466899  0.486035  0.567504  \n",
      "\n",
      "[5 rows x 100 columns]\n"
     ]
    }
   ],
   "source": [
    "from sklearn.preprocessing import MinMaxScaler\n",
    "from itertools import product\n",
    "import pandas as pd\n",
    "import numpy as np\n",
    "\n",
    "df = pd.DataFrame()\n",
    "\n",
    "obs_per_timestep = []\n",
    "for file in files:\n",
    "    file_loc = selected_dataset + \"/\" + file\n",
    "    ndf = pd.read_csv(file_loc)\n",
    "    df = df.append(ndf)\n",
    "    obs_per_timestep.append(ndf.shape[0])\n",
    "    \n",
    "median_obs_per_timestep = np.median(obs_per_timestep)\n",
    "dev_obs_per_timestep = np.std(obs_per_timestep)\n",
    "\n",
    "min_max_scaler = MinMaxScaler()\n",
    "df = pd.DataFrame(min_max_scaler.fit_transform(df.drop(columns=df.columns[0], axis=1)))\n",
    "print(df.shape, df.head())"
   ]
  },
  {
   "cell_type": "code",
   "execution_count": 6,
   "metadata": {},
   "outputs": [],
   "source": [
    "from sklearn.decomposition import PCA\n",
    "\n",
    "def intrisic_dim(dataframe, target_variance):\n",
    "    pca = PCA()\n",
    "\n",
    "    principalComponents = pca.fit_transform(df)\n",
    "\n",
    "    list_variance = pca.explained_variance_ratio_\n",
    "\n",
    "    final_var = 0\n",
    "    dims = 0\n",
    "    for var in list_variance:\n",
    "        final_var += var\n",
    "        dims += 1\n",
    "        if final_var > target_variance:\n",
    "            break\n",
    "    return dims, final_var, principalComponents[:dims]"
   ]
  },
  {
   "cell_type": "code",
   "execution_count": 7,
   "metadata": {},
   "outputs": [
    {
     "name": "stdout",
     "output_type": "stream",
     "text": [
      "Total time-steps: 10\n",
      "Registers per time-step (median): 2000.0\n",
      "Registers per time-step (deviation): 0.0\n",
      "Total dimensions: 100\n",
      "Intrinsic dimensions: 81\n",
      "Total variance: 0.9050168566895201\n"
     ]
    }
   ],
   "source": [
    "target_variance = 0.9\n",
    "\n",
    "(dims, final_var, components) = intrisic_dim(df, target_variance)\n",
    "\n",
    "print(\"Total time-steps:\", len(obs_per_timestep))\n",
    "print(\"Registers per time-step (median):\", median_obs_per_timestep)\n",
    "print(\"Registers per time-step (deviation):\", dev_obs_per_timestep)\n",
    "print(\"Total dimensions:\", df.shape[1])\n",
    "print(\"Intrinsic dimensions:\", dims)\n",
    "print(\"Total variance:\", final_var)"
   ]
  },
  {
   "cell_type": "code",
   "execution_count": 8,
   "metadata": {},
   "outputs": [],
   "source": [
    "import matplotlib.pyplot as plt\n",
    "\n",
    "# identifying distributions\n",
    "hists_ax = df.hist(bins=20, grid=False, figsize=(10,10), density=True)\n",
    "\n",
    "for arr in hists_ax:\n",
    "    for ax in arr:\n",
    "        ax.set_yticklabels([])\n",
    "        ax.set_xticklabels([])\n",
    "        \n",
    "fig_name = selected_dataset.split('/')[-1]\n",
    "plt.suptitle(fig_name + \" probability distributions\", fontsize=15, weight='roman')\n",
    "plt.tight_layout()\n",
    "plt.subplots_adjust(top=0.925)\n",
    "plt.savefig(stats_results_folder+\"attribute_histograms/\"+fig_name+\"_prob_dist\")"
   ]
  },
  {
   "cell_type": "code",
   "execution_count": null,
   "metadata": {},
   "outputs": [],
   "source": []
  }
 ],
 "metadata": {
  "kernelspec": {
   "display_name": "Python 3",
   "language": "python",
   "name": "python3"
  },
  "language_info": {
   "codemirror_mode": {
    "name": "ipython",
    "version": 3
   },
   "file_extension": ".py",
   "mimetype": "text/x-python",
   "name": "python",
   "nbconvert_exporter": "python",
   "pygments_lexer": "ipython3",
   "version": "3.5.2"
  }
 },
 "nbformat": 4,
 "nbformat_minor": 2
}
