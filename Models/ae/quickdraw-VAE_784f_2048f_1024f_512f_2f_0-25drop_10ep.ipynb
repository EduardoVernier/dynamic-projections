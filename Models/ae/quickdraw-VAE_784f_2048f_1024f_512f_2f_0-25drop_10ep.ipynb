{
 "cells": [
  {
   "cell_type": "code",
   "execution_count": 1,
   "metadata": {},
   "outputs": [
    {
     "name": "stderr",
     "output_type": "stream",
     "text": [
      "Using TensorFlow backend.\n"
     ]
    }
   ],
   "source": [
    "%matplotlib inline \n",
    "import keras\n",
    "import numpy as np\n",
    "import pandas as pd\n",
    "import matplotlib.pyplot as plt\n",
    "import matplotlib.patches as patches\n",
    "import cv2\n",
    "import glob\n",
    "import random\n",
    "import re\n",
    "import time\n",
    "import math\n",
    "import os\n",
    "import sys\n",
    "\n",
    "from sklearn.utils import shuffle\n",
    "from sklearn.model_selection import train_test_split\n",
    "\n",
    "from keras import backend as K\n",
    "from keras.models import Sequential, Model\n",
    "from keras.layers.core import Dense, Dropout, Activation, Flatten, Lambda\n",
    "from keras.engine.input_layer import Input\n",
    "from keras.layers.convolutional import Convolution2D, MaxPooling2D\n",
    "from keras.optimizers import SGD\n",
    "from keras.utils import np_utils\n",
    "from keras.objectives import categorical_crossentropy\n",
    "from keras.losses import mse, binary_crossentropy"
   ]
  },
  {
   "cell_type": "code",
   "execution_count": 2,
   "metadata": {},
   "outputs": [
    {
     "data": {
      "text/plain": [
       "<module 'Shared' from '../Shared.py'>"
      ]
     },
     "execution_count": 2,
     "metadata": {},
     "output_type": "execute_result"
    }
   ],
   "source": [
    "import importlib\n",
    "sys.path.append('..')\n",
    "import Shared  # Shared.py holds functions common to all notebooks\n",
    "importlib.reload(Shared)  # In case you make changes to the Shared.py file and don't want to restart the nb kernel "
   ]
  },
  {
   "cell_type": "code",
   "execution_count": 3,
   "metadata": {},
   "outputs": [],
   "source": [
    "nb_name = 'quickdraw-VAE_784f_2048f_1024f_512f_2f_0-25drop_10ep'"
   ]
  },
  {
   "cell_type": "code",
   "execution_count": 4,
   "metadata": {},
   "outputs": [
    {
     "data": {
      "text/plain": [
       "(53400,\n",
       " 53400,\n",
       " 89,\n",
       " {0: 'airplane',\n",
       "  1: 'banana',\n",
       "  2: 'baseball',\n",
       "  3: 'bicycle',\n",
       "  4: 'carrot',\n",
       "  5: 'cello'})"
      ]
     },
     "execution_count": 4,
     "metadata": {},
     "output_type": "execute_result"
    }
   ],
   "source": [
    "X, info_df, n_revisions, CATEGORIES = Shared.load_drawings('../../Datasets/quickdraw/')\n",
    "# Flatten Nx28x28 -> Nx784x1\n",
    "N = len(X)\n",
    "# np.reshape(X, (len(X), 1, 784))\n",
    "X_flat = np.reshape(np.ravel(X), (N, -1))\n",
    "len(X), len(info_df), n_revisions, CATEGORIES"
   ]
  },
  {
   "cell_type": "code",
   "execution_count": 5,
   "metadata": {},
   "outputs": [
    {
     "data": {
      "text/html": [
       "<div>\n",
       "<style scoped>\n",
       "    .dataframe tbody tr th:only-of-type {\n",
       "        vertical-align: middle;\n",
       "    }\n",
       "\n",
       "    .dataframe tbody tr th {\n",
       "        vertical-align: top;\n",
       "    }\n",
       "\n",
       "    .dataframe thead th {\n",
       "        text-align: right;\n",
       "    }\n",
       "</style>\n",
       "<table border=\"1\" class=\"dataframe\">\n",
       "  <thead>\n",
       "    <tr style=\"text-align: right;\">\n",
       "      <th></th>\n",
       "      <th>X_index</th>\n",
       "      <th>drawing_cat_id</th>\n",
       "      <th>drawing_cat_str</th>\n",
       "      <th>drawing_id</th>\n",
       "      <th>t</th>\n",
       "    </tr>\n",
       "  </thead>\n",
       "  <tbody>\n",
       "    <tr>\n",
       "      <th>0</th>\n",
       "      <td>0</td>\n",
       "      <td>5</td>\n",
       "      <td>cello</td>\n",
       "      <td>113947</td>\n",
       "      <td>41</td>\n",
       "    </tr>\n",
       "    <tr>\n",
       "      <th>1</th>\n",
       "      <td>1</td>\n",
       "      <td>4</td>\n",
       "      <td>carrot</td>\n",
       "      <td>41438</td>\n",
       "      <td>42</td>\n",
       "    </tr>\n",
       "    <tr>\n",
       "      <th>2</th>\n",
       "      <td>2</td>\n",
       "      <td>3</td>\n",
       "      <td>bicycle</td>\n",
       "      <td>29295</td>\n",
       "      <td>36</td>\n",
       "    </tr>\n",
       "    <tr>\n",
       "      <th>3</th>\n",
       "      <td>3</td>\n",
       "      <td>4</td>\n",
       "      <td>carrot</td>\n",
       "      <td>94260</td>\n",
       "      <td>79</td>\n",
       "    </tr>\n",
       "    <tr>\n",
       "      <th>4</th>\n",
       "      <td>4</td>\n",
       "      <td>3</td>\n",
       "      <td>bicycle</td>\n",
       "      <td>18402</td>\n",
       "      <td>58</td>\n",
       "    </tr>\n",
       "  </tbody>\n",
       "</table>\n",
       "</div>"
      ],
      "text/plain": [
       "   X_index  drawing_cat_id drawing_cat_str  drawing_id   t\n",
       "0        0               5           cello      113947  41\n",
       "1        1               4          carrot       41438  42\n",
       "2        2               3         bicycle       29295  36\n",
       "3        3               4          carrot       94260  79\n",
       "4        4               3         bicycle       18402  58"
      ]
     },
     "execution_count": 5,
     "metadata": {},
     "output_type": "execute_result"
    }
   ],
   "source": [
    "info_df.head()"
   ]
  },
  {
   "cell_type": "code",
   "execution_count": 6,
   "metadata": {
    "scrolled": true
   },
   "outputs": [
    {
     "data": {
      "text/plain": [
       "(53400, 784)"
      ]
     },
     "execution_count": 6,
     "metadata": {},
     "output_type": "execute_result"
    }
   ],
   "source": [
    "X_flat.shape"
   ]
  },
  {
   "cell_type": "code",
   "execution_count": 7,
   "metadata": {},
   "outputs": [],
   "source": [
    "(x_train, x_test) = train_test_split(X_flat, test_size=0.1, shuffle=True, random_state=0)"
   ]
  },
  {
   "cell_type": "code",
   "execution_count": 8,
   "metadata": {},
   "outputs": [
    {
     "data": {
      "text/plain": [
       "((48060, 784), (5340, 784))"
      ]
     },
     "execution_count": 8,
     "metadata": {},
     "output_type": "execute_result"
    }
   ],
   "source": [
    "x_train.shape, x_test.shape"
   ]
  },
  {
   "cell_type": "code",
   "execution_count": 9,
   "metadata": {},
   "outputs": [
    {
     "name": "stdout",
     "output_type": "stream",
     "text": [
      "WARNING:tensorflow:From /home/eduardo/.local/share/virtualenvs/dynamic-projections-ak_z834q/lib/python3.5/site-packages/tensorflow/python/framework/op_def_library.py:263: colocate_with (from tensorflow.python.framework.ops) is deprecated and will be removed in a future version.\n",
      "Instructions for updating:\n",
      "Colocations handled automatically by placer.\n",
      "WARNING:tensorflow:From /home/eduardo/.local/share/virtualenvs/dynamic-projections-ak_z834q/lib/python3.5/site-packages/keras/backend/tensorflow_backend.py:3445: calling dropout (from tensorflow.python.ops.nn_ops) with keep_prob is deprecated and will be removed in a future version.\n",
      "Instructions for updating:\n",
      "Please use `rate` instead of `keep_prob`. Rate should be set to `rate = 1 - keep_prob`.\n"
     ]
    }
   ],
   "source": [
    "def sampling(args):\n",
    "    \"\"\"Reparameterization trick by sampling fr an isotropic unit Gaussian.\n",
    "    # Arguments:\n",
    "        args (tensor): mean and log of variance of Q(z|X)\n",
    "    # Returns:\n",
    "        z (tensor): sampled latent vector\n",
    "    \"\"\"\n",
    "    z_mean, z_lvar = args\n",
    "    \n",
    "    batch = K.shape(z_mean)[0]\n",
    "    dim = K.int_shape(z_mean)[1]\n",
    "    \n",
    "    # By default, random_normal has mean=0 and std=1.0\n",
    "    epsilon = K.random_normal(shape=(batch, dim))\n",
    "    \n",
    "    return z_mean + K.exp(0.5*z_lvar)*epsilon\n",
    "\n",
    "n = X_flat.shape[1]\n",
    "\n",
    "# Encoder\n",
    "inputs = Input(shape=(n,), name='encoder_input')\n",
    "layer1 = Dense(2048, activation='relu')(inputs)\n",
    "drop_1 = Dropout(0.25)(layer1)\n",
    "layer2 = Dense(1024, activation='relu')(drop_1)\n",
    "drop_2 = Dropout(0.25)(layer2)\n",
    "layer3 = Dense(512, activation='relu')(drop_2)\n",
    "drop_3 = Dropout(0.25)(layer3)\n",
    "z_mean = Dense(2, name='z_mean')(drop_3)\n",
    "z_lvar = Dense(2, name='z_lvar')(drop_3)\n",
    "l_code = Lambda(sampling, name='l_code')([z_mean, z_lvar])\n",
    "\n",
    "encoder = Model(inputs, [z_mean, z_lvar, l_code], name='encoder')\n",
    "\n",
    "# Decoder\n",
    "i_code = Input(shape =(2,), name='z_sampled')\n",
    "layer4 = Dense(512, activation='relu')(i_code)\n",
    "drop_4 = Dropout(0.25)(layer4)\n",
    "layer5 = Dense(1024, activation='relu')(drop_4)\n",
    "drop_5 = Dropout(0.25)(layer5)\n",
    "layer6 = Dense(2048, activation='relu')(drop_5)\n",
    "drop_6 = Dropout(0.25)(layer6)\n",
    "output = Dense(n)(drop_6)\n",
    "\n",
    "decoder = Model(i_code, output, name='decoder')\n",
    "\n",
    "# VAE\n",
    "va_out = decoder(encoder(inputs)[2])\n",
    "vae = Model(inputs, va_out, name='vae')"
   ]
  },
  {
   "cell_type": "code",
   "execution_count": 10,
   "metadata": {},
   "outputs": [
    {
     "name": "stdout",
     "output_type": "stream",
     "text": [
      "__________________________________________________________________________________________________\n",
      "Layer (type)                    Output Shape         Param #     Connected to                     \n",
      "==================================================================================================\n",
      "encoder_input (InputLayer)      (None, 784)          0                                            \n",
      "__________________________________________________________________________________________________\n",
      "dense_1 (Dense)                 (None, 2048)         1607680     encoder_input[0][0]              \n",
      "__________________________________________________________________________________________________\n",
      "dropout_1 (Dropout)             (None, 2048)         0           dense_1[0][0]                    \n",
      "__________________________________________________________________________________________________\n",
      "dense_2 (Dense)                 (None, 1024)         2098176     dropout_1[0][0]                  \n",
      "__________________________________________________________________________________________________\n",
      "dropout_2 (Dropout)             (None, 1024)         0           dense_2[0][0]                    \n",
      "__________________________________________________________________________________________________\n",
      "dense_3 (Dense)                 (None, 512)          524800      dropout_2[0][0]                  \n",
      "__________________________________________________________________________________________________\n",
      "dropout_3 (Dropout)             (None, 512)          0           dense_3[0][0]                    \n",
      "__________________________________________________________________________________________________\n",
      "z_mean (Dense)                  (None, 2)            1026        dropout_3[0][0]                  \n",
      "__________________________________________________________________________________________________\n",
      "z_lvar (Dense)                  (None, 2)            1026        dropout_3[0][0]                  \n",
      "__________________________________________________________________________________________________\n",
      "l_code (Lambda)                 (None, 2)            0           z_mean[0][0]                     \n",
      "                                                                 z_lvar[0][0]                     \n",
      "==================================================================================================\n",
      "Total params: 4,232,708\n",
      "Trainable params: 4,232,708\n",
      "Non-trainable params: 0\n",
      "__________________________________________________________________________________________________\n",
      "_________________________________________________________________\n",
      "Layer (type)                 Output Shape              Param #   \n",
      "=================================================================\n",
      "z_sampled (InputLayer)       (None, 2)                 0         \n",
      "_________________________________________________________________\n",
      "dense_4 (Dense)              (None, 512)               1536      \n",
      "_________________________________________________________________\n",
      "dropout_4 (Dropout)          (None, 512)               0         \n",
      "_________________________________________________________________\n",
      "dense_5 (Dense)              (None, 1024)              525312    \n",
      "_________________________________________________________________\n",
      "dropout_5 (Dropout)          (None, 1024)              0         \n",
      "_________________________________________________________________\n",
      "dense_6 (Dense)              (None, 2048)              2099200   \n",
      "_________________________________________________________________\n",
      "dropout_6 (Dropout)          (None, 2048)              0         \n",
      "_________________________________________________________________\n",
      "dense_7 (Dense)              (None, 784)               1606416   \n",
      "=================================================================\n",
      "Total params: 4,232,464\n",
      "Trainable params: 4,232,464\n",
      "Non-trainable params: 0\n",
      "_________________________________________________________________\n",
      "_________________________________________________________________\n",
      "Layer (type)                 Output Shape              Param #   \n",
      "=================================================================\n",
      "encoder_input (InputLayer)   (None, 784)               0         \n",
      "_________________________________________________________________\n",
      "encoder (Model)              [(None, 2), (None, 2), (N 4232708   \n",
      "_________________________________________________________________\n",
      "decoder (Model)              (None, 784)               4232464   \n",
      "=================================================================\n",
      "Total params: 8,465,172\n",
      "Trainable params: 8,465,172\n",
      "Non-trainable params: 0\n",
      "_________________________________________________________________\n"
     ]
    }
   ],
   "source": [
    "encoder.summary()\n",
    "decoder.summary()\n",
    "vae.summary()"
   ]
  },
  {
   "cell_type": "code",
   "execution_count": 11,
   "metadata": {},
   "outputs": [],
   "source": [
    "# Build VAE loss function. It takes into account the variance layer outputs too.\n",
    "reconstruction_loss = mse(inputs, va_out)\n",
    "reconstruction_loss *= 784\n",
    "kl_loss = 1 + z_lvar - K.square(z_mean) - K.exp(z_lvar)\n",
    "kl_loss = K.sum(kl_loss, axis=-1)\n",
    "kl_loss *= -0.5\n",
    "vae_loss = K.mean(reconstruction_loss + kl_loss)\n",
    "vae.add_loss(vae_loss)"
   ]
  },
  {
   "cell_type": "code",
   "execution_count": 12,
   "metadata": {},
   "outputs": [],
   "source": [
    "# Compile and summary\n",
    "vae.compile(optimizer='adam', metrics=['accuracy'])"
   ]
  },
  {
   "cell_type": "code",
   "execution_count": 13,
   "metadata": {},
   "outputs": [
    {
     "name": "stdout",
     "output_type": "stream",
     "text": [
      "WARNING:tensorflow:From /home/eduardo/.local/share/virtualenvs/dynamic-projections-ak_z834q/lib/python3.5/site-packages/tensorflow/python/ops/math_ops.py:3066: to_int32 (from tensorflow.python.ops.math_ops) is deprecated and will be removed in a future version.\n",
      "Instructions for updating:\n",
      "Use tf.cast instead.\n",
      "Train on 48060 samples, validate on 5340 samples\n",
      "Epoch 1/10\n",
      "48060/48060 [==============================] - 289s 6ms/step - loss: 66.0764 - val_loss: 64.5949\n",
      "Epoch 2/10\n",
      "48060/48060 [==============================] - 264s 5ms/step - loss: 64.6717 - val_loss: 63.5378\n",
      "Epoch 3/10\n",
      "48060/48060 [==============================] - 262s 5ms/step - loss: 64.1240 - val_loss: 63.3185\n",
      "Epoch 4/10\n",
      "48060/48060 [==============================] - 286s 6ms/step - loss: 63.7294 - val_loss: 62.6450\n",
      "Epoch 5/10\n",
      "48060/48060 [==============================] - 319s 7ms/step - loss: 63.4656 - val_loss: 62.3207\n",
      "Epoch 6/10\n",
      "48060/48060 [==============================] - 261s 5ms/step - loss: 63.2292 - val_loss: 62.1652\n",
      "Epoch 7/10\n",
      "48060/48060 [==============================] - 268s 6ms/step - loss: 63.0888 - val_loss: 62.0313\n",
      "Epoch 8/10\n",
      "48060/48060 [==============================] - 247s 5ms/step - loss: 62.9187 - val_loss: 61.5276\n",
      "Epoch 9/10\n",
      "48060/48060 [==============================] - 267s 6ms/step - loss: 62.8185 - val_loss: 61.5300\n",
      "Epoch 10/10\n",
      "48060/48060 [==============================] - 268s 6ms/step - loss: 62.6174 - val_loss: 61.5884\n"
     ]
    }
   ],
   "source": [
    "# Train the VAE.\n",
    "h = vae.fit(x_train, epochs=10, batch_size=32, validation_data=(x_test, None))"
   ]
  },
  {
   "cell_type": "code",
   "execution_count": 14,
   "metadata": {},
   "outputs": [],
   "source": [
    "x_pred = vae.predict(x_test[1:2])"
   ]
  },
  {
   "cell_type": "code",
   "execution_count": 15,
   "metadata": {},
   "outputs": [
    {
     "data": {
      "text/plain": [
       "(1, 784)"
      ]
     },
     "execution_count": 15,
     "metadata": {},
     "output_type": "execute_result"
    }
   ],
   "source": [
    "x_pred.shape"
   ]
  },
  {
   "cell_type": "code",
   "execution_count": 16,
   "metadata": {},
   "outputs": [],
   "source": [
    "x_pred = x_pred.reshape((28, 28))"
   ]
  },
  {
   "cell_type": "code",
   "execution_count": 17,
   "metadata": {},
   "outputs": [
    {
     "data": {
      "text/plain": [
       "<matplotlib.image.AxesImage at 0x7f4af05f89e8>"
      ]
     },
     "execution_count": 17,
     "metadata": {},
     "output_type": "execute_result"
    },
    {
     "data": {
      "image/png": "[encoded data removed]",
      "text/plain": [
       "<Figure size 432x288 with 1 Axes>"
      ]
     },
     "metadata": {
      "needs_background": "light"
     },
     "output_type": "display_data"
    }
   ],
   "source": [
    "plt.imshow(x_test[1].reshape((28, 28)))"
   ]
  },
  {
   "cell_type": "code",
   "execution_count": 18,
   "metadata": {},
   "outputs": [
    {
     "data": {
      "text/plain": [
       "<matplotlib.image.AxesImage at 0x7f4af0574668>"
      ]
     },
     "execution_count": 18,
     "metadata": {},
     "output_type": "execute_result"
    },
    {
     "data": {
      "image/png": "[encoded data removed]",
      "text/plain": [
       "<Figure size 432x288 with 1 Axes>"
      ]
     },
     "metadata": {
      "needs_background": "light"
     },
     "output_type": "display_data"
    }
   ],
   "source": [
    "plt.imshow(x_pred)"
   ]
  },
  {
   "cell_type": "code",
   "execution_count": 20,
   "metadata": {},
   "outputs": [],
   "source": [
    "# vae.save('../Models/{}.h5'.format(nb_name))"
   ]
  },
  {
   "cell_type": "code",
   "execution_count": 21,
   "metadata": {},
   "outputs": [
    {
     "data": {
      "text/plain": [
       "Text(0.5, 0.98, 'loss')"
      ]
     },
     "execution_count": 21,
     "metadata": {},
     "output_type": "execute_result"
    },
    {
     "data": {
      "image/png": "[encoded data removed]",
      "text/plain": [
       "<Figure size 432x288 with 1 Axes>"
      ]
     },
     "metadata": {
      "needs_background": "light"
     },
     "output_type": "display_data"
    }
   ],
   "source": [
    "plt.figure()\n",
    "plt.plot(vae.history.history['loss'])\n",
    "plt.suptitle('loss')"
   ]
  },
  {
   "cell_type": "code",
   "execution_count": 23,
   "metadata": {},
   "outputs": [
    {
     "data": {
      "text/plain": [
       "True"
      ]
     },
     "execution_count": 23,
     "metadata": {},
     "output_type": "execute_result"
    }
   ],
   "source": [
    "Shared.save_drawing_vae_activations(encoder, X_flat, info_df, n_revisions, nb_name)"
   ]
  },
  {
   "cell_type": "code",
   "execution_count": null,
   "metadata": {},
   "outputs": [],
   "source": []
  }
 ],
 "metadata": {
  "kernelspec": {
   "display_name": "Python 3",
   "language": "python",
   "name": "python3"
  },
  "language_info": {
   "codemirror_mode": {
    "name": "ipython",
    "version": 3
   },
   "file_extension": ".py",
   "mimetype": "text/x-python",
   "name": "python",
   "nbconvert_exporter": "python",
   "pygments_lexer": "ipython3",
   "version": "3.5.2"
  }
 },
 "nbformat": 4,
 "nbformat_minor": 2
}
