{
 "cells": [
  {
   "cell_type": "code",
   "execution_count": 1,
   "metadata": {},
   "outputs": [
    {
     "name": "stderr",
     "output_type": "stream",
     "text": [
      "Using TensorFlow backend.\n"
     ]
    }
   ],
   "source": [
    "%matplotlib inline \n",
    "import keras\n",
    "import numpy as np\n",
    "import pandas as pd\n",
    "import matplotlib.pyplot as plt\n",
    "import matplotlib.patches as patches\n",
    "import cv2\n",
    "import glob\n",
    "import random\n",
    "import re\n",
    "import time\n",
    "import math\n",
    "import os\n",
    "import sys\n",
    "\n",
    "from sklearn.utils import shuffle\n",
    "from sklearn.model_selection import train_test_split\n",
    "\n",
    "from keras import backend as K\n",
    "from keras.models import Sequential, Model\n",
    "from keras.layers.core import Dense, Dropout, Activation, Flatten, Lambda\n",
    "from keras.engine.input_layer import Input\n",
    "from keras.layers.convolutional import Convolution2D, MaxPooling2D\n",
    "from keras.optimizers import SGD\n",
    "from keras.utils import np_utils\n",
    "from keras.objectives import categorical_crossentropy\n",
    "from keras.losses import mse, binary_crossentropy"
   ]
  },
  {
   "cell_type": "code",
   "execution_count": 2,
   "metadata": {},
   "outputs": [
    {
     "data": {
      "text/plain": [
       "<module 'Shared' from '../Shared.py'>"
      ]
     },
     "execution_count": 2,
     "metadata": {},
     "output_type": "execute_result"
    }
   ],
   "source": [
    "import importlib\n",
    "sys.path.append('..')\n",
    "import Shared  # Shared.py holds functions common to all notebooks\n",
    "importlib.reload(Shared)  # In case you make changes to the Shared.py file and don't want to restart the nb kernel "
   ]
  },
  {
   "cell_type": "code",
   "execution_count": 3,
   "metadata": {},
   "outputs": [],
   "source": [
    "nb_name = 'cartolastd-VAE_10f_2f_50ep'"
   ]
  },
  {
   "cell_type": "code",
   "execution_count": 4,
   "metadata": {},
   "outputs": [
    {
     "data": {
      "text/plain": [
       "(13224, 13224, 19)"
      ]
     },
     "execution_count": 4,
     "metadata": {},
     "output_type": "execute_result"
    }
   ],
   "source": [
    "X, info_df, n_revisions = Shared.load_tabular('../../Datasets/cartolastd/')# Flatten Nx28x28 -> Nx784x1\n",
    "N = len(X)\n",
    "# np.reshape(X, (len(X), 1, 784))\n",
    "X_flat = np.reshape(np.ravel(X), (N, -1))\n",
    "len(X), len(info_df), n_revisions"
   ]
  },
  {
   "cell_type": "code",
   "execution_count": 5,
   "metadata": {},
   "outputs": [
    {
     "data": {
      "text/html": [
       "<div>\n",
       "<style scoped>\n",
       "    .dataframe tbody tr th:only-of-type {\n",
       "        vertical-align: middle;\n",
       "    }\n",
       "\n",
       "    .dataframe tbody tr th {\n",
       "        vertical-align: top;\n",
       "    }\n",
       "\n",
       "    .dataframe thead th {\n",
       "        text-align: right;\n",
       "    }\n",
       "</style>\n",
       "<table border=\"1\" class=\"dataframe\">\n",
       "  <thead>\n",
       "    <tr style=\"text-align: right;\">\n",
       "      <th></th>\n",
       "      <th>X_index</th>\n",
       "      <th>cat</th>\n",
       "      <th>point_id</th>\n",
       "      <th>t</th>\n",
       "    </tr>\n",
       "  </thead>\n",
       "  <tbody>\n",
       "    <tr>\n",
       "      <th>0</th>\n",
       "      <td>0</td>\n",
       "      <td>l</td>\n",
       "      <td>lat-90587</td>\n",
       "      <td>16</td>\n",
       "    </tr>\n",
       "    <tr>\n",
       "      <th>1</th>\n",
       "      <td>1</td>\n",
       "      <td>m</td>\n",
       "      <td>mei-68770</td>\n",
       "      <td>1</td>\n",
       "    </tr>\n",
       "    <tr>\n",
       "      <th>2</th>\n",
       "      <td>2</td>\n",
       "      <td>m</td>\n",
       "      <td>mei-62129</td>\n",
       "      <td>16</td>\n",
       "    </tr>\n",
       "    <tr>\n",
       "      <th>3</th>\n",
       "      <td>3</td>\n",
       "      <td>l</td>\n",
       "      <td>lat-84917</td>\n",
       "      <td>7</td>\n",
       "    </tr>\n",
       "    <tr>\n",
       "      <th>4</th>\n",
       "      <td>4</td>\n",
       "      <td>m</td>\n",
       "      <td>mei-78605</td>\n",
       "      <td>14</td>\n",
       "    </tr>\n",
       "  </tbody>\n",
       "</table>\n",
       "</div>"
      ],
      "text/plain": [
       "   X_index cat   point_id   t\n",
       "0        0   l  lat-90587  16\n",
       "1        1   m  mei-68770   1\n",
       "2        2   m  mei-62129  16\n",
       "3        3   l  lat-84917   7\n",
       "4        4   m  mei-78605  14"
      ]
     },
     "execution_count": 5,
     "metadata": {},
     "output_type": "execute_result"
    }
   ],
   "source": [
    "info_df.head()"
   ]
  },
  {
   "cell_type": "code",
   "execution_count": 6,
   "metadata": {
    "scrolled": true
   },
   "outputs": [
    {
     "data": {
      "text/plain": [
       "(13224, 17)"
      ]
     },
     "execution_count": 6,
     "metadata": {},
     "output_type": "execute_result"
    }
   ],
   "source": [
    "X_flat.shape"
   ]
  },
  {
   "cell_type": "code",
   "execution_count": 7,
   "metadata": {},
   "outputs": [],
   "source": [
    "(x_train, x_test) = train_test_split(X_flat, test_size=0.1, shuffle=True, random_state=0)"
   ]
  },
  {
   "cell_type": "code",
   "execution_count": 8,
   "metadata": {},
   "outputs": [
    {
     "data": {
      "text/plain": [
       "((11901, 17), (1323, 17))"
      ]
     },
     "execution_count": 8,
     "metadata": {},
     "output_type": "execute_result"
    }
   ],
   "source": [
    "x_train.shape, x_test.shape"
   ]
  },
  {
   "cell_type": "code",
   "execution_count": 9,
   "metadata": {},
   "outputs": [
    {
     "name": "stdout",
     "output_type": "stream",
     "text": [
      "WARNING:tensorflow:From /home/eduardo/.local/share/virtualenvs/dynamic-projections-ak_z834q/lib/python3.5/site-packages/tensorflow/python/framework/op_def_library.py:263: colocate_with (from tensorflow.python.framework.ops) is deprecated and will be removed in a future version.\n",
      "Instructions for updating:\n",
      "Colocations handled automatically by placer.\n",
      "WARNING:tensorflow:From /home/eduardo/.local/share/virtualenvs/dynamic-projections-ak_z834q/lib/python3.5/site-packages/keras/backend/tensorflow_backend.py:3445: calling dropout (from tensorflow.python.ops.nn_ops) with keep_prob is deprecated and will be removed in a future version.\n",
      "Instructions for updating:\n",
      "Please use `rate` instead of `keep_prob`. Rate should be set to `rate = 1 - keep_prob`.\n"
     ]
    }
   ],
   "source": [
    "def sampling(args):\n",
    "    \"\"\"Reparameterization trick by sampling fr an isotropic unit Gaussian.\n",
    "    # Arguments:\n",
    "        args (tensor): mean and log of variance of Q(z|X)\n",
    "    # Returns:\n",
    "        z (tensor): sampled latent vector\n",
    "    \"\"\"\n",
    "    z_mean, z_lvar = args\n",
    "    \n",
    "    batch = K.shape(z_mean)[0]\n",
    "    dim = K.int_shape(z_mean)[1]\n",
    "    \n",
    "    # By default, random_normal has mean=0 and std=1.0\n",
    "    epsilon = K.random_normal(shape=(batch, dim))\n",
    "    \n",
    "    return z_mean + K.exp(0.5*z_lvar)*epsilon\n",
    "\n",
    "n = X_flat.shape[1]\n",
    "\n",
    "# Encoder\n",
    "inputs = Input(shape=(n,), name='encoder_input')\n",
    "layer1 = Dense(10, activation='relu')(inputs)\n",
    "drop_1 = Dropout(0.25)(layer1)\n",
    "z_mean = Dense(2, name='z_mean')(drop_1)\n",
    "z_lvar = Dense(2, name='z_lvar')(drop_1)\n",
    "l_code = Lambda(sampling, name='l_code')([z_mean, z_lvar])\n",
    "\n",
    "encoder = Model(inputs, [z_mean, z_lvar, l_code], name='encoder')\n",
    "\n",
    "# Decoder\n",
    "i_code = Input(shape =(2,), name='z_sampled')\n",
    "layer4 = Dense(10, activation='relu')(i_code)\n",
    "drop_4 = Dropout(0.25)(layer4)\n",
    "output = Dense(n)(drop_4)\n",
    "\n",
    "decoder = Model(i_code, output, name='decoder')\n",
    "\n",
    "# VAE\n",
    "va_out = decoder(encoder(inputs)[2])\n",
    "vae = Model(inputs, va_out, name='vae')"
   ]
  },
  {
   "cell_type": "code",
   "execution_count": 10,
   "metadata": {},
   "outputs": [
    {
     "name": "stdout",
     "output_type": "stream",
     "text": [
      "__________________________________________________________________________________________________\n",
      "Layer (type)                    Output Shape         Param #     Connected to                     \n",
      "==================================================================================================\n",
      "encoder_input (InputLayer)      (None, 17)           0                                            \n",
      "__________________________________________________________________________________________________\n",
      "dense_1 (Dense)                 (None, 10)           180         encoder_input[0][0]              \n",
      "__________________________________________________________________________________________________\n",
      "dropout_1 (Dropout)             (None, 10)           0           dense_1[0][0]                    \n",
      "__________________________________________________________________________________________________\n",
      "z_mean (Dense)                  (None, 2)            22          dropout_1[0][0]                  \n",
      "__________________________________________________________________________________________________\n",
      "z_lvar (Dense)                  (None, 2)            22          dropout_1[0][0]                  \n",
      "__________________________________________________________________________________________________\n",
      "l_code (Lambda)                 (None, 2)            0           z_mean[0][0]                     \n",
      "                                                                 z_lvar[0][0]                     \n",
      "==================================================================================================\n",
      "Total params: 224\n",
      "Trainable params: 224\n",
      "Non-trainable params: 0\n",
      "__________________________________________________________________________________________________\n",
      "_________________________________________________________________\n",
      "Layer (type)                 Output Shape              Param #   \n",
      "=================================================================\n",
      "z_sampled (InputLayer)       (None, 2)                 0         \n",
      "_________________________________________________________________\n",
      "dense_2 (Dense)              (None, 10)                30        \n",
      "_________________________________________________________________\n",
      "dropout_2 (Dropout)          (None, 10)                0         \n",
      "_________________________________________________________________\n",
      "dense_3 (Dense)              (None, 17)                187       \n",
      "=================================================================\n",
      "Total params: 217\n",
      "Trainable params: 217\n",
      "Non-trainable params: 0\n",
      "_________________________________________________________________\n",
      "_________________________________________________________________\n",
      "Layer (type)                 Output Shape              Param #   \n",
      "=================================================================\n",
      "encoder_input (InputLayer)   (None, 17)                0         \n",
      "_________________________________________________________________\n",
      "encoder (Model)              [(None, 2), (None, 2), (N 224       \n",
      "_________________________________________________________________\n",
      "decoder (Model)              (None, 17)                217       \n",
      "=================================================================\n",
      "Total params: 441\n",
      "Trainable params: 441\n",
      "Non-trainable params: 0\n",
      "_________________________________________________________________\n"
     ]
    }
   ],
   "source": [
    "encoder.summary()\n",
    "decoder.summary()\n",
    "vae.summary()"
   ]
  },
  {
   "cell_type": "code",
   "execution_count": 11,
   "metadata": {},
   "outputs": [],
   "source": [
    "# Build VAE loss function. It takes into account the variance layer outputs too.\n",
    "reconstruction_loss = mse(inputs, va_out)\n",
    "reconstruction_loss *= 784\n",
    "kl_loss = 1 + z_lvar - K.square(z_mean) - K.exp(z_lvar)\n",
    "kl_loss = K.sum(kl_loss, axis=-1)\n",
    "kl_loss *= -0.5\n",
    "vae_loss = K.mean(reconstruction_loss + kl_loss)\n",
    "vae.add_loss(vae_loss)"
   ]
  },
  {
   "cell_type": "code",
   "execution_count": 12,
   "metadata": {},
   "outputs": [],
   "source": [
    "# Compile and summary\n",
    "vae.compile(optimizer='adam', metrics=['accuracy'])"
   ]
  },
  {
   "cell_type": "code",
   "execution_count": 13,
   "metadata": {},
   "outputs": [
    {
     "name": "stdout",
     "output_type": "stream",
     "text": [
      "WARNING:tensorflow:From /home/eduardo/.local/share/virtualenvs/dynamic-projections-ak_z834q/lib/python3.5/site-packages/tensorflow/python/ops/math_ops.py:3066: to_int32 (from tensorflow.python.ops.math_ops) is deprecated and will be removed in a future version.\n",
      "Instructions for updating:\n",
      "Use tf.cast instead.\n",
      "Train on 11901 samples, validate on 1323 samples\n",
      "Epoch 1/50\n",
      "11901/11901 [==============================] - 1s 93us/step - loss: 904.8101 - val_loss: 790.7409\n",
      "Epoch 2/50\n",
      "11901/11901 [==============================] - 1s 50us/step - loss: 700.0357 - val_loss: 584.6021\n",
      "Epoch 3/50\n",
      "11901/11901 [==============================] - 1s 51us/step - loss: 579.7007 - val_loss: 498.1197\n",
      "Epoch 4/50\n",
      "11901/11901 [==============================] - 1s 52us/step - loss: 525.9275 - val_loss: 448.2395\n",
      "Epoch 5/50\n",
      "11901/11901 [==============================] - 1s 53us/step - loss: 493.9853 - val_loss: 411.8223\n",
      "Epoch 6/50\n",
      "11901/11901 [==============================] - 1s 53us/step - loss: 468.4967 - val_loss: 381.9525\n",
      "Epoch 7/50\n",
      "11901/11901 [==============================] - 1s 64us/step - loss: 453.9158 - val_loss: 366.0475\n",
      "Epoch 8/50\n",
      "11901/11901 [==============================] - 1s 75us/step - loss: 436.8302 - val_loss: 354.0984\n",
      "Epoch 9/50\n",
      "11901/11901 [==============================] - 1s 65us/step - loss: 420.5549 - val_loss: 338.5058\n",
      "Epoch 10/50\n",
      "11901/11901 [==============================] - 1s 62us/step - loss: 418.5038 - val_loss: 334.8913\n",
      "Epoch 11/50\n",
      "11901/11901 [==============================] - 1s 54us/step - loss: 405.5721 - val_loss: 321.4605\n",
      "Epoch 12/50\n",
      "11901/11901 [==============================] - 1s 51us/step - loss: 398.8765 - val_loss: 318.9309\n",
      "Epoch 13/50\n",
      "11901/11901 [==============================] - 1s 61us/step - loss: 397.4389 - val_loss: 320.0922\n",
      "Epoch 14/50\n",
      "11901/11901 [==============================] - 0s 42us/step - loss: 396.8068 - val_loss: 313.0685\n",
      "Epoch 15/50\n",
      "11901/11901 [==============================] - 0s 42us/step - loss: 395.0470 - val_loss: 318.1829\n",
      "Epoch 16/50\n",
      "11901/11901 [==============================] - 0s 41us/step - loss: 392.7486 - val_loss: 316.7590\n",
      "Epoch 17/50\n",
      "11901/11901 [==============================] - 1s 65us/step - loss: 388.7743 - val_loss: 307.1513\n",
      "Epoch 18/50\n",
      "11901/11901 [==============================] - 1s 74us/step - loss: 387.5362 - val_loss: 309.1572\n",
      "Epoch 19/50\n",
      "11901/11901 [==============================] - 1s 46us/step - loss: 388.0608 - val_loss: 309.4784\n",
      "Epoch 20/50\n",
      "11901/11901 [==============================] - 1s 57us/step - loss: 382.8734 - val_loss: 310.2621\n",
      "Epoch 21/50\n",
      "11901/11901 [==============================] - 1s 63us/step - loss: 387.9296 - val_loss: 300.7338\n",
      "Epoch 22/50\n",
      "11901/11901 [==============================] - 1s 56us/step - loss: 384.8366 - val_loss: 300.4399\n",
      "Epoch 23/50\n",
      "11901/11901 [==============================] - 1s 45us/step - loss: 393.1458 - val_loss: 300.8485\n",
      "Epoch 24/50\n",
      "11901/11901 [==============================] - 1s 43us/step - loss: 382.1640 - val_loss: 298.9269\n",
      "Epoch 25/50\n",
      "11901/11901 [==============================] - 1s 44us/step - loss: 379.0237 - val_loss: 305.3980\n",
      "Epoch 26/50\n",
      "11901/11901 [==============================] - 1s 49us/step - loss: 379.7394 - val_loss: 292.9389\n",
      "Epoch 27/50\n",
      "11901/11901 [==============================] - 1s 43us/step - loss: 381.0218 - val_loss: 296.7815\n",
      "Epoch 28/50\n",
      "11901/11901 [==============================] - 1s 43us/step - loss: 380.3077 - val_loss: 294.6604\n",
      "Epoch 29/50\n",
      "11901/11901 [==============================] - 0s 41us/step - loss: 380.4217 - val_loss: 291.3977\n",
      "Epoch 30/50\n",
      "11901/11901 [==============================] - 1s 43us/step - loss: 384.7218 - val_loss: 291.6596\n",
      "Epoch 31/50\n",
      "11901/11901 [==============================] - 0s 42us/step - loss: 381.1740 - val_loss: 289.9937\n",
      "Epoch 32/50\n",
      "11901/11901 [==============================] - 1s 44us/step - loss: 377.0699 - val_loss: 285.5983\n",
      "Epoch 33/50\n",
      "11901/11901 [==============================] - 1s 51us/step - loss: 373.8122 - val_loss: 282.6533\n",
      "Epoch 34/50\n",
      "11901/11901 [==============================] - 1s 46us/step - loss: 376.8036 - val_loss: 283.8910\n",
      "Epoch 35/50\n",
      "11901/11901 [==============================] - 1s 47us/step - loss: 375.2970 - val_loss: 281.7999\n",
      "Epoch 36/50\n",
      "11901/11901 [==============================] - 1s 43us/step - loss: 370.5605 - val_loss: 293.1800\n",
      "Epoch 37/50\n",
      "11901/11901 [==============================] - 1s 55us/step - loss: 379.6484 - val_loss: 278.3075\n",
      "Epoch 38/50\n",
      "11901/11901 [==============================] - 0s 42us/step - loss: 370.4424 - val_loss: 283.2663\n",
      "Epoch 39/50\n",
      "11901/11901 [==============================] - 1s 42us/step - loss: 368.1881 - val_loss: 278.6384\n",
      "Epoch 40/50\n",
      "11901/11901 [==============================] - 1s 44us/step - loss: 369.9218 - val_loss: 274.9129\n",
      "Epoch 41/50\n",
      "11901/11901 [==============================] - 1s 66us/step - loss: 368.6108 - val_loss: 275.2731\n",
      "Epoch 42/50\n",
      "11901/11901 [==============================] - 1s 60us/step - loss: 372.7323 - val_loss: 278.2073\n",
      "Epoch 43/50\n",
      "11901/11901 [==============================] - 1s 52us/step - loss: 372.4249 - val_loss: 267.9777\n",
      "Epoch 44/50\n",
      "11901/11901 [==============================] - 1s 54us/step - loss: 366.2867 - val_loss: 278.1563\n",
      "Epoch 45/50\n",
      "11901/11901 [==============================] - 0s 41us/step - loss: 372.2694 - val_loss: 276.9809\n",
      "Epoch 46/50\n",
      "11901/11901 [==============================] - 1s 52us/step - loss: 368.6491 - val_loss: 268.8485\n",
      "Epoch 47/50\n",
      "11901/11901 [==============================] - 0s 40us/step - loss: 361.3350 - val_loss: 272.5251\n",
      "Epoch 48/50\n",
      "11901/11901 [==============================] - 1s 68us/step - loss: 367.8030 - val_loss: 274.1850\n",
      "Epoch 49/50\n",
      "11901/11901 [==============================] - 1s 82us/step - loss: 365.8230 - val_loss: 267.4970\n",
      "Epoch 50/50\n",
      "11901/11901 [==============================] - 1s 84us/step - loss: 374.6528 - val_loss: 271.3032\n"
     ]
    }
   ],
   "source": [
    "# Train the VAE.\n",
    "h = vae.fit(x_train, epochs=50, batch_size=32, validation_data=(x_test, None))"
   ]
  },
  {
   "cell_type": "code",
   "execution_count": 14,
   "metadata": {},
   "outputs": [],
   "source": [
    "x_pred = vae.predict(x_test[1:2])"
   ]
  },
  {
   "cell_type": "code",
   "execution_count": 15,
   "metadata": {},
   "outputs": [
    {
     "data": {
      "text/plain": [
       "(1, 17)"
      ]
     },
     "execution_count": 15,
     "metadata": {},
     "output_type": "execute_result"
    }
   ],
   "source": [
    "x_pred.shape"
   ]
  },
  {
   "cell_type": "code",
   "execution_count": 16,
   "metadata": {},
   "outputs": [],
   "source": [
    "# x_pred = x_pred.reshape((28, 28))"
   ]
  },
  {
   "cell_type": "code",
   "execution_count": 17,
   "metadata": {},
   "outputs": [],
   "source": [
    "# plt.imshow(x_test[1])\n"
   ]
  },
  {
   "cell_type": "code",
   "execution_count": 18,
   "metadata": {},
   "outputs": [],
   "source": [
    "# plt.imshow(x_pred)"
   ]
  },
  {
   "cell_type": "code",
   "execution_count": 19,
   "metadata": {},
   "outputs": [],
   "source": [
    "# vae.save('../Models/{}.h5'.format(nb_name))"
   ]
  },
  {
   "cell_type": "code",
   "execution_count": 20,
   "metadata": {},
   "outputs": [
    {
     "data": {
      "text/plain": [
       "Text(0.5, 0.98, 'loss')"
      ]
     },
     "execution_count": 20,
     "metadata": {},
     "output_type": "execute_result"
    },
    {
     "data": {
      "image/png": "[encoded data removed]",
      "text/plain": [
       "<Figure size 432x288 with 1 Axes>"
      ]
     },
     "metadata": {
      "needs_background": "light"
     },
     "output_type": "display_data"
    }
   ],
   "source": [
    "plt.figure()\n",
    "plt.plot(vae.history.history['loss'])\n",
    "plt.suptitle('loss')"
   ]
  },
  {
   "cell_type": "code",
   "execution_count": 21,
   "metadata": {},
   "outputs": [
    {
     "data": {
      "text/plain": [
       "True"
      ]
     },
     "execution_count": 21,
     "metadata": {},
     "output_type": "execute_result"
    }
   ],
   "source": [
    "Shared.save_tabular_vae_activations(encoder, X_flat, info_df, n_revisions, nb_name)"
   ]
  },
  {
   "cell_type": "code",
   "execution_count": null,
   "metadata": {},
   "outputs": [],
   "source": []
  }
 ],
 "metadata": {
  "kernelspec": {
   "display_name": "Python 3",
   "language": "python",
   "name": "python3"
  },
  "language_info": {
   "codemirror_mode": {
    "name": "ipython",
    "version": 3
   },
   "file_extension": ".py",
   "mimetype": "text/x-python",
   "name": "python",
   "nbconvert_exporter": "python",
   "pygments_lexer": "ipython3",
   "version": "3.5.2"
  }
 },
 "nbformat": 4,
 "nbformat_minor": 2
}
