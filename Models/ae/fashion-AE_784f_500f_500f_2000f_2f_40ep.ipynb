{
 "cells": [
  {
   "cell_type": "code",
   "execution_count": 1,
   "metadata": {},
   "outputs": [
    {
     "name": "stderr",
     "output_type": "stream",
     "text": [
      "Using TensorFlow backend.\n"
     ]
    }
   ],
   "source": [
    "%matplotlib inline \n",
    "import keras\n",
    "import numpy as np\n",
    "import pandas as pd\n",
    "import matplotlib.pyplot as plt\n",
    "import matplotlib.patches as patches\n",
    "import cv2\n",
    "import glob\n",
    "import random\n",
    "import re\n",
    "import time\n",
    "import math\n",
    "import os\n",
    "import sys\n",
    "from sklearn.utils import shuffle\n",
    "\n",
    "import keras\n",
    "from keras import backend as K\n",
    "from keras.models import Sequential\n",
    "from keras.layers.core import Dense, Dropout, Activation, Flatten\n",
    "from keras.layers.convolutional import Convolution2D, MaxPooling2D\n",
    "from keras.optimizers import SGD\n",
    "from keras.utils import np_utils\n",
    "from keras.objectives import categorical_crossentropy"
   ]
  },
  {
   "cell_type": "code",
   "execution_count": 2,
   "metadata": {},
   "outputs": [
    {
     "data": {
      "text/plain": [
       "<module 'Shared' from '/home/eduardo/Desktop/Link to dynamic-projections/Models/Shared.py'>"
      ]
     },
     "execution_count": 2,
     "metadata": {},
     "output_type": "execute_result"
    }
   ],
   "source": [
    "import importlib\n",
    "sys.path.append('..')\n",
    "import Shared  # Shared.py holds functions common to all notebooks\n",
    "importlib.reload(Shared)  # In case you make changes to the Shared.py file and don't want to restart the nb kernel "
   ]
  },
  {
   "cell_type": "code",
   "execution_count": 3,
   "metadata": {},
   "outputs": [],
   "source": [
    "nb_name = 'fashion-AE_784f_500f_500f_2000f_2f_40ep'  # Couldn't figure out how to get this automatically"
   ]
  },
  {
   "cell_type": "code",
   "execution_count": 5,
   "metadata": {
    "scrolled": true
   },
   "outputs": [
    {
     "data": {
      "text/plain": [
       "(10000,\n",
       " 10000,\n",
       " 10,\n",
       " {0: 'ankleboot',\n",
       "  1: 'bag',\n",
       "  2: 'coat',\n",
       "  3: 'dress',\n",
       "  4: 'pullover',\n",
       "  5: 'sandal',\n",
       "  6: 'shirt',\n",
       "  7: 'sneaker',\n",
       "  8: 'trouser',\n",
       "  9: 'tshirt'})"
      ]
     },
     "execution_count": 5,
     "metadata": {},
     "output_type": "execute_result"
    }
   ],
   "source": [
    "X, info_df, n_revisions, CATEGORIES = Shared.load_drawings('../../Datasets/fashion/')\n",
    "# Flatten Nx28x28 -> Nx784x1\n",
    "N = len(X)\n",
    "# np.reshape(X, (len(X), 1, 784))\n",
    "X_flat = np.reshape(np.ravel(X), (N, -1))\n",
    "len(X), len(info_df), n_revisions, CATEGORIES"
   ]
  },
  {
   "cell_type": "code",
   "execution_count": 6,
   "metadata": {},
   "outputs": [
    {
     "data": {
      "text/html": [
       "<div>\n",
       "<style scoped>\n",
       "    .dataframe tbody tr th:only-of-type {\n",
       "        vertical-align: middle;\n",
       "    }\n",
       "\n",
       "    .dataframe tbody tr th {\n",
       "        vertical-align: top;\n",
       "    }\n",
       "\n",
       "    .dataframe thead th {\n",
       "        text-align: right;\n",
       "    }\n",
       "</style>\n",
       "<table border=\"1\" class=\"dataframe\">\n",
       "  <thead>\n",
       "    <tr style=\"text-align: right;\">\n",
       "      <th></th>\n",
       "      <th>X_index</th>\n",
       "      <th>drawing_cat_id</th>\n",
       "      <th>drawing_cat_str</th>\n",
       "      <th>drawing_id</th>\n",
       "      <th>t</th>\n",
       "    </tr>\n",
       "  </thead>\n",
       "  <tbody>\n",
       "    <tr>\n",
       "      <th>0</th>\n",
       "      <td>0</td>\n",
       "      <td>9</td>\n",
       "      <td>tshirt</td>\n",
       "      <td>687</td>\n",
       "      <td>3</td>\n",
       "    </tr>\n",
       "    <tr>\n",
       "      <th>1</th>\n",
       "      <td>1</td>\n",
       "      <td>0</td>\n",
       "      <td>ankleboot</td>\n",
       "      <td>596</td>\n",
       "      <td>0</td>\n",
       "    </tr>\n",
       "    <tr>\n",
       "      <th>2</th>\n",
       "      <td>2</td>\n",
       "      <td>2</td>\n",
       "      <td>coat</td>\n",
       "      <td>589</td>\n",
       "      <td>8</td>\n",
       "    </tr>\n",
       "    <tr>\n",
       "      <th>3</th>\n",
       "      <td>3</td>\n",
       "      <td>5</td>\n",
       "      <td>sandal</td>\n",
       "      <td>399</td>\n",
       "      <td>1</td>\n",
       "    </tr>\n",
       "    <tr>\n",
       "      <th>4</th>\n",
       "      <td>4</td>\n",
       "      <td>2</td>\n",
       "      <td>coat</td>\n",
       "      <td>12</td>\n",
       "      <td>3</td>\n",
       "    </tr>\n",
       "  </tbody>\n",
       "</table>\n",
       "</div>"
      ],
      "text/plain": [
       "   X_index  drawing_cat_id drawing_cat_str  drawing_id  t\n",
       "0        0               9          tshirt         687  3\n",
       "1        1               0       ankleboot         596  0\n",
       "2        2               2            coat         589  8\n",
       "3        3               5          sandal         399  1\n",
       "4        4               2            coat          12  3"
      ]
     },
     "execution_count": 6,
     "metadata": {},
     "output_type": "execute_result"
    }
   ],
   "source": [
    "info_df.head()"
   ]
  },
  {
   "cell_type": "code",
   "execution_count": 7,
   "metadata": {},
   "outputs": [
    {
     "name": "stdout",
     "output_type": "stream",
     "text": [
      "WARNING:tensorflow:From /home/eduardo/.local/share/virtualenvs/dynamic-projections-ak_z834q/lib/python3.5/site-packages/tensorflow/python/framework/op_def_library.py:263: colocate_with (from tensorflow.python.framework.ops) is deprecated and will be removed in a future version.\n",
      "Instructions for updating:\n",
      "Colocations handled automatically by placer.\n"
     ]
    }
   ],
   "source": [
    "n = X_flat.shape[1]\n",
    "ae = Sequential()\n",
    "ae.add(Dense(500, activation='relu', input_shape=(n,)))\n",
    "ae.add(Dense(500, activation='relu'))\n",
    "ae.add(Dense(2000, activation='relu'))\n",
    "ae.add(Dense(2))\n",
    "ae.add(Dense(2000, activation='relu'))\n",
    "ae.add(Dense(500, activation='relu'))\n",
    "ae.add(Dense(500, activation='relu'))\n",
    "ae.add(Dense(n))"
   ]
  },
  {
   "cell_type": "code",
   "execution_count": 8,
   "metadata": {},
   "outputs": [],
   "source": [
    "ae.compile(loss='mse', optimizer='adam')"
   ]
  },
  {
   "cell_type": "code",
   "execution_count": 9,
   "metadata": {
    "scrolled": false
   },
   "outputs": [
    {
     "name": "stdout",
     "output_type": "stream",
     "text": [
      "WARNING:tensorflow:From /home/eduardo/.local/share/virtualenvs/dynamic-projections-ak_z834q/lib/python3.5/site-packages/tensorflow/python/ops/math_ops.py:3066: to_int32 (from tensorflow.python.ops.math_ops) is deprecated and will be removed in a future version.\n",
      "Instructions for updating:\n",
      "Use tf.cast instead.\n"
     ]
    },
    {
     "name": "stderr",
     "output_type": "stream",
     "text": [
      "/home/eduardo/.local/share/virtualenvs/dynamic-projections-ak_z834q/lib/python3.5/site-packages/ipykernel_launcher.py:1: UserWarning: The `nb_epoch` argument in `fit` has been renamed `epochs`.\n",
      "  \"\"\"Entry point for launching an IPython kernel.\n"
     ]
    },
    {
     "name": "stdout",
     "output_type": "stream",
     "text": [
      "Epoch 1/40\n",
      "10000/10000 [==============================] - 28s 3ms/step - loss: 0.0773\n",
      "Epoch 2/40\n",
      "10000/10000 [==============================] - 26s 3ms/step - loss: 0.0652\n",
      "Epoch 3/40\n",
      "10000/10000 [==============================] - 27s 3ms/step - loss: 0.0635\n",
      "Epoch 4/40\n",
      "10000/10000 [==============================] - 27s 3ms/step - loss: 0.0632\n",
      "Epoch 5/40\n",
      "10000/10000 [==============================] - 26s 3ms/step - loss: 0.0625\n",
      "Epoch 6/40\n",
      "10000/10000 [==============================] - 26s 3ms/step - loss: 0.0617\n",
      "Epoch 7/40\n",
      "10000/10000 [==============================] - 25s 3ms/step - loss: 0.0614\n",
      "Epoch 8/40\n",
      "10000/10000 [==============================] - 23s 2ms/step - loss: 0.0609\n",
      "Epoch 9/40\n",
      "10000/10000 [==============================] - 21s 2ms/step - loss: 0.0606\n",
      "Epoch 10/40\n",
      "10000/10000 [==============================] - 25s 3ms/step - loss: 0.0599\n",
      "Epoch 11/40\n",
      "10000/10000 [==============================] - 24s 2ms/step - loss: 0.0601\n",
      "Epoch 12/40\n",
      "10000/10000 [==============================] - 24s 2ms/step - loss: 0.0598\n",
      "Epoch 13/40\n",
      "10000/10000 [==============================] - 24s 2ms/step - loss: 0.0590\n",
      "Epoch 14/40\n",
      "10000/10000 [==============================] - 24s 2ms/step - loss: 0.0596\n",
      "Epoch 15/40\n",
      "10000/10000 [==============================] - 24s 2ms/step - loss: 0.0599\n",
      "Epoch 16/40\n",
      "10000/10000 [==============================] - 24s 2ms/step - loss: 0.0589\n",
      "Epoch 17/40\n",
      "10000/10000 [==============================] - 26s 3ms/step - loss: 0.0585\n",
      "Epoch 18/40\n",
      "10000/10000 [==============================] - 25s 2ms/step - loss: 0.0584\n",
      "Epoch 19/40\n",
      "10000/10000 [==============================] - 25s 2ms/step - loss: 0.0585\n",
      "Epoch 20/40\n",
      "10000/10000 [==============================] - 25s 3ms/step - loss: 0.0595\n",
      "Epoch 21/40\n",
      "10000/10000 [==============================] - 24s 2ms/step - loss: 0.0585\n",
      "Epoch 22/40\n",
      "10000/10000 [==============================] - 24s 2ms/step - loss: 0.0583\n",
      "Epoch 23/40\n",
      "10000/10000 [==============================] - 24s 2ms/step - loss: 0.0586\n",
      "Epoch 24/40\n",
      "10000/10000 [==============================] - 24s 2ms/step - loss: 0.0578\n",
      "Epoch 25/40\n",
      "10000/10000 [==============================] - 26s 3ms/step - loss: 0.0588\n",
      "Epoch 26/40\n",
      "10000/10000 [==============================] - 25s 2ms/step - loss: 0.0578\n",
      "Epoch 27/40\n",
      "10000/10000 [==============================] - 27s 3ms/step - loss: 0.0601\n",
      "Epoch 28/40\n",
      "10000/10000 [==============================] - 25s 3ms/step - loss: 0.0597\n",
      "Epoch 29/40\n",
      "10000/10000 [==============================] - 26s 3ms/step - loss: 0.0617\n",
      "Epoch 30/40\n",
      "10000/10000 [==============================] - 26s 3ms/step - loss: 0.0587\n",
      "Epoch 31/40\n",
      "10000/10000 [==============================] - 24s 2ms/step - loss: 0.0574\n",
      "Epoch 32/40\n",
      "10000/10000 [==============================] - 24s 2ms/step - loss: 0.0574\n",
      "Epoch 33/40\n",
      "10000/10000 [==============================] - 25s 2ms/step - loss: 0.0575\n",
      "Epoch 34/40\n",
      "10000/10000 [==============================] - 24s 2ms/step - loss: 0.0570\n",
      "Epoch 35/40\n",
      "10000/10000 [==============================] - 25s 2ms/step - loss: 0.0570\n",
      "Epoch 36/40\n",
      "10000/10000 [==============================] - 24s 2ms/step - loss: 0.0565\n",
      "Epoch 37/40\n",
      "10000/10000 [==============================] - 24s 2ms/step - loss: 0.0567\n",
      "Epoch 38/40\n",
      "10000/10000 [==============================] - 25s 2ms/step - loss: 0.0570\n",
      "Epoch 39/40\n",
      "10000/10000 [==============================] - 25s 2ms/step - loss: 0.0563\n",
      "Epoch 40/40\n",
      "10000/10000 [==============================] - 25s 3ms/step - loss: 0.0562\n",
      "CPU times: user 34min 31s, sys: 4min 51s, total: 39min 22s\n",
      "Wall time: 16min 34s\n"
     ]
    },
    {
     "data": {
      "text/plain": [
       "<keras.callbacks.History at 0x7f0e4a3ac400>"
      ]
     },
     "execution_count": 9,
     "metadata": {},
     "output_type": "execute_result"
    }
   ],
   "source": [
    "%time ae.fit(X_flat, X_flat, nb_epoch=40)"
   ]
  },
  {
   "cell_type": "code",
   "execution_count": 10,
   "metadata": {},
   "outputs": [
    {
     "name": "stdout",
     "output_type": "stream",
     "text": [
      "_________________________________________________________________\n",
      "Layer (type)                 Output Shape              Param #   \n",
      "=================================================================\n",
      "dense_1 (Dense)              (None, 500)               392500    \n",
      "_________________________________________________________________\n",
      "dense_2 (Dense)              (None, 500)               250500    \n",
      "_________________________________________________________________\n",
      "dense_3 (Dense)              (None, 2000)              1002000   \n",
      "_________________________________________________________________\n",
      "dense_4 (Dense)              (None, 2)                 4002      \n",
      "_________________________________________________________________\n",
      "dense_5 (Dense)              (None, 2000)              6000      \n",
      "_________________________________________________________________\n",
      "dense_6 (Dense)              (None, 500)               1000500   \n",
      "_________________________________________________________________\n",
      "dense_7 (Dense)              (None, 500)               250500    \n",
      "_________________________________________________________________\n",
      "dense_8 (Dense)              (None, 784)               392784    \n",
      "=================================================================\n",
      "Total params: 3,298,786\n",
      "Trainable params: 3,298,786\n",
      "Non-trainable params: 0\n",
      "_________________________________________________________________\n"
     ]
    }
   ],
   "source": [
    "ae.summary()"
   ]
  },
  {
   "cell_type": "code",
   "execution_count": null,
   "metadata": {},
   "outputs": [],
   "source": [
    "# ae.save('../Models/{}.h5'.format(nb_name))"
   ]
  },
  {
   "cell_type": "code",
   "execution_count": 11,
   "metadata": {},
   "outputs": [
    {
     "data": {
      "text/plain": [
       "Text(0.5, 0.98, 'loss')"
      ]
     },
     "execution_count": 11,
     "metadata": {},
     "output_type": "execute_result"
    },
    {
     "data": {
      "image/png": "[encoded data removed]",
      "text/plain": [
       "<Figure size 432x288 with 1 Axes>"
      ]
     },
     "metadata": {
      "needs_background": "light"
     },
     "output_type": "display_data"
    }
   ],
   "source": [
    "plt.figure()\n",
    "plt.plot(ae.history.history['loss'])\n",
    "plt.suptitle('loss')"
   ]
  },
  {
   "cell_type": "code",
   "execution_count": 13,
   "metadata": {},
   "outputs": [
    {
     "data": {
      "text/plain": [
       "True"
      ]
     },
     "execution_count": 13,
     "metadata": {},
     "output_type": "execute_result"
    }
   ],
   "source": [
    "Shared.save_drawing_activations(ae, X_flat, info_df, n_revisions, nb_name)"
   ]
  }
 ],
 "metadata": {
  "kernelspec": {
   "display_name": "Python 3",
   "language": "python",
   "name": "python3"
  },
  "language_info": {
   "codemirror_mode": {
    "name": "ipython",
    "version": 3
   },
   "file_extension": ".py",
   "mimetype": "text/x-python",
   "name": "python",
   "nbconvert_exporter": "python",
   "pygments_lexer": "ipython3",
   "version": "3.5.2"
  }
 },
 "nbformat": 4,
 "nbformat_minor": 2
}
