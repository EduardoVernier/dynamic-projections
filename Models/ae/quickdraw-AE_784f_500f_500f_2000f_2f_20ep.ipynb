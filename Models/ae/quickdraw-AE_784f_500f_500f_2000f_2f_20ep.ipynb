{
 "cells": [
  {
   "cell_type": "code",
   "execution_count": 1,
   "metadata": {},
   "outputs": [
    {
     "name": "stderr",
     "output_type": "stream",
     "text": [
      "Using TensorFlow backend.\n"
     ]
    }
   ],
   "source": [
    "%matplotlib inline \n",
    "import keras\n",
    "import numpy as np\n",
    "import pandas as pd\n",
    "import matplotlib.pyplot as plt\n",
    "import matplotlib.patches as patches\n",
    "import cv2\n",
    "import glob\n",
    "import random\n",
    "import re\n",
    "import time\n",
    "import math\n",
    "import os\n",
    "import sys\n",
    "from sklearn.utils import shuffle\n",
    "\n",
    "import keras\n",
    "from keras import backend as K\n",
    "from keras.models import Sequential\n",
    "from keras.layers.core import Dense, Dropout, Activation, Flatten\n",
    "from keras.layers.convolutional import Convolution2D, MaxPooling2D\n",
    "from keras.optimizers import SGD\n",
    "from keras.utils import np_utils\n",
    "from keras.objectives import categorical_crossentropy"
   ]
  },
  {
   "cell_type": "code",
   "execution_count": 2,
   "metadata": {},
   "outputs": [
    {
     "data": {
      "text/plain": [
       "<module 'Shared' from '../Shared.py'>"
      ]
     },
     "execution_count": 2,
     "metadata": {},
     "output_type": "execute_result"
    }
   ],
   "source": [
    "import importlib\n",
    "sys.path.append('..')\n",
    "import Shared  # Shared.py holds functions common to all notebooks\n",
    "importlib.reload(Shared)  # In case you make changes to the Shared.py file and don't want to restart the nb kernel "
   ]
  },
  {
   "cell_type": "code",
   "execution_count": 3,
   "metadata": {},
   "outputs": [],
   "source": [
    "nb_name = 'quickdraw-AE_784f_500f_500f_2000f_2f_20ep'  # Couldn't figure out how to get this automatically"
   ]
  },
  {
   "cell_type": "code",
   "execution_count": 4,
   "metadata": {
    "scrolled": true
   },
   "outputs": [
    {
     "data": {
      "text/plain": [
       "(53400,\n",
       " 53400,\n",
       " 89,\n",
       " {0: 'airplane',\n",
       "  1: 'banana',\n",
       "  2: 'baseball',\n",
       "  3: 'bicycle',\n",
       "  4: 'carrot',\n",
       "  5: 'cello'})"
      ]
     },
     "execution_count": 4,
     "metadata": {},
     "output_type": "execute_result"
    }
   ],
   "source": [
    "X, info_df, n_revisions, CATEGORIES = Shared.load_drawings('../../Datasets/quickdraw/')\n",
    "# Flatten Nx28x28 -> Nx784x1\n",
    "N = len(X)\n",
    "# np.reshape(X, (len(X), 1, 784))\n",
    "X_flat = np.reshape(np.ravel(X), (N, -1))\n",
    "len(X), len(info_df), n_revisions, CATEGORIES"
   ]
  },
  {
   "cell_type": "code",
   "execution_count": 5,
   "metadata": {},
   "outputs": [
    {
     "data": {
      "text/html": [
       "<div>\n",
       "<style scoped>\n",
       "    .dataframe tbody tr th:only-of-type {\n",
       "        vertical-align: middle;\n",
       "    }\n",
       "\n",
       "    .dataframe tbody tr th {\n",
       "        vertical-align: top;\n",
       "    }\n",
       "\n",
       "    .dataframe thead th {\n",
       "        text-align: right;\n",
       "    }\n",
       "</style>\n",
       "<table border=\"1\" class=\"dataframe\">\n",
       "  <thead>\n",
       "    <tr style=\"text-align: right;\">\n",
       "      <th></th>\n",
       "      <th>X_index</th>\n",
       "      <th>drawing_cat_id</th>\n",
       "      <th>drawing_cat_str</th>\n",
       "      <th>drawing_id</th>\n",
       "      <th>t</th>\n",
       "    </tr>\n",
       "  </thead>\n",
       "  <tbody>\n",
       "    <tr>\n",
       "      <th>0</th>\n",
       "      <td>0</td>\n",
       "      <td>5</td>\n",
       "      <td>cello</td>\n",
       "      <td>113947</td>\n",
       "      <td>41</td>\n",
       "    </tr>\n",
       "    <tr>\n",
       "      <th>1</th>\n",
       "      <td>1</td>\n",
       "      <td>4</td>\n",
       "      <td>carrot</td>\n",
       "      <td>41438</td>\n",
       "      <td>42</td>\n",
       "    </tr>\n",
       "    <tr>\n",
       "      <th>2</th>\n",
       "      <td>2</td>\n",
       "      <td>3</td>\n",
       "      <td>bicycle</td>\n",
       "      <td>29295</td>\n",
       "      <td>36</td>\n",
       "    </tr>\n",
       "    <tr>\n",
       "      <th>3</th>\n",
       "      <td>3</td>\n",
       "      <td>4</td>\n",
       "      <td>carrot</td>\n",
       "      <td>94260</td>\n",
       "      <td>79</td>\n",
       "    </tr>\n",
       "    <tr>\n",
       "      <th>4</th>\n",
       "      <td>4</td>\n",
       "      <td>3</td>\n",
       "      <td>bicycle</td>\n",
       "      <td>18402</td>\n",
       "      <td>58</td>\n",
       "    </tr>\n",
       "  </tbody>\n",
       "</table>\n",
       "</div>"
      ],
      "text/plain": [
       "   X_index  drawing_cat_id drawing_cat_str  drawing_id   t\n",
       "0        0               5           cello      113947  41\n",
       "1        1               4          carrot       41438  42\n",
       "2        2               3         bicycle       29295  36\n",
       "3        3               4          carrot       94260  79\n",
       "4        4               3         bicycle       18402  58"
      ]
     },
     "execution_count": 5,
     "metadata": {},
     "output_type": "execute_result"
    }
   ],
   "source": [
    "info_df.head()"
   ]
  },
  {
   "cell_type": "code",
   "execution_count": 6,
   "metadata": {},
   "outputs": [
    {
     "data": {
      "text/plain": [
       "(53400, 784)"
      ]
     },
     "execution_count": 6,
     "metadata": {},
     "output_type": "execute_result"
    }
   ],
   "source": [
    "X_flat.shape"
   ]
  },
  {
   "cell_type": "code",
   "execution_count": 15,
   "metadata": {},
   "outputs": [],
   "source": [
    "n = X_flat.shape[1]\n",
    "ae = Sequential()\n",
    "ae.add(Dense(500, activation='relu', input_shape=(n,)))\n",
    "ae.add(Dense(500, activation='relu'))\n",
    "ae.add(Dense(2000, activation='relu'))\n",
    "ae.add(Dense(2))\n",
    "ae.add(Dense(2000, activation='relu'))\n",
    "ae.add(Dense(500, activation='relu'))\n",
    "ae.add(Dense(500, activation='relu'))\n",
    "ae.add(Dense(n))"
   ]
  },
  {
   "cell_type": "code",
   "execution_count": 16,
   "metadata": {},
   "outputs": [],
   "source": [
    "ae.compile(loss='mse', optimizer='adam')"
   ]
  },
  {
   "cell_type": "code",
   "execution_count": 17,
   "metadata": {
    "scrolled": false
   },
   "outputs": [
    {
     "name": "stderr",
     "output_type": "stream",
     "text": [
      "/home/eduardo/.local/share/virtualenvs/dynamic-projections-ak_z834q/lib/python3.5/site-packages/ipykernel_launcher.py:1: UserWarning: The `nb_epoch` argument in `fit` has been renamed `epochs`.\n",
      "  \"\"\"Entry point for launching an IPython kernel.\n"
     ]
    },
    {
     "name": "stdout",
     "output_type": "stream",
     "text": [
      "Epoch 1/20\n",
      "53400/53400 [==============================] - 130s 2ms/step - loss: 0.0754\n",
      "Epoch 2/20\n",
      "53400/53400 [==============================] - 120s 2ms/step - loss: 0.0673\n",
      "Epoch 3/20\n",
      "53400/53400 [==============================] - 121s 2ms/step - loss: 0.0614\n",
      "Epoch 4/20\n",
      "53400/53400 [==============================] - 115s 2ms/step - loss: 0.0560\n",
      "Epoch 5/20\n",
      "53400/53400 [==============================] - 112s 2ms/step - loss: 0.0518\n",
      "Epoch 6/20\n",
      "53400/53400 [==============================] - 113s 2ms/step - loss: 0.0483\n",
      "Epoch 7/20\n",
      "53400/53400 [==============================] - 113s 2ms/step - loss: 0.0457\n",
      "Epoch 8/20\n",
      "53400/53400 [==============================] - 120s 2ms/step - loss: 0.0436\n",
      "Epoch 9/20\n",
      "53400/53400 [==============================] - 118s 2ms/step - loss: 0.0416\n",
      "Epoch 10/20\n",
      "53400/53400 [==============================] - 123s 2ms/step - loss: 0.0410\n",
      "Epoch 11/20\n",
      "53400/53400 [==============================] - 119s 2ms/step - loss: 0.0387\n",
      "Epoch 12/20\n",
      "53400/53400 [==============================] - 121s 2ms/step - loss: 0.0383\n",
      "Epoch 13/20\n",
      "53400/53400 [==============================] - 119s 2ms/step - loss: 0.0368\n",
      "Epoch 14/20\n",
      "53400/53400 [==============================] - 120s 2ms/step - loss: 0.0365\n",
      "Epoch 15/20\n",
      "53400/53400 [==============================] - 121s 2ms/step - loss: 0.0359\n",
      "Epoch 16/20\n",
      "53400/53400 [==============================] - 119s 2ms/step - loss: 0.0353\n",
      "Epoch 17/20\n",
      "53400/53400 [==============================] - 124s 2ms/step - loss: 0.0352\n",
      "Epoch 18/20\n",
      "53400/53400 [==============================] - 126s 2ms/step - loss: 0.0349\n",
      "Epoch 19/20\n",
      "53400/53400 [==============================] - 117s 2ms/step - loss: 0.0343\n",
      "Epoch 20/20\n",
      "53400/53400 [==============================] - 121s 2ms/step - loss: 0.0344\n",
      "CPU times: user 1h 37min 13s, sys: 2min 46s, total: 1h 40min\n",
      "Wall time: 39min 56s\n"
     ]
    },
    {
     "data": {
      "text/plain": [
       "<keras.callbacks.History at 0x7f20ec2288d0>"
      ]
     },
     "execution_count": 17,
     "metadata": {},
     "output_type": "execute_result"
    }
   ],
   "source": [
    "%time ae.fit(X_flat, X_flat, nb_epoch=20)"
   ]
  },
  {
   "cell_type": "code",
   "execution_count": 18,
   "metadata": {},
   "outputs": [
    {
     "name": "stdout",
     "output_type": "stream",
     "text": [
      "_________________________________________________________________\n",
      "Layer (type)                 Output Shape              Param #   \n",
      "=================================================================\n",
      "dense_9 (Dense)              (None, 500)               392500    \n",
      "_________________________________________________________________\n",
      "dense_10 (Dense)             (None, 500)               250500    \n",
      "_________________________________________________________________\n",
      "dense_11 (Dense)             (None, 2000)              1002000   \n",
      "_________________________________________________________________\n",
      "dense_12 (Dense)             (None, 2)                 4002      \n",
      "_________________________________________________________________\n",
      "dense_13 (Dense)             (None, 2000)              6000      \n",
      "_________________________________________________________________\n",
      "dense_14 (Dense)             (None, 500)               1000500   \n",
      "_________________________________________________________________\n",
      "dense_15 (Dense)             (None, 500)               250500    \n",
      "_________________________________________________________________\n",
      "dense_16 (Dense)             (None, 784)               392784    \n",
      "=================================================================\n",
      "Total params: 3,298,786\n",
      "Trainable params: 3,298,786\n",
      "Non-trainable params: 0\n",
      "_________________________________________________________________\n"
     ]
    }
   ],
   "source": [
    "ae.summary()"
   ]
  },
  {
   "cell_type": "code",
   "execution_count": 19,
   "metadata": {},
   "outputs": [],
   "source": [
    "# ae.save('../Models/{}.h5'.format(nb_name))"
   ]
  },
  {
   "cell_type": "code",
   "execution_count": 20,
   "metadata": {},
   "outputs": [
    {
     "data": {
      "text/plain": [
       "Text(0.5, 0.98, 'loss')"
      ]
     },
     "execution_count": 20,
     "metadata": {},
     "output_type": "execute_result"
    },
    {
     "data": {
      "image/png": "[encoded data removed]",
      "text/plain": [
       "<Figure size 432x288 with 1 Axes>"
      ]
     },
     "metadata": {
      "needs_background": "light"
     },
     "output_type": "display_data"
    }
   ],
   "source": [
    "plt.figure()\n",
    "plt.plot(ae.history.history['loss'])\n",
    "plt.suptitle('loss')"
   ]
  },
  {
   "cell_type": "code",
   "execution_count": 21,
   "metadata": {},
   "outputs": [
    {
     "data": {
      "text/plain": [
       "True"
      ]
     },
     "execution_count": 21,
     "metadata": {},
     "output_type": "execute_result"
    }
   ],
   "source": [
    "Shared.save_drawing_activations(ae, X_flat, info_df, n_revisions, nb_name)"
   ]
  }
 ],
 "metadata": {
  "kernelspec": {
   "display_name": "Python 3",
   "language": "python",
   "name": "python3"
  },
  "language_info": {
   "codemirror_mode": {
    "name": "ipython",
    "version": 3
   },
   "file_extension": ".py",
   "mimetype": "text/x-python",
   "name": "python",
   "nbconvert_exporter": "python",
   "pygments_lexer": "ipython3",
   "version": "3.5.2"
  }
 },
 "nbformat": 4,
 "nbformat_minor": 2
}
