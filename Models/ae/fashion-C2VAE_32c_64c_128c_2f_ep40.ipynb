{
 "cells": [
  {
   "cell_type": "code",
   "execution_count": 1,
   "metadata": {},
   "outputs": [
    {
     "name": "stderr",
     "output_type": "stream",
     "text": [
      "Using TensorFlow backend.\n"
     ]
    }
   ],
   "source": [
    "%matplotlib inline \n",
    "import keras\n",
    "import numpy as np\n",
    "import pandas as pd\n",
    "import matplotlib.pyplot as plt\n",
    "import matplotlib.patches as patches\n",
    "import cv2\n",
    "import glob\n",
    "import random\n",
    "import re\n",
    "import time\n",
    "import math\n",
    "import os\n",
    "import sys\n",
    "from sklearn.utils import shuffle\n",
    "from sklearn.model_selection import train_test_split"
   ]
  },
  {
   "cell_type": "code",
   "execution_count": 2,
   "metadata": {},
   "outputs": [
    {
     "data": {
      "text/plain": [
       "<module 'Shared' from '/home/eduardo/Desktop/Link to dynamic-projections/Models/Shared.py'>"
      ]
     },
     "execution_count": 2,
     "metadata": {},
     "output_type": "execute_result"
    }
   ],
   "source": [
    "import importlib\n",
    "sys.path.append('..')\n",
    "import Shared # Shared.py holds functions common to all notebooks\n",
    "importlib.reload(Shared) # In case you make changes to the Shared.py file and don't want to restart the nb kernel "
   ]
  },
  {
   "cell_type": "code",
   "execution_count": 3,
   "metadata": {},
   "outputs": [],
   "source": [
    "nb_name = 'fashion-C2VAE_32c_64c_128c_2f_ep40'  # Couldn't figure out how to get this automatically"
   ]
  },
  {
   "cell_type": "code",
   "execution_count": 4,
   "metadata": {
    "scrolled": true
   },
   "outputs": [
    {
     "data": {
      "text/plain": [
       "(10000,\n",
       " 10000,\n",
       " 10,\n",
       " {0: 'ankleboot',\n",
       "  1: 'bag',\n",
       "  2: 'coat',\n",
       "  3: 'dress',\n",
       "  4: 'pullover',\n",
       "  5: 'sandal',\n",
       "  6: 'shirt',\n",
       "  7: 'sneaker',\n",
       "  8: 'trouser',\n",
       "  9: 'tshirt'})"
      ]
     },
     "execution_count": 4,
     "metadata": {},
     "output_type": "execute_result"
    }
   ],
   "source": [
    "X, info_df, n_revisions, CATEGORIES = Shared.load_drawings('../../Datasets/fashion/')\n",
    "# Flatten Nx28x28 -> Nx784x1\n",
    "N = len(X)\n",
    "# np.reshape(X, (len(X), 1, 784))\n",
    "# X_flat = np.reshape(np.ravel(X), (N, -1))\n",
    "len(X), len(info_df), n_revisions, CATEGORIES"
   ]
  },
  {
   "cell_type": "code",
   "execution_count": 5,
   "metadata": {},
   "outputs": [
    {
     "data": {
      "text/html": [
       "<div>\n",
       "<style scoped>\n",
       "    .dataframe tbody tr th:only-of-type {\n",
       "        vertical-align: middle;\n",
       "    }\n",
       "\n",
       "    .dataframe tbody tr th {\n",
       "        vertical-align: top;\n",
       "    }\n",
       "\n",
       "    .dataframe thead th {\n",
       "        text-align: right;\n",
       "    }\n",
       "</style>\n",
       "<table border=\"1\" class=\"dataframe\">\n",
       "  <thead>\n",
       "    <tr style=\"text-align: right;\">\n",
       "      <th></th>\n",
       "      <th>X_index</th>\n",
       "      <th>drawing_cat_id</th>\n",
       "      <th>drawing_cat_str</th>\n",
       "      <th>drawing_id</th>\n",
       "      <th>t</th>\n",
       "    </tr>\n",
       "  </thead>\n",
       "  <tbody>\n",
       "    <tr>\n",
       "      <th>0</th>\n",
       "      <td>0</td>\n",
       "      <td>9</td>\n",
       "      <td>tshirt</td>\n",
       "      <td>687</td>\n",
       "      <td>3</td>\n",
       "    </tr>\n",
       "    <tr>\n",
       "      <th>1</th>\n",
       "      <td>1</td>\n",
       "      <td>0</td>\n",
       "      <td>ankleboot</td>\n",
       "      <td>596</td>\n",
       "      <td>0</td>\n",
       "    </tr>\n",
       "    <tr>\n",
       "      <th>2</th>\n",
       "      <td>2</td>\n",
       "      <td>2</td>\n",
       "      <td>coat</td>\n",
       "      <td>589</td>\n",
       "      <td>8</td>\n",
       "    </tr>\n",
       "    <tr>\n",
       "      <th>3</th>\n",
       "      <td>3</td>\n",
       "      <td>5</td>\n",
       "      <td>sandal</td>\n",
       "      <td>399</td>\n",
       "      <td>1</td>\n",
       "    </tr>\n",
       "    <tr>\n",
       "      <th>4</th>\n",
       "      <td>4</td>\n",
       "      <td>2</td>\n",
       "      <td>coat</td>\n",
       "      <td>12</td>\n",
       "      <td>3</td>\n",
       "    </tr>\n",
       "  </tbody>\n",
       "</table>\n",
       "</div>"
      ],
      "text/plain": [
       "   X_index  drawing_cat_id drawing_cat_str  drawing_id  t\n",
       "0        0               9          tshirt         687  3\n",
       "1        1               0       ankleboot         596  0\n",
       "2        2               2            coat         589  8\n",
       "3        3               5          sandal         399  1\n",
       "4        4               2            coat          12  3"
      ]
     },
     "execution_count": 5,
     "metadata": {},
     "output_type": "execute_result"
    }
   ],
   "source": [
    "info_df.head()"
   ]
  },
  {
   "cell_type": "code",
   "execution_count": 6,
   "metadata": {},
   "outputs": [],
   "source": [
    "from keras.layers import Input, Dense, Conv2D, MaxPooling2D, UpSampling2D, Flatten, Reshape, Lambda\n",
    "from keras.models import Model\n",
    "from keras.optimizers import SGD\n",
    "from keras.utils import np_utils\n",
    "from keras.objectives import categorical_crossentropy\n",
    "from keras.losses import mse, binary_crossentropy\n",
    "\n",
    "from keras import backend as K"
   ]
  },
  {
   "cell_type": "code",
   "execution_count": 7,
   "metadata": {},
   "outputs": [
    {
     "name": "stdout",
     "output_type": "stream",
     "text": [
      "WARNING:tensorflow:From /home/eduardo/.local/share/virtualenvs/dynamic-projections-ak_z834q/lib/python3.5/site-packages/tensorflow/python/framework/op_def_library.py:263: colocate_with (from tensorflow.python.framework.ops) is deprecated and will be removed in a future version.\n",
      "Instructions for updating:\n",
      "Colocations handled automatically by placer.\n"
     ]
    }
   ],
   "source": [
    "def sampling(args):\n",
    "    \"\"\"Reparameterization trick by sampling fr an isotropic unit Gaussian.\n",
    "    # Arguments:\n",
    "        args (tensor): mean and log of variance of Q(z|X)\n",
    "    # Returns:\n",
    "        z (tensor): sampled latent vector\n",
    "    \"\"\"\n",
    "    z_mean, z_lvar = args\n",
    "    \n",
    "    batch = K.shape(z_mean)[0]\n",
    "    dim = K.int_shape(z_mean)[1]\n",
    "    \n",
    "    # By default, random_normal has mean=0 and std=1.0\n",
    "    epsilon = K.random_normal(shape=(batch, dim))\n",
    "    \n",
    "    return z_mean + K.exp(0.5*z_lvar)*epsilon\n",
    "\n",
    "# Encoder\n",
    "inputs = Input(shape=(28, 28, 1), name='encoder_input')\n",
    "x = Conv2D(32, (3, 3), activation='relu', padding='same')(inputs)\n",
    "x = MaxPooling2D((2, 2), padding='same')(x)\n",
    "x = Conv2D(64, (3, 3), activation='relu', padding='same')(x)\n",
    "x = MaxPooling2D((2, 2), padding='same')(x)\n",
    "x = Conv2D(128, (3, 3), activation='relu', padding='same')(x)\n",
    "x = Flatten()(x)\n",
    "z_mean = Dense(2, name='z_mean')(x)\n",
    "z_lvar = Dense(2, name='z_lvar')(x)\n",
    "l_code = Lambda(sampling, name='l_code')([z_mean, z_lvar])\n",
    "\n",
    "encoder = Model(inputs, [z_mean, z_lvar, l_code], name='encoder')\n",
    "\n",
    "# Decoder\n",
    "encoded = Input(shape=(2,), name='z_sampled')\n",
    "x = Dense(6272)(encoded)\n",
    "x = Reshape((7, 7, 128))(x)\n",
    "x = Conv2D(128, (3, 3), activation='relu', padding='same')(x)\n",
    "x = UpSampling2D((2, 2))(x)\n",
    "x = Conv2D(64, (3, 3), activation='relu', padding='same')(x)\n",
    "x = UpSampling2D((2, 2))(x)\n",
    "x = Conv2D(32, (3, 3), activation='relu', padding='same')(x)\n",
    "output = Conv2D(1, (3, 3), activation='relu', padding='same')(x)\n",
    "\n",
    "decoder = Model(encoded, output, name='decoder')\n",
    "\n",
    "# VAE\n",
    "va_out = decoder(encoder(inputs)[2])\n",
    "vae = Model(inputs, va_out, name='vae')"
   ]
  },
  {
   "cell_type": "code",
   "execution_count": 8,
   "metadata": {},
   "outputs": [
    {
     "name": "stdout",
     "output_type": "stream",
     "text": [
      "__________________________________________________________________________________________________\n",
      "Layer (type)                    Output Shape         Param #     Connected to                     \n",
      "==================================================================================================\n",
      "encoder_input (InputLayer)      (None, 28, 28, 1)    0                                            \n",
      "__________________________________________________________________________________________________\n",
      "conv2d_1 (Conv2D)               (None, 28, 28, 32)   320         encoder_input[0][0]              \n",
      "__________________________________________________________________________________________________\n",
      "max_pooling2d_1 (MaxPooling2D)  (None, 14, 14, 32)   0           conv2d_1[0][0]                   \n",
      "__________________________________________________________________________________________________\n",
      "conv2d_2 (Conv2D)               (None, 14, 14, 64)   18496       max_pooling2d_1[0][0]            \n",
      "__________________________________________________________________________________________________\n",
      "max_pooling2d_2 (MaxPooling2D)  (None, 7, 7, 64)     0           conv2d_2[0][0]                   \n",
      "__________________________________________________________________________________________________\n",
      "conv2d_3 (Conv2D)               (None, 7, 7, 128)    73856       max_pooling2d_2[0][0]            \n",
      "__________________________________________________________________________________________________\n",
      "flatten_1 (Flatten)             (None, 6272)         0           conv2d_3[0][0]                   \n",
      "__________________________________________________________________________________________________\n",
      "z_mean (Dense)                  (None, 2)            12546       flatten_1[0][0]                  \n",
      "__________________________________________________________________________________________________\n",
      "z_lvar (Dense)                  (None, 2)            12546       flatten_1[0][0]                  \n",
      "__________________________________________________________________________________________________\n",
      "l_code (Lambda)                 (None, 2)            0           z_mean[0][0]                     \n",
      "                                                                 z_lvar[0][0]                     \n",
      "==================================================================================================\n",
      "Total params: 117,764\n",
      "Trainable params: 117,764\n",
      "Non-trainable params: 0\n",
      "__________________________________________________________________________________________________\n",
      "_________________________________________________________________\n",
      "Layer (type)                 Output Shape              Param #   \n",
      "=================================================================\n",
      "z_sampled (InputLayer)       (None, 2)                 0         \n",
      "_________________________________________________________________\n",
      "dense_1 (Dense)              (None, 6272)              18816     \n",
      "_________________________________________________________________\n",
      "reshape_1 (Reshape)          (None, 7, 7, 128)         0         \n",
      "_________________________________________________________________\n",
      "conv2d_4 (Conv2D)            (None, 7, 7, 128)         147584    \n",
      "_________________________________________________________________\n",
      "up_sampling2d_1 (UpSampling2 (None, 14, 14, 128)       0         \n",
      "_________________________________________________________________\n",
      "conv2d_5 (Conv2D)            (None, 14, 14, 64)        73792     \n",
      "_________________________________________________________________\n",
      "up_sampling2d_2 (UpSampling2 (None, 28, 28, 64)        0         \n",
      "_________________________________________________________________\n",
      "conv2d_6 (Conv2D)            (None, 28, 28, 32)        18464     \n",
      "_________________________________________________________________\n",
      "conv2d_7 (Conv2D)            (None, 28, 28, 1)         289       \n",
      "=================================================================\n",
      "Total params: 258,945\n",
      "Trainable params: 258,945\n",
      "Non-trainable params: 0\n",
      "_________________________________________________________________\n",
      "_________________________________________________________________\n",
      "Layer (type)                 Output Shape              Param #   \n",
      "=================================================================\n",
      "encoder_input (InputLayer)   (None, 28, 28, 1)         0         \n",
      "_________________________________________________________________\n",
      "encoder (Model)              [(None, 2), (None, 2), (N 117764    \n",
      "_________________________________________________________________\n",
      "decoder (Model)              (None, 28, 28, 1)         258945    \n",
      "=================================================================\n",
      "Total params: 376,709\n",
      "Trainable params: 376,709\n",
      "Non-trainable params: 0\n",
      "_________________________________________________________________\n"
     ]
    }
   ],
   "source": [
    "encoder.summary()\n",
    "decoder.summary()\n",
    "vae.summary()"
   ]
  },
  {
   "cell_type": "code",
   "execution_count": 9,
   "metadata": {},
   "outputs": [],
   "source": [
    "# input_img = Input(shape=(28, 28, 1))\n",
    "# # input_img = Input(shape=(28, 28, 1))\n",
    "# x = Conv2D(32, (3, 3), activation='relu', padding='same')(input_img)\n",
    "# x = MaxPooling2D((2, 2), padding='same')(x)\n",
    "# x = Conv2D(32, (3, 3), activation='relu', padding='same')(x)\n",
    "# x = MaxPooling2D((2, 2), padding='same')(x)\n",
    "# x = Conv2D(32, (3, 3), activation='relu', padding='same')(x)\n",
    "# # encoded = Conv2D(2, (2, 2), activation='relu', padding='same', strides=(1,4))(x)\n",
    "# x = Flatten()(x)\n",
    "# encoded = Dense(2)(x)\n",
    "# x = Dense(1568)(encoded)\n",
    "# x = Reshape((7,7,32))(x)\n",
    "# x = Conv2D(32, (3, 3), activation='relu', padding='same')(x)\n",
    "# x = UpSampling2D((2,2))(x)\n",
    "# x = Conv2D(32, (3, 3), activation='relu', padding='same')(x)\n",
    "# x = UpSampling2D((2,2))(x)\n",
    "# x = Conv2D(32, (3, 3), activation='relu', padding='same')(x)\n",
    "# decoded = Conv2D(1, (3, 3), activation='relu', padding='same')(x)\n",
    "\n",
    "# ae = Model(input_img, decoded)\n",
    "# encoder = Model(input_img, encoded)\n",
    "# ae.summary()"
   ]
  },
  {
   "cell_type": "code",
   "execution_count": 10,
   "metadata": {},
   "outputs": [],
   "source": [
    "# Build VAE loss function. It takes into account the variance layer outputs too.\n",
    "reconstruction_loss = mse(K.flatten(inputs), K.flatten(va_out))\n",
    "reconstruction_loss *= 784\n",
    "kl_loss = 1 + z_lvar - K.square(z_mean) - K.exp(z_lvar)\n",
    "kl_loss = K.sum(kl_loss, axis=-1)\n",
    "kl_loss *= -0.5\n",
    "vae_loss = K.mean(reconstruction_loss + kl_loss)\n",
    "vae.add_loss(vae_loss)"
   ]
  },
  {
   "cell_type": "code",
   "execution_count": 11,
   "metadata": {},
   "outputs": [],
   "source": [
    "# Compile and summary\n",
    "vae.compile(optimizer='adam')"
   ]
  },
  {
   "cell_type": "code",
   "execution_count": 12,
   "metadata": {},
   "outputs": [],
   "source": [
    "(x_train, x_test) = train_test_split(np.array(X).reshape([-1, 28, 28, 1]), test_size=0.1, shuffle=True, random_state=0)"
   ]
  },
  {
   "cell_type": "code",
   "execution_count": 13,
   "metadata": {},
   "outputs": [
    {
     "data": {
      "text/plain": [
       "((9000, 28, 28, 1), (1000, 28, 28, 1), (None, 28, 28, 1), (None, 28, 28, 1))"
      ]
     },
     "execution_count": 13,
     "metadata": {},
     "output_type": "execute_result"
    }
   ],
   "source": [
    "x_train.shape, x_test.shape, vae.input_shape, vae.output_shape"
   ]
  },
  {
   "cell_type": "code",
   "execution_count": 14,
   "metadata": {
    "scrolled": false
   },
   "outputs": [
    {
     "name": "stdout",
     "output_type": "stream",
     "text": [
      "WARNING:tensorflow:From /home/eduardo/.local/share/virtualenvs/dynamic-projections-ak_z834q/lib/python3.5/site-packages/tensorflow/python/ops/math_ops.py:3066: to_int32 (from tensorflow.python.ops.math_ops) is deprecated and will be removed in a future version.\n",
      "Instructions for updating:\n",
      "Use tf.cast instead.\n",
      "Train on 9000 samples, validate on 1000 samples\n",
      "Epoch 1/40\n",
      "9000/9000 [==============================] - 158s 18ms/step - loss: 70.4649 - val_loss: 57.1624\n",
      "Epoch 2/40\n",
      "9000/9000 [==============================] - 151s 17ms/step - loss: 56.1000 - val_loss: 55.5383\n",
      "Epoch 3/40\n",
      "9000/9000 [==============================] - 153s 17ms/step - loss: 55.2001 - val_loss: 54.7382\n",
      "Epoch 4/40\n",
      "9000/9000 [==============================] - 191s 21ms/step - loss: 54.7849 - val_loss: 54.5223\n",
      "Epoch 5/40\n",
      "9000/9000 [==============================] - 207s 23ms/step - loss: 54.3473 - val_loss: 53.7259\n",
      "Epoch 6/40\n",
      "9000/9000 [==============================] - 179s 20ms/step - loss: 54.0275 - val_loss: 53.3470\n",
      "Epoch 7/40\n",
      "9000/9000 [==============================] - 157s 17ms/step - loss: 53.6724 - val_loss: 53.7384\n",
      "Epoch 8/40\n",
      "9000/9000 [==============================] - 161s 18ms/step - loss: 53.5659 - val_loss: 53.6363\n",
      "Epoch 9/40\n",
      "9000/9000 [==============================] - 153s 17ms/step - loss: 53.3323 - val_loss: 53.6751\n",
      "Epoch 10/40\n",
      "9000/9000 [==============================] - 154s 17ms/step - loss: 53.1916 - val_loss: 52.7159\n",
      "Epoch 11/40\n",
      "9000/9000 [==============================] - 176s 20ms/step - loss: 53.0031 - val_loss: 52.2286\n",
      "Epoch 12/40\n",
      "9000/9000 [==============================] - 199s 22ms/step - loss: 52.8314 - val_loss: 52.3997\n",
      "Epoch 13/40\n",
      "9000/9000 [==============================] - 219s 24ms/step - loss: 52.7750 - val_loss: 52.3755\n",
      "Epoch 14/40\n",
      "9000/9000 [==============================] - 209s 23ms/step - loss: 52.5999 - val_loss: 52.1901\n",
      "Epoch 15/40\n",
      "9000/9000 [==============================] - 195s 22ms/step - loss: 52.5952 - val_loss: 52.3269\n",
      "Epoch 16/40\n",
      "9000/9000 [==============================] - 205s 23ms/step - loss: 52.5059 - val_loss: 52.3029\n",
      "Epoch 17/40\n",
      "9000/9000 [==============================] - 198s 22ms/step - loss: 52.3753 - val_loss: 51.8976\n",
      "Epoch 18/40\n",
      "9000/9000 [==============================] - 107s 12ms/step - loss: 52.3108 - val_loss: 51.7173\n",
      "Epoch 19/40\n",
      "9000/9000 [==============================] - 121s 13ms/step - loss: 52.1812 - val_loss: 51.5599\n",
      "Epoch 20/40\n",
      "9000/9000 [==============================] - 114s 13ms/step - loss: 52.0796 - val_loss: 51.7441\n",
      "Epoch 21/40\n",
      "9000/9000 [==============================] - 116s 13ms/step - loss: 52.0892 - val_loss: 51.5951\n",
      "Epoch 22/40\n",
      "9000/9000 [==============================] - 123s 14ms/step - loss: 52.0514 - val_loss: 51.5657\n",
      "Epoch 23/40\n",
      "9000/9000 [==============================] - 122s 14ms/step - loss: 51.9686 - val_loss: 51.7774\n",
      "Epoch 24/40\n",
      "9000/9000 [==============================] - 113s 13ms/step - loss: 52.1219 - val_loss: 51.7234\n",
      "Epoch 25/40\n",
      "9000/9000 [==============================] - 83s 9ms/step - loss: 51.8935 - val_loss: 51.9495\n",
      "Epoch 26/40\n",
      "9000/9000 [==============================] - 82s 9ms/step - loss: 51.9523 - val_loss: 51.7383\n",
      "Epoch 27/40\n",
      "9000/9000 [==============================] - 82s 9ms/step - loss: 51.8391 - val_loss: 51.4433\n",
      "Epoch 28/40\n",
      "9000/9000 [==============================] - 81s 9ms/step - loss: 51.8359 - val_loss: 51.5454\n",
      "Epoch 29/40\n",
      "9000/9000 [==============================] - 83s 9ms/step - loss: 51.7023 - val_loss: 51.1188\n",
      "Epoch 30/40\n",
      "9000/9000 [==============================] - 99s 11ms/step - loss: 51.6809 - val_loss: 51.3963\n",
      "Epoch 31/40\n",
      "9000/9000 [==============================] - 96s 11ms/step - loss: 51.6168 - val_loss: 51.5353\n",
      "Epoch 32/40\n",
      "9000/9000 [==============================] - 95s 11ms/step - loss: 51.6876 - val_loss: 51.0415\n",
      "Epoch 33/40\n",
      "9000/9000 [==============================] - 93s 10ms/step - loss: 51.4952 - val_loss: 51.2900\n",
      "Epoch 34/40\n",
      "9000/9000 [==============================] - 88s 10ms/step - loss: 51.5256 - val_loss: 51.6317\n",
      "Epoch 35/40\n",
      "9000/9000 [==============================] - 98s 11ms/step - loss: 51.5960 - val_loss: 51.0810\n",
      "Epoch 36/40\n",
      "9000/9000 [==============================] - 97s 11ms/step - loss: 51.5726 - val_loss: 51.1716\n",
      "Epoch 37/40\n",
      "9000/9000 [==============================] - 97s 11ms/step - loss: 51.5571 - val_loss: 50.9693\n",
      "Epoch 38/40\n",
      "9000/9000 [==============================] - 96s 11ms/step - loss: 51.4231 - val_loss: 51.0827\n",
      "Epoch 39/40\n",
      "9000/9000 [==============================] - 97s 11ms/step - loss: 51.3681 - val_loss: 51.2361\n",
      "Epoch 40/40\n",
      "9000/9000 [==============================] - 97s 11ms/step - loss: 51.5164 - val_loss: 50.9224\n"
     ]
    }
   ],
   "source": [
    "# Train the VAE.\n",
    "h = vae.fit(x_train, epochs=40, batch_size=32, validation_data=(x_test, None))"
   ]
  },
  {
   "cell_type": "code",
   "execution_count": 15,
   "metadata": {},
   "outputs": [
    {
     "data": {
      "text/plain": [
       "<matplotlib.image.AxesImage at 0x7f19c803c240>"
      ]
     },
     "execution_count": 15,
     "metadata": {},
     "output_type": "execute_result"
    },
    {
     "data": {
      "image/png": "[encoded data removed]",
      "text/plain": [
       "<Figure size 432x288 with 1 Axes>"
      ]
     },
     "metadata": {
      "needs_background": "light"
     },
     "output_type": "display_data"
    }
   ],
   "source": [
    "plt.imshow(x_test[0:1].reshape((28, 28)))"
   ]
  },
  {
   "cell_type": "code",
   "execution_count": 16,
   "metadata": {},
   "outputs": [
    {
     "data": {
      "text/plain": [
       "<matplotlib.image.AxesImage at 0x7f19c07f00b8>"
      ]
     },
     "execution_count": 16,
     "metadata": {},
     "output_type": "execute_result"
    },
    {
     "data": {
      "image/png": "[encoded data removed]",
      "text/plain": [
       "<Figure size 432x288 with 1 Axes>"
      ]
     },
     "metadata": {
      "needs_background": "light"
     },
     "output_type": "display_data"
    }
   ],
   "source": [
    "plt.imshow(vae.predict(x_test[0:1]).reshape((28, 28)))"
   ]
  },
  {
   "cell_type": "code",
   "execution_count": 17,
   "metadata": {},
   "outputs": [],
   "source": [
    "# vae.save('../Models/{}.h5'.format(nb_name))"
   ]
  },
  {
   "cell_type": "code",
   "execution_count": 18,
   "metadata": {},
   "outputs": [],
   "source": [
    "# from keras.models import load_model\n",
    "# ae = load_model('../Models/{}.h5'.format(nb_name))\n"
   ]
  },
  {
   "cell_type": "code",
   "execution_count": 19,
   "metadata": {},
   "outputs": [
    {
     "data": {
      "text/plain": [
       "Text(0.5, 0.98, 'loss')"
      ]
     },
     "execution_count": 19,
     "metadata": {},
     "output_type": "execute_result"
    },
    {
     "data": {
      "image/png": "[encoded data removed]",
      "text/plain": [
       "<Figure size 432x288 with 1 Axes>"
      ]
     },
     "metadata": {
      "needs_background": "light"
     },
     "output_type": "display_data"
    }
   ],
   "source": [
    "plt.figure()\n",
    "plt.plot(vae.history.history['loss'])\n",
    "plt.suptitle('loss')"
   ]
  },
  {
   "cell_type": "code",
   "execution_count": 20,
   "metadata": {},
   "outputs": [],
   "source": [
    "#Shared.save_quickdraw_activations(ae, np.array(X).reshape([-1, 28, 28, 1]), info_df, n_revisions, nb_name)"
   ]
  },
  {
   "cell_type": "code",
   "execution_count": 21,
   "metadata": {},
   "outputs": [],
   "source": [
    "# Collect all activations\n",
    "layer_output = encoder.predict(np.array(X).reshape([-1, 28, 28, 1]))[0]"
   ]
  },
  {
   "cell_type": "code",
   "execution_count": 22,
   "metadata": {},
   "outputs": [
    {
     "data": {
      "text/plain": [
       "(10000, 2)"
      ]
     },
     "execution_count": 22,
     "metadata": {},
     "output_type": "execute_result"
    }
   ],
   "source": [
    "layer_output.shape"
   ]
  },
  {
   "cell_type": "code",
   "execution_count": 23,
   "metadata": {},
   "outputs": [],
   "source": [
    "# Write activations to csv\n",
    "header = ['id']\n",
    "for t in range(n_revisions):\n",
    "    for d in range(layer_output.shape[1]):\n",
    "        header.append('t{}d{}'.format(t, d))\n",
    "\n",
    "csv_out = []\n",
    "gb = info_df.groupby(['drawing_cat_str', 'drawing_id'])\n",
    "for index, df in gb:  # Iterave over all drawing sequences\n",
    "    drawing_id = index[0] + '-' + str(index[1])\n",
    "    item_row = [drawing_id]\n",
    "    for index, _ in df.sort_values('t').iterrows():  # For all timesteps\n",
    "        for d in range(layer_output.shape[1]):  # Add all dimensions\n",
    "            item_row.append(layer_output[index][d])\n",
    "    csv_out.append(item_row)\n",
    "\n",
    "df_out = pd.DataFrame(csv_out, columns=header)\n",
    "df_out.to_csv('../../Output/{}.csv'.format(nb_name), index=False)"
   ]
  },
  {
   "cell_type": "code",
   "execution_count": null,
   "metadata": {},
   "outputs": [],
   "source": []
  }
 ],
 "metadata": {
  "kernelspec": {
   "display_name": "Python 3",
   "language": "python",
   "name": "python3"
  },
  "language_info": {
   "codemirror_mode": {
    "name": "ipython",
    "version": 3
   },
   "file_extension": ".py",
   "mimetype": "text/x-python",
   "name": "python",
   "nbconvert_exporter": "python",
   "pygments_lexer": "ipython3",
   "version": "3.5.2"
  }
 },
 "nbformat": 4,
 "nbformat_minor": 2
}
