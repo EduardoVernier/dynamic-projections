{
 "cells": [
  {
   "cell_type": "code",
   "execution_count": 1,
   "metadata": {},
   "outputs": [
    {
     "name": "stderr",
     "output_type": "stream",
     "text": [
      "Using TensorFlow backend.\n"
     ]
    }
   ],
   "source": [
    "%matplotlib inline \n",
    "import keras\n",
    "import numpy as np\n",
    "import pandas as pd\n",
    "import matplotlib.pyplot as plt\n",
    "import matplotlib.patches as patches\n",
    "import cv2\n",
    "import glob\n",
    "import random\n",
    "import re\n",
    "import time\n",
    "import math\n",
    "import os\n",
    "import sys\n",
    "from sklearn.utils import shuffle"
   ]
  },
  {
   "cell_type": "code",
   "execution_count": 2,
   "metadata": {},
   "outputs": [
    {
     "data": {
      "text/plain": [
       "<module 'Shared' from '/home/eduardo/Desktop/Link to dynamic-projections/Models/Shared.py'>"
      ]
     },
     "execution_count": 2,
     "metadata": {},
     "output_type": "execute_result"
    }
   ],
   "source": [
    "import importlib\n",
    "sys.path.append('..')\n",
    "import Shared  # Shared.py holds functions common to all notebooks\n",
    "importlib.reload(Shared)  # In case you make changes to the Shared.py file and don't want to restart the nb kernel "
   ]
  },
  {
   "cell_type": "code",
   "execution_count": 3,
   "metadata": {},
   "outputs": [],
   "source": [
    "nb_name = 'fashion-C2AE_32c_32c_32c_1568f_2f_40ep'  # Couldn't figure out how to get this automatically"
   ]
  },
  {
   "cell_type": "code",
   "execution_count": 4,
   "metadata": {
    "scrolled": true
   },
   "outputs": [
    {
     "data": {
      "text/plain": [
       "(10000,\n",
       " 10000,\n",
       " 10,\n",
       " {0: 'ankleboot',\n",
       "  1: 'bag',\n",
       "  2: 'coat',\n",
       "  3: 'dress',\n",
       "  4: 'pullover',\n",
       "  5: 'sandal',\n",
       "  6: 'shirt',\n",
       "  7: 'sneaker',\n",
       "  8: 'trouser',\n",
       "  9: 'tshirt'})"
      ]
     },
     "execution_count": 4,
     "metadata": {},
     "output_type": "execute_result"
    }
   ],
   "source": [
    "X, info_df, n_revisions, CATEGORIES = Shared.load_drawings('../../Datasets/fashion/')\n",
    "# Flatten Nx28x28 -> Nx784x1\n",
    "N = len(X)\n",
    "# np.reshape(X, (len(X), 1, 784))\n",
    "# X_flat = np.reshape(np.ravel(X), (N, -1))\n",
    "len(X), len(info_df), n_revisions, CATEGORIES"
   ]
  },
  {
   "cell_type": "code",
   "execution_count": 5,
   "metadata": {},
   "outputs": [
    {
     "data": {
      "text/html": [
       "<div>\n",
       "<style scoped>\n",
       "    .dataframe tbody tr th:only-of-type {\n",
       "        vertical-align: middle;\n",
       "    }\n",
       "\n",
       "    .dataframe tbody tr th {\n",
       "        vertical-align: top;\n",
       "    }\n",
       "\n",
       "    .dataframe thead th {\n",
       "        text-align: right;\n",
       "    }\n",
       "</style>\n",
       "<table border=\"1\" class=\"dataframe\">\n",
       "  <thead>\n",
       "    <tr style=\"text-align: right;\">\n",
       "      <th></th>\n",
       "      <th>X_index</th>\n",
       "      <th>drawing_cat_id</th>\n",
       "      <th>drawing_cat_str</th>\n",
       "      <th>drawing_id</th>\n",
       "      <th>t</th>\n",
       "    </tr>\n",
       "  </thead>\n",
       "  <tbody>\n",
       "    <tr>\n",
       "      <th>0</th>\n",
       "      <td>0</td>\n",
       "      <td>9</td>\n",
       "      <td>tshirt</td>\n",
       "      <td>687</td>\n",
       "      <td>3</td>\n",
       "    </tr>\n",
       "    <tr>\n",
       "      <th>1</th>\n",
       "      <td>1</td>\n",
       "      <td>0</td>\n",
       "      <td>ankleboot</td>\n",
       "      <td>596</td>\n",
       "      <td>0</td>\n",
       "    </tr>\n",
       "    <tr>\n",
       "      <th>2</th>\n",
       "      <td>2</td>\n",
       "      <td>2</td>\n",
       "      <td>coat</td>\n",
       "      <td>589</td>\n",
       "      <td>8</td>\n",
       "    </tr>\n",
       "    <tr>\n",
       "      <th>3</th>\n",
       "      <td>3</td>\n",
       "      <td>5</td>\n",
       "      <td>sandal</td>\n",
       "      <td>399</td>\n",
       "      <td>1</td>\n",
       "    </tr>\n",
       "    <tr>\n",
       "      <th>4</th>\n",
       "      <td>4</td>\n",
       "      <td>2</td>\n",
       "      <td>coat</td>\n",
       "      <td>12</td>\n",
       "      <td>3</td>\n",
       "    </tr>\n",
       "  </tbody>\n",
       "</table>\n",
       "</div>"
      ],
      "text/plain": [
       "   X_index  drawing_cat_id drawing_cat_str  drawing_id  t\n",
       "0        0               9          tshirt         687  3\n",
       "1        1               0       ankleboot         596  0\n",
       "2        2               2            coat         589  8\n",
       "3        3               5          sandal         399  1\n",
       "4        4               2            coat          12  3"
      ]
     },
     "execution_count": 5,
     "metadata": {},
     "output_type": "execute_result"
    }
   ],
   "source": [
    "info_df.head()"
   ]
  },
  {
   "cell_type": "code",
   "execution_count": 6,
   "metadata": {},
   "outputs": [],
   "source": [
    "from keras.layers import Input, Dense, Conv2D, MaxPooling2D, UpSampling2D, Flatten, Reshape\n",
    "from keras.models import Model\n",
    "\n",
    "from keras import backend as K"
   ]
  },
  {
   "cell_type": "code",
   "execution_count": 7,
   "metadata": {},
   "outputs": [
    {
     "name": "stdout",
     "output_type": "stream",
     "text": [
      "WARNING:tensorflow:From /home/eduardo/.local/share/virtualenvs/dynamic-projections-ak_z834q/lib/python3.5/site-packages/tensorflow/python/framework/op_def_library.py:263: colocate_with (from tensorflow.python.framework.ops) is deprecated and will be removed in a future version.\n",
      "Instructions for updating:\n",
      "Colocations handled automatically by placer.\n",
      "_________________________________________________________________\n",
      "Layer (type)                 Output Shape              Param #   \n",
      "=================================================================\n",
      "input_1 (InputLayer)         (None, 28, 28, 1)         0         \n",
      "_________________________________________________________________\n",
      "conv2d_1 (Conv2D)            (None, 28, 28, 32)        320       \n",
      "_________________________________________________________________\n",
      "max_pooling2d_1 (MaxPooling2 (None, 14, 14, 32)        0         \n",
      "_________________________________________________________________\n",
      "conv2d_2 (Conv2D)            (None, 14, 14, 32)        9248      \n",
      "_________________________________________________________________\n",
      "max_pooling2d_2 (MaxPooling2 (None, 7, 7, 32)          0         \n",
      "_________________________________________________________________\n",
      "conv2d_3 (Conv2D)            (None, 7, 7, 32)          9248      \n",
      "_________________________________________________________________\n",
      "flatten_1 (Flatten)          (None, 1568)              0         \n",
      "_________________________________________________________________\n",
      "dense_1 (Dense)              (None, 2)                 3138      \n",
      "_________________________________________________________________\n",
      "dense_2 (Dense)              (None, 1568)              4704      \n",
      "_________________________________________________________________\n",
      "reshape_1 (Reshape)          (None, 7, 7, 32)          0         \n",
      "_________________________________________________________________\n",
      "conv2d_4 (Conv2D)            (None, 7, 7, 32)          9248      \n",
      "_________________________________________________________________\n",
      "up_sampling2d_1 (UpSampling2 (None, 14, 14, 32)        0         \n",
      "_________________________________________________________________\n",
      "conv2d_5 (Conv2D)            (None, 14, 14, 32)        9248      \n",
      "_________________________________________________________________\n",
      "up_sampling2d_2 (UpSampling2 (None, 28, 28, 32)        0         \n",
      "_________________________________________________________________\n",
      "conv2d_6 (Conv2D)            (None, 28, 28, 32)        9248      \n",
      "_________________________________________________________________\n",
      "conv2d_7 (Conv2D)            (None, 28, 28, 1)         289       \n",
      "=================================================================\n",
      "Total params: 54,691\n",
      "Trainable params: 54,691\n",
      "Non-trainable params: 0\n",
      "_________________________________________________________________\n"
     ]
    }
   ],
   "source": [
    "input_img = Input(shape=(28, 28, 1))\n",
    "# input_img = Input(shape=(28, 28, 1))\n",
    "x = Conv2D(32, (3, 3), activation='relu', padding='same')(input_img)\n",
    "x = MaxPooling2D((2, 2), padding='same')(x)\n",
    "x = Conv2D(32, (3, 3), activation='relu', padding='same')(x)\n",
    "x = MaxPooling2D((2, 2), padding='same')(x)\n",
    "x = Conv2D(32, (3, 3), activation='relu', padding='same')(x)\n",
    "# encoded = Conv2D(2, (2, 2), activation='relu', padding='same', strides=(1,4))(x)\n",
    "x = Flatten()(x)\n",
    "encoded = Dense(2)(x)\n",
    "x = Dense(1568)(encoded)\n",
    "x = Reshape((7,7,32))(x)\n",
    "x = Conv2D(32, (3, 3), activation='relu', padding='same')(x)\n",
    "x = UpSampling2D((2,2))(x)\n",
    "x = Conv2D(32, (3, 3), activation='relu', padding='same')(x)\n",
    "x = UpSampling2D((2,2))(x)\n",
    "x = Conv2D(32, (3, 3), activation='relu', padding='same')(x)\n",
    "decoded = Conv2D(1, (3, 3), activation='relu', padding='same')(x)\n",
    "\n",
    "ae = Model(input_img, decoded)\n",
    "encoder = Model(input_img, encoded)\n",
    "ae.summary()"
   ]
  },
  {
   "cell_type": "code",
   "execution_count": 8,
   "metadata": {},
   "outputs": [],
   "source": [
    "ae.compile(loss='mse', optimizer='adam')"
   ]
  },
  {
   "cell_type": "code",
   "execution_count": 9,
   "metadata": {
    "scrolled": false
   },
   "outputs": [
    {
     "name": "stdout",
     "output_type": "stream",
     "text": [
      "WARNING:tensorflow:From /home/eduardo/.local/share/virtualenvs/dynamic-projections-ak_z834q/lib/python3.5/site-packages/tensorflow/python/ops/math_ops.py:3066: to_int32 (from tensorflow.python.ops.math_ops) is deprecated and will be removed in a future version.\n",
      "Instructions for updating:\n",
      "Use tf.cast instead.\n"
     ]
    },
    {
     "name": "stderr",
     "output_type": "stream",
     "text": [
      "/home/eduardo/.local/share/virtualenvs/dynamic-projections-ak_z834q/lib/python3.5/site-packages/ipykernel_launcher.py:1: UserWarning: The `nb_epoch` argument in `fit` has been renamed `epochs`.\n",
      "  \"\"\"Entry point for launching an IPython kernel.\n"
     ]
    },
    {
     "name": "stdout",
     "output_type": "stream",
     "text": [
      "Epoch 1/40\n",
      "10000/10000 [==============================] - 71s 7ms/step - loss: 0.0766\n",
      "Epoch 2/40\n",
      "10000/10000 [==============================] - 63s 6ms/step - loss: 0.0652\n",
      "Epoch 3/40\n",
      "10000/10000 [==============================] - 62s 6ms/step - loss: 0.0639\n",
      "Epoch 4/40\n",
      "10000/10000 [==============================] - 63s 6ms/step - loss: 0.0633\n",
      "Epoch 5/40\n",
      "10000/10000 [==============================] - 66s 7ms/step - loss: 0.0628\n",
      "Epoch 6/40\n",
      "10000/10000 [==============================] - 67s 7ms/step - loss: 0.0622\n",
      "Epoch 7/40\n",
      "10000/10000 [==============================] - 63s 6ms/step - loss: 0.0617\n",
      "Epoch 8/40\n",
      "10000/10000 [==============================] - 62s 6ms/step - loss: 0.0613\n",
      "Epoch 9/40\n",
      "10000/10000 [==============================] - 87s 9ms/step - loss: 0.0611\n",
      "Epoch 10/40\n",
      "10000/10000 [==============================] - 90s 9ms/step - loss: 0.0607\n",
      "Epoch 11/40\n",
      "10000/10000 [==============================] - 84s 8ms/step - loss: 0.0606\n",
      "Epoch 12/40\n",
      "10000/10000 [==============================] - 90s 9ms/step - loss: 0.0603\n",
      "Epoch 13/40\n",
      "10000/10000 [==============================] - 88s 9ms/step - loss: 0.0601\n",
      "Epoch 14/40\n",
      "10000/10000 [==============================] - 67s 7ms/step - loss: 0.0600\n",
      "Epoch 15/40\n",
      "10000/10000 [==============================] - 65s 7ms/step - loss: 0.0599\n",
      "Epoch 16/40\n",
      "10000/10000 [==============================] - 65s 6ms/step - loss: 0.0597\n",
      "Epoch 17/40\n",
      "10000/10000 [==============================] - 67s 7ms/step - loss: 0.0596\n",
      "Epoch 18/40\n",
      "10000/10000 [==============================] - 65s 7ms/step - loss: 0.0595\n",
      "Epoch 19/40\n",
      "10000/10000 [==============================] - 69s 7ms/step - loss: 0.0594\n",
      "Epoch 20/40\n",
      "10000/10000 [==============================] - 64s 6ms/step - loss: 0.0593\n",
      "Epoch 21/40\n",
      "10000/10000 [==============================] - 64s 6ms/step - loss: 0.0592\n",
      "Epoch 22/40\n",
      "10000/10000 [==============================] - 64s 6ms/step - loss: 0.0590\n",
      "Epoch 23/40\n",
      "10000/10000 [==============================] - 66s 7ms/step - loss: 0.0590\n",
      "Epoch 24/40\n",
      "10000/10000 [==============================] - 64s 6ms/step - loss: 0.0590\n",
      "Epoch 25/40\n",
      "10000/10000 [==============================] - 65s 7ms/step - loss: 0.0588\n",
      "Epoch 26/40\n",
      "10000/10000 [==============================] - 83s 8ms/step - loss: 0.0588\n",
      "Epoch 27/40\n",
      "10000/10000 [==============================] - 77s 8ms/step - loss: 0.0587\n",
      "Epoch 28/40\n",
      "10000/10000 [==============================] - 86s 9ms/step - loss: 0.0587\n",
      "Epoch 29/40\n",
      "10000/10000 [==============================] - 88s 9ms/step - loss: 0.0587\n",
      "Epoch 30/40\n",
      "10000/10000 [==============================] - 94s 9ms/step - loss: 0.0586\n",
      "Epoch 31/40\n",
      "10000/10000 [==============================] - 91s 9ms/step - loss: 0.0586\n",
      "Epoch 32/40\n",
      "10000/10000 [==============================] - 92s 9ms/step - loss: 0.0584\n",
      "Epoch 33/40\n",
      "10000/10000 [==============================] - 87s 9ms/step - loss: 0.0584\n",
      "Epoch 34/40\n",
      "10000/10000 [==============================] - 76s 8ms/step - loss: 0.0583\n",
      "Epoch 35/40\n",
      "10000/10000 [==============================] - 79s 8ms/step - loss: 0.0583\n",
      "Epoch 36/40\n",
      "10000/10000 [==============================] - 92s 9ms/step - loss: 0.0583\n",
      "Epoch 37/40\n",
      "10000/10000 [==============================] - 85s 8ms/step - loss: 0.0582\n",
      "Epoch 38/40\n",
      "10000/10000 [==============================] - 83s 8ms/step - loss: 0.0581\n",
      "Epoch 39/40\n",
      "10000/10000 [==============================] - 96s 10ms/step - loss: 0.0581\n",
      "Epoch 40/40\n",
      "10000/10000 [==============================] - 91s 9ms/step - loss: 0.0581\n",
      "CPU times: user 1h 19min 32s, sys: 49.5 s, total: 1h 20min 22s\n",
      "Wall time: 50min 42s\n"
     ]
    },
    {
     "data": {
      "text/plain": [
       "<keras.callbacks.History at 0x7eff9eafea20>"
      ]
     },
     "execution_count": 9,
     "metadata": {},
     "output_type": "execute_result"
    }
   ],
   "source": [
    "%time ae.fit(np.array(X).reshape([-1, 28, 28, 1]), np.array(X).reshape([-1, 28, 28, 1]), nb_epoch=40)"
   ]
  },
  {
   "cell_type": "code",
   "execution_count": null,
   "metadata": {},
   "outputs": [],
   "source": []
  },
  {
   "cell_type": "code",
   "execution_count": 10,
   "metadata": {},
   "outputs": [],
   "source": [
    "# ae.save('../Models/{}.h5'.format(nb_name))"
   ]
  },
  {
   "cell_type": "code",
   "execution_count": 11,
   "metadata": {},
   "outputs": [],
   "source": [
    "# from keras.models import load_model\n",
    "# ae = load_model('../Models/{}.h5'.format(nb_name))\n"
   ]
  },
  {
   "cell_type": "code",
   "execution_count": 17,
   "metadata": {},
   "outputs": [
    {
     "data": {
      "text/plain": [
       "Text(0.5, 0.98, 'loss')"
      ]
     },
     "execution_count": 17,
     "metadata": {},
     "output_type": "execute_result"
    },
    {
     "data": {
      "image/png": "[encoded data removed]",
      "text/plain": [
       "<Figure size 432x288 with 1 Axes>"
      ]
     },
     "metadata": {
      "needs_background": "light"
     },
     "output_type": "display_data"
    }
   ],
   "source": [
    "plt.figure()\n",
    "plt.plot(ae.history.history['loss'])\n",
    "plt.suptitle('loss')"
   ]
  },
  {
   "cell_type": "code",
   "execution_count": 13,
   "metadata": {},
   "outputs": [],
   "source": [
    "#Shared.save_quickdraw_activations(ae, np.array(X).reshape([-1, 28, 28, 1]), info_df, n_revisions, nb_name)"
   ]
  },
  {
   "cell_type": "code",
   "execution_count": 14,
   "metadata": {},
   "outputs": [],
   "source": [
    "# Collect all activations\n",
    "middle = int(len(ae.layers)/2 - 1)\n",
    "middle_layer_output = K.function([encoder.layers[0].input],\n",
    "                                 [encoder.layers[-1].output])\n",
    "layer_output = middle_layer_output([np.array(X).reshape([-1, 28, 28, 1])])[0]"
   ]
  },
  {
   "cell_type": "code",
   "execution_count": 15,
   "metadata": {},
   "outputs": [
    {
     "data": {
      "text/plain": [
       "(10000, 2)"
      ]
     },
     "execution_count": 15,
     "metadata": {},
     "output_type": "execute_result"
    }
   ],
   "source": [
    "layer_output.shape"
   ]
  },
  {
   "cell_type": "code",
   "execution_count": 16,
   "metadata": {},
   "outputs": [],
   "source": [
    "# Write activations to csv\n",
    "header = ['id']\n",
    "for t in range(n_revisions):\n",
    "    for d in range(layer_output.shape[1]):\n",
    "        header.append('t{}d{}'.format(t, d))\n",
    "\n",
    "csv_out = []\n",
    "gb = info_df.groupby(['drawing_cat_str', 'drawing_id'])\n",
    "for index, df in gb:  # Iterave over all drawing sequences\n",
    "    drawing_id = index[0] + '-' + str(index[1])\n",
    "    item_row = [drawing_id]\n",
    "    for index, _ in df.sort_values('t').iterrows():  # For all timesteps\n",
    "        for d in range(layer_output.shape[1]):  # Add all dimensions\n",
    "            item_row.append(layer_output[index][d])\n",
    "    csv_out.append(item_row)\n",
    "\n",
    "df_out = pd.DataFrame(csv_out, columns=header)\n",
    "df_out.to_csv('../../Output/{}.csv'.format(nb_name), index=False)"
   ]
  }
 ],
 "metadata": {
  "kernelspec": {
   "display_name": "Python 3",
   "language": "python",
   "name": "python3"
  },
  "language_info": {
   "codemirror_mode": {
    "name": "ipython",
    "version": 3
   },
   "file_extension": ".py",
   "mimetype": "text/x-python",
   "name": "python",
   "nbconvert_exporter": "python",
   "pygments_lexer": "ipython3",
   "version": "3.5.2"
  }
 },
 "nbformat": 4,
 "nbformat_minor": 2
}
