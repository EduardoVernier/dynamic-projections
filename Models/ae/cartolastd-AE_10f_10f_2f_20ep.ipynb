{
 "cells": [
  {
   "cell_type": "code",
   "execution_count": 1,
   "metadata": {},
   "outputs": [
    {
     "name": "stderr",
     "output_type": "stream",
     "text": [
      "Using TensorFlow backend.\n"
     ]
    }
   ],
   "source": [
    "%matplotlib inline \n",
    "import keras\n",
    "import numpy as np\n",
    "import pandas as pd\n",
    "import matplotlib.pyplot as plt\n",
    "import matplotlib.patches as patches\n",
    "import glob\n",
    "import random\n",
    "import re\n",
    "import time\n",
    "import math\n",
    "import os\n",
    "import sys\n",
    "from sklearn.utils import shuffle\n",
    "\n",
    "import keras\n",
    "from keras import backend as K\n",
    "from keras.models import Sequential\n",
    "from keras.layers.core import Dense, Dropout, Activation, Flatten, Reshape\n",
    "from keras.layers.convolutional import Conv2D, MaxPooling2D, UpSampling2D\n",
    "from keras.optimizers import SGD\n",
    "from keras.utils import np_utils\n",
    "from keras.objectives import categorical_crossentropy"
   ]
  },
  {
   "cell_type": "code",
   "execution_count": 2,
   "metadata": {},
   "outputs": [
    {
     "data": {
      "text/plain": [
       "<module 'Shared' from '../Shared.py'>"
      ]
     },
     "execution_count": 2,
     "metadata": {},
     "output_type": "execute_result"
    }
   ],
   "source": [
    "import importlib\n",
    "sys.path.append('..')\n",
    "import Shared  # Shared.py holds functions common to all notebooks\n",
    "importlib.reload(Shared)  # In case you make changes to the Shared.py file and don't want to restart the nb kernel "
   ]
  },
  {
   "cell_type": "code",
   "execution_count": 3,
   "metadata": {},
   "outputs": [],
   "source": [
    "nb_name = 'cartolastd-AE_10f_10f_2f_50ep'"
   ]
  },
  {
   "cell_type": "code",
   "execution_count": 4,
   "metadata": {},
   "outputs": [],
   "source": [
    "X, info_df, n_revisions = Shared.load_tabular('../../Datasets/cartolastd/')"
   ]
  },
  {
   "cell_type": "code",
   "execution_count": 5,
   "metadata": {
    "scrolled": true
   },
   "outputs": [
    {
     "data": {
      "text/html": [
       "<div>\n",
       "<style scoped>\n",
       "    .dataframe tbody tr th:only-of-type {\n",
       "        vertical-align: middle;\n",
       "    }\n",
       "\n",
       "    .dataframe tbody tr th {\n",
       "        vertical-align: top;\n",
       "    }\n",
       "\n",
       "    .dataframe thead th {\n",
       "        text-align: right;\n",
       "    }\n",
       "</style>\n",
       "<table border=\"1\" class=\"dataframe\">\n",
       "  <thead>\n",
       "    <tr style=\"text-align: right;\">\n",
       "      <th></th>\n",
       "      <th>X_index</th>\n",
       "      <th>cat</th>\n",
       "      <th>point_id</th>\n",
       "      <th>t</th>\n",
       "    </tr>\n",
       "  </thead>\n",
       "  <tbody>\n",
       "    <tr>\n",
       "      <th>0</th>\n",
       "      <td>0</td>\n",
       "      <td>l</td>\n",
       "      <td>lat-90587</td>\n",
       "      <td>16</td>\n",
       "    </tr>\n",
       "    <tr>\n",
       "      <th>1</th>\n",
       "      <td>1</td>\n",
       "      <td>m</td>\n",
       "      <td>mei-68770</td>\n",
       "      <td>1</td>\n",
       "    </tr>\n",
       "    <tr>\n",
       "      <th>2</th>\n",
       "      <td>2</td>\n",
       "      <td>m</td>\n",
       "      <td>mei-62129</td>\n",
       "      <td>16</td>\n",
       "    </tr>\n",
       "    <tr>\n",
       "      <th>3</th>\n",
       "      <td>3</td>\n",
       "      <td>l</td>\n",
       "      <td>lat-84917</td>\n",
       "      <td>7</td>\n",
       "    </tr>\n",
       "    <tr>\n",
       "      <th>4</th>\n",
       "      <td>4</td>\n",
       "      <td>m</td>\n",
       "      <td>mei-78605</td>\n",
       "      <td>14</td>\n",
       "    </tr>\n",
       "  </tbody>\n",
       "</table>\n",
       "</div>"
      ],
      "text/plain": [
       "   X_index cat   point_id   t\n",
       "0        0   l  lat-90587  16\n",
       "1        1   m  mei-68770   1\n",
       "2        2   m  mei-62129  16\n",
       "3        3   l  lat-84917   7\n",
       "4        4   m  mei-78605  14"
      ]
     },
     "execution_count": 5,
     "metadata": {},
     "output_type": "execute_result"
    }
   ],
   "source": [
    "info_df.head()"
   ]
  },
  {
   "cell_type": "code",
   "execution_count": 6,
   "metadata": {},
   "outputs": [
    {
     "data": {
      "text/html": [
       "<div>\n",
       "<style scoped>\n",
       "    .dataframe tbody tr th:only-of-type {\n",
       "        vertical-align: middle;\n",
       "    }\n",
       "\n",
       "    .dataframe tbody tr th {\n",
       "        vertical-align: top;\n",
       "    }\n",
       "\n",
       "    .dataframe thead th {\n",
       "        text-align: right;\n",
       "    }\n",
       "</style>\n",
       "<table border=\"1\" class=\"dataframe\">\n",
       "  <thead>\n",
       "    <tr style=\"text-align: right;\">\n",
       "      <th></th>\n",
       "      <th>X_index</th>\n",
       "      <th>cat</th>\n",
       "      <th>point_id</th>\n",
       "      <th>t</th>\n",
       "    </tr>\n",
       "  </thead>\n",
       "  <tbody>\n",
       "    <tr>\n",
       "      <th>548</th>\n",
       "      <td>548</td>\n",
       "      <td>a</td>\n",
       "      <td>ata-95180</td>\n",
       "      <td>16</td>\n",
       "    </tr>\n",
       "    <tr>\n",
       "      <th>618</th>\n",
       "      <td>618</td>\n",
       "      <td>a</td>\n",
       "      <td>ata-95180</td>\n",
       "      <td>17</td>\n",
       "    </tr>\n",
       "    <tr>\n",
       "      <th>1728</th>\n",
       "      <td>1728</td>\n",
       "      <td>a</td>\n",
       "      <td>ata-95180</td>\n",
       "      <td>4</td>\n",
       "    </tr>\n",
       "    <tr>\n",
       "      <th>2379</th>\n",
       "      <td>2379</td>\n",
       "      <td>a</td>\n",
       "      <td>ata-95180</td>\n",
       "      <td>5</td>\n",
       "    </tr>\n",
       "    <tr>\n",
       "      <th>3411</th>\n",
       "      <td>3411</td>\n",
       "      <td>a</td>\n",
       "      <td>ata-95180</td>\n",
       "      <td>10</td>\n",
       "    </tr>\n",
       "    <tr>\n",
       "      <th>3412</th>\n",
       "      <td>3412</td>\n",
       "      <td>a</td>\n",
       "      <td>ata-95180</td>\n",
       "      <td>6</td>\n",
       "    </tr>\n",
       "    <tr>\n",
       "      <th>3829</th>\n",
       "      <td>3829</td>\n",
       "      <td>a</td>\n",
       "      <td>ata-95180</td>\n",
       "      <td>11</td>\n",
       "    </tr>\n",
       "    <tr>\n",
       "      <th>4378</th>\n",
       "      <td>4378</td>\n",
       "      <td>a</td>\n",
       "      <td>ata-95180</td>\n",
       "      <td>15</td>\n",
       "    </tr>\n",
       "    <tr>\n",
       "      <th>5436</th>\n",
       "      <td>5436</td>\n",
       "      <td>a</td>\n",
       "      <td>ata-95180</td>\n",
       "      <td>18</td>\n",
       "    </tr>\n",
       "    <tr>\n",
       "      <th>6854</th>\n",
       "      <td>6854</td>\n",
       "      <td>a</td>\n",
       "      <td>ata-95180</td>\n",
       "      <td>8</td>\n",
       "    </tr>\n",
       "    <tr>\n",
       "      <th>8834</th>\n",
       "      <td>8834</td>\n",
       "      <td>a</td>\n",
       "      <td>ata-95180</td>\n",
       "      <td>7</td>\n",
       "    </tr>\n",
       "    <tr>\n",
       "      <th>9374</th>\n",
       "      <td>9374</td>\n",
       "      <td>a</td>\n",
       "      <td>ata-95180</td>\n",
       "      <td>0</td>\n",
       "    </tr>\n",
       "    <tr>\n",
       "      <th>10351</th>\n",
       "      <td>10351</td>\n",
       "      <td>a</td>\n",
       "      <td>ata-95180</td>\n",
       "      <td>1</td>\n",
       "    </tr>\n",
       "    <tr>\n",
       "      <th>10811</th>\n",
       "      <td>10811</td>\n",
       "      <td>a</td>\n",
       "      <td>ata-95180</td>\n",
       "      <td>14</td>\n",
       "    </tr>\n",
       "    <tr>\n",
       "      <th>11657</th>\n",
       "      <td>11657</td>\n",
       "      <td>a</td>\n",
       "      <td>ata-95180</td>\n",
       "      <td>9</td>\n",
       "    </tr>\n",
       "    <tr>\n",
       "      <th>11956</th>\n",
       "      <td>11956</td>\n",
       "      <td>a</td>\n",
       "      <td>ata-95180</td>\n",
       "      <td>13</td>\n",
       "    </tr>\n",
       "    <tr>\n",
       "      <th>12283</th>\n",
       "      <td>12283</td>\n",
       "      <td>a</td>\n",
       "      <td>ata-95180</td>\n",
       "      <td>12</td>\n",
       "    </tr>\n",
       "    <tr>\n",
       "      <th>12562</th>\n",
       "      <td>12562</td>\n",
       "      <td>a</td>\n",
       "      <td>ata-95180</td>\n",
       "      <td>2</td>\n",
       "    </tr>\n",
       "    <tr>\n",
       "      <th>13037</th>\n",
       "      <td>13037</td>\n",
       "      <td>a</td>\n",
       "      <td>ata-95180</td>\n",
       "      <td>3</td>\n",
       "    </tr>\n",
       "  </tbody>\n",
       "</table>\n",
       "</div>"
      ],
      "text/plain": [
       "       X_index cat   point_id   t\n",
       "548        548   a  ata-95180  16\n",
       "618        618   a  ata-95180  17\n",
       "1728      1728   a  ata-95180   4\n",
       "2379      2379   a  ata-95180   5\n",
       "3411      3411   a  ata-95180  10\n",
       "3412      3412   a  ata-95180   6\n",
       "3829      3829   a  ata-95180  11\n",
       "4378      4378   a  ata-95180  15\n",
       "5436      5436   a  ata-95180  18\n",
       "6854      6854   a  ata-95180   8\n",
       "8834      8834   a  ata-95180   7\n",
       "9374      9374   a  ata-95180   0\n",
       "10351    10351   a  ata-95180   1\n",
       "10811    10811   a  ata-95180  14\n",
       "11657    11657   a  ata-95180   9\n",
       "11956    11956   a  ata-95180  13\n",
       "12283    12283   a  ata-95180  12\n",
       "12562    12562   a  ata-95180   2\n",
       "13037    13037   a  ata-95180   3"
      ]
     },
     "execution_count": 6,
     "metadata": {},
     "output_type": "execute_result"
    }
   ],
   "source": [
    "info_df[info_df['point_id'] == 'ata-95180']"
   ]
  },
  {
   "cell_type": "code",
   "execution_count": 7,
   "metadata": {},
   "outputs": [
    {
     "name": "stdout",
     "output_type": "stream",
     "text": [
      "WARNING:tensorflow:From /home/eduardo/.local/share/virtualenvs/dynamic-projections-ak_z834q/lib/python3.5/site-packages/tensorflow/python/framework/op_def_library.py:263: colocate_with (from tensorflow.python.framework.ops) is deprecated and will be removed in a future version.\n",
      "Instructions for updating:\n",
      "Colocations handled automatically by placer.\n"
     ]
    }
   ],
   "source": [
    "n = X.shape[1]\n",
    "ae = Sequential()\n",
    "ae.add(Dense(10, activation='relu', input_shape=(n,)))\n",
    "ae.add(Dense(10, activation='relu'))\n",
    "ae.add(Dense(2))\n",
    "ae.add(Dense(10, activation='relu'))\n",
    "ae.add(Dense(10, activation='relu'))\n",
    "ae.add(Dense(n))"
   ]
  },
  {
   "cell_type": "code",
   "execution_count": 8,
   "metadata": {},
   "outputs": [],
   "source": [
    "ae.compile(loss='mse', optimizer='adam')"
   ]
  },
  {
   "cell_type": "code",
   "execution_count": 9,
   "metadata": {
    "scrolled": true
   },
   "outputs": [
    {
     "name": "stdout",
     "output_type": "stream",
     "text": [
      "WARNING:tensorflow:From /home/eduardo/.local/share/virtualenvs/dynamic-projections-ak_z834q/lib/python3.5/site-packages/tensorflow/python/ops/math_ops.py:3066: to_int32 (from tensorflow.python.ops.math_ops) is deprecated and will be removed in a future version.\n",
      "Instructions for updating:\n",
      "Use tf.cast instead.\n"
     ]
    },
    {
     "name": "stderr",
     "output_type": "stream",
     "text": [
      "/home/eduardo/.local/share/virtualenvs/dynamic-projections-ak_z834q/lib/python3.5/site-packages/ipykernel_launcher.py:1: UserWarning: The `nb_epoch` argument in `fit` has been renamed `epochs`.\n",
      "  \"\"\"Entry point for launching an IPython kernel.\n"
     ]
    },
    {
     "name": "stdout",
     "output_type": "stream",
     "text": [
      "Epoch 1/50\n",
      "13224/13224 [==============================] - 2s 124us/step - loss: 0.7009\n",
      "Epoch 2/50\n",
      "13224/13224 [==============================] - 1s 86us/step - loss: 0.3935\n",
      "Epoch 3/50\n",
      "13224/13224 [==============================] - 1s 77us/step - loss: 0.3489\n",
      "Epoch 4/50\n",
      "13224/13224 [==============================] - 1s 79us/step - loss: 0.3351\n",
      "Epoch 5/50\n",
      "13224/13224 [==============================] - 1s 99us/step - loss: 0.3273\n",
      "Epoch 6/50\n",
      "13224/13224 [==============================] - 1s 99us/step - loss: 0.3206\n",
      "Epoch 7/50\n",
      "13224/13224 [==============================] - 1s 73us/step - loss: 0.3165\n",
      "Epoch 8/50\n",
      "13224/13224 [==============================] - 1s 83us/step - loss: 0.3127\n",
      "Epoch 9/50\n",
      "13224/13224 [==============================] - 1s 77us/step - loss: 0.3105\n",
      "Epoch 10/50\n",
      "13224/13224 [==============================] - 1s 82us/step - loss: 0.3084\n",
      "Epoch 11/50\n",
      "13224/13224 [==============================] - 1s 78us/step - loss: 0.3071\n",
      "Epoch 12/50\n",
      "13224/13224 [==============================] - 1s 68us/step - loss: 0.3059\n",
      "Epoch 13/50\n",
      "13224/13224 [==============================] - 1s 74us/step - loss: 0.3050\n",
      "Epoch 14/50\n",
      "13224/13224 [==============================] - 1s 74us/step - loss: 0.3037\n",
      "Epoch 15/50\n",
      "13224/13224 [==============================] - 1s 69us/step - loss: 0.3022\n",
      "Epoch 16/50\n",
      "13224/13224 [==============================] - 1s 60us/step - loss: 0.3010\n",
      "Epoch 17/50\n",
      "13224/13224 [==============================] - 1s 55us/step - loss: 0.2995\n",
      "Epoch 18/50\n",
      "13224/13224 [==============================] - 1s 58us/step - loss: 0.2981\n",
      "Epoch 19/50\n",
      "13224/13224 [==============================] - 1s 65us/step - loss: 0.2962\n",
      "Epoch 20/50\n",
      "13224/13224 [==============================] - 1s 57us/step - loss: 0.2937\n",
      "Epoch 21/50\n",
      "13224/13224 [==============================] - 1s 61us/step - loss: 0.2913\n",
      "Epoch 22/50\n",
      "13224/13224 [==============================] - 1s 59us/step - loss: 0.2892\n",
      "Epoch 23/50\n",
      "13224/13224 [==============================] - 1s 59us/step - loss: 0.2865\n",
      "Epoch 24/50\n",
      "13224/13224 [==============================] - 1s 107us/step - loss: 0.2845\n",
      "Epoch 25/50\n",
      "13224/13224 [==============================] - 1s 81us/step - loss: 0.2825\n",
      "Epoch 26/50\n",
      "13224/13224 [==============================] - 1s 96us/step - loss: 0.2808\n",
      "Epoch 27/50\n",
      "13224/13224 [==============================] - 1s 102us/step - loss: 0.2791\n",
      "Epoch 28/50\n",
      "13224/13224 [==============================] - 1s 108us/step - loss: 0.2776\n",
      "Epoch 29/50\n",
      "13224/13224 [==============================] - 1s 93us/step - loss: 0.2761\n",
      "Epoch 30/50\n",
      "13224/13224 [==============================] - 1s 59us/step - loss: 0.2756\n",
      "Epoch 31/50\n",
      "13224/13224 [==============================] - 1s 67us/step - loss: 0.2741\n",
      "Epoch 32/50\n",
      "13224/13224 [==============================] - 1s 99us/step - loss: 0.2736\n",
      "Epoch 33/50\n",
      "13224/13224 [==============================] - 1s 86us/step - loss: 0.2720\n",
      "Epoch 34/50\n",
      "13224/13224 [==============================] - 1s 105us/step - loss: 0.2715\n",
      "Epoch 35/50\n",
      "13224/13224 [==============================] - 1s 82us/step - loss: 0.2700\n",
      "Epoch 36/50\n",
      "13224/13224 [==============================] - 1s 79us/step - loss: 0.2698: 0s - loss: 0.269\n",
      "Epoch 37/50\n",
      "13224/13224 [==============================] - 1s 72us/step - loss: 0.2694\n",
      "Epoch 38/50\n",
      "13224/13224 [==============================] - 1s 73us/step - loss: 0.2678\n",
      "Epoch 39/50\n",
      "13224/13224 [==============================] - 1s 71us/step - loss: 0.2680\n",
      "Epoch 40/50\n",
      "13224/13224 [==============================] - 1s 68us/step - loss: 0.2675\n",
      "Epoch 41/50\n",
      "13224/13224 [==============================] - 1s 88us/step - loss: 0.2668\n",
      "Epoch 42/50\n",
      "13224/13224 [==============================] - 1s 74us/step - loss: 0.2670\n",
      "Epoch 43/50\n",
      "13224/13224 [==============================] - 1s 77us/step - loss: 0.2662\n",
      "Epoch 44/50\n",
      "13224/13224 [==============================] - 1s 81us/step - loss: 0.2658\n",
      "Epoch 45/50\n",
      "13224/13224 [==============================] - 1s 67us/step - loss: 0.2657\n",
      "Epoch 46/50\n",
      "13224/13224 [==============================] - 1s 75us/step - loss: 0.2651\n",
      "Epoch 47/50\n",
      "13224/13224 [==============================] - 1s 72us/step - loss: 0.2651\n",
      "Epoch 48/50\n",
      "13224/13224 [==============================] - 1s 56us/step - loss: 0.2644\n",
      "Epoch 49/50\n",
      "13224/13224 [==============================] - 1s 54us/step - loss: 0.2642\n",
      "Epoch 50/50\n",
      "13224/13224 [==============================] - 1s 65us/step - loss: 0.2635\n",
      "CPU times: user 54 s, sys: 2.32 s, total: 56.3 s\n",
      "Wall time: 52.1 s\n"
     ]
    },
    {
     "data": {
      "text/plain": [
       "<keras.callbacks.History at 0x7f93b5e6a710>"
      ]
     },
     "execution_count": 9,
     "metadata": {},
     "output_type": "execute_result"
    }
   ],
   "source": [
    "%time ae.fit(X, X, nb_epoch=50)"
   ]
  },
  {
   "cell_type": "code",
   "execution_count": 10,
   "metadata": {},
   "outputs": [
    {
     "name": "stdout",
     "output_type": "stream",
     "text": [
      "_________________________________________________________________\n",
      "Layer (type)                 Output Shape              Param #   \n",
      "=================================================================\n",
      "dense_1 (Dense)              (None, 10)                180       \n",
      "_________________________________________________________________\n",
      "dense_2 (Dense)              (None, 10)                110       \n",
      "_________________________________________________________________\n",
      "dense_3 (Dense)              (None, 2)                 22        \n",
      "_________________________________________________________________\n",
      "dense_4 (Dense)              (None, 10)                30        \n",
      "_________________________________________________________________\n",
      "dense_5 (Dense)              (None, 10)                110       \n",
      "_________________________________________________________________\n",
      "dense_6 (Dense)              (None, 17)                187       \n",
      "=================================================================\n",
      "Total params: 639\n",
      "Trainable params: 639\n",
      "Non-trainable params: 0\n",
      "_________________________________________________________________\n"
     ]
    }
   ],
   "source": [
    "ae.summary()"
   ]
  },
  {
   "cell_type": "code",
   "execution_count": 12,
   "metadata": {},
   "outputs": [],
   "source": [
    "# ae.save('../Models/{}.h5'.format(nb_name))"
   ]
  },
  {
   "cell_type": "code",
   "execution_count": 13,
   "metadata": {
    "scrolled": true
   },
   "outputs": [
    {
     "data": {
      "text/plain": [
       "Text(0.5, 0.98, 'loss')"
      ]
     },
     "execution_count": 13,
     "metadata": {},
     "output_type": "execute_result"
    },
    {
     "data": {
      "image/png": "[encoded data removed]",
      "text/plain": [
       "<Figure size 432x288 with 1 Axes>"
      ]
     },
     "metadata": {
      "needs_background": "light"
     },
     "output_type": "display_data"
    }
   ],
   "source": [
    "plt.figure()\n",
    "plt.plot(ae.history.history['loss'])\n",
    "plt.suptitle('loss')"
   ]
  },
  {
   "cell_type": "code",
   "execution_count": 14,
   "metadata": {},
   "outputs": [
    {
     "data": {
      "text/plain": [
       "True"
      ]
     },
     "execution_count": 14,
     "metadata": {},
     "output_type": "execute_result"
    }
   ],
   "source": [
    "Shared.save_tabular_activations(ae, X, info_df, n_revisions, nb_name)"
   ]
  },
  {
   "cell_type": "code",
   "execution_count": null,
   "metadata": {},
   "outputs": [],
   "source": []
  }
 ],
 "metadata": {
  "kernelspec": {
   "display_name": "Python 3",
   "language": "python",
   "name": "python3"
  },
  "language_info": {
   "codemirror_mode": {
    "name": "ipython",
    "version": 3
   },
   "file_extension": ".py",
   "mimetype": "text/x-python",
   "name": "python",
   "nbconvert_exporter": "python",
   "pygments_lexer": "ipython3",
   "version": "3.5.2"
  }
 },
 "nbformat": 4,
 "nbformat_minor": 2
}
