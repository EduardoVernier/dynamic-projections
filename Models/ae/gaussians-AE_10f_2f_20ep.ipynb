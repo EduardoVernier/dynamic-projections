{
 "cells": [
  {
   "cell_type": "code",
   "execution_count": 1,
   "metadata": {},
   "outputs": [
    {
     "name": "stderr",
     "output_type": "stream",
     "text": [
      "Using TensorFlow backend.\n"
     ]
    }
   ],
   "source": [
    "%matplotlib inline \n",
    "import keras\n",
    "import numpy as np\n",
    "import pandas as pd\n",
    "import matplotlib.pyplot as plt\n",
    "import matplotlib.patches as patches\n",
    "import glob\n",
    "import random\n",
    "import re\n",
    "import time\n",
    "import math\n",
    "import os\n",
    "import sys\n",
    "from sklearn.utils import shuffle\n",
    "\n",
    "import keras\n",
    "from keras import backend as K\n",
    "from keras.models import Sequential\n",
    "from keras.layers.core import Dense, Dropout, Activation, Flatten, Reshape\n",
    "from keras.layers.convolutional import Conv2D, MaxPooling2D, UpSampling2D\n",
    "from keras.optimizers import SGD\n",
    "from keras.utils import np_utils\n",
    "from keras.objectives import categorical_crossentropy"
   ]
  },
  {
   "cell_type": "code",
   "execution_count": 2,
   "metadata": {},
   "outputs": [
    {
     "data": {
      "text/plain": [
       "<module 'Shared' from '../Shared.py'>"
      ]
     },
     "execution_count": 2,
     "metadata": {},
     "output_type": "execute_result"
    }
   ],
   "source": [
    "import importlib\n",
    "sys.path.append('..')\n",
    "import Shared  # Shared.py holds functions common to all notebooks\n",
    "importlib.reload(Shared)  # In case you make changes to the Shared.py file and don't want to restart the nb kernel "
   ]
  },
  {
   "cell_type": "code",
   "execution_count": 3,
   "metadata": {},
   "outputs": [],
   "source": [
    "nb_name = 'gaussians-AE_10f_2f_20ep'"
   ]
  },
  {
   "cell_type": "code",
   "execution_count": 4,
   "metadata": {},
   "outputs": [],
   "source": [
    "X, info_df, n_revisions = Shared.load_tabular('../../Datasets/gaussians/')"
   ]
  },
  {
   "cell_type": "code",
   "execution_count": 5,
   "metadata": {},
   "outputs": [
    {
     "data": {
      "text/plain": [
       "'/home/eduardo/PhD/Projections/dynamic-projections/Models/ae'"
      ]
     },
     "execution_count": 5,
     "metadata": {},
     "output_type": "execute_result"
    }
   ],
   "source": [
    "os.getcwd()"
   ]
  },
  {
   "cell_type": "code",
   "execution_count": 6,
   "metadata": {},
   "outputs": [
    {
     "data": {
      "text/html": [
       "<div>\n",
       "<style scoped>\n",
       "    .dataframe tbody tr th:only-of-type {\n",
       "        vertical-align: middle;\n",
       "    }\n",
       "\n",
       "    .dataframe tbody tr th {\n",
       "        vertical-align: top;\n",
       "    }\n",
       "\n",
       "    .dataframe thead th {\n",
       "        text-align: right;\n",
       "    }\n",
       "</style>\n",
       "<table border=\"1\" class=\"dataframe\">\n",
       "  <thead>\n",
       "    <tr style=\"text-align: right;\">\n",
       "      <th></th>\n",
       "      <th>X_index</th>\n",
       "      <th>cat</th>\n",
       "      <th>point_id</th>\n",
       "      <th>t</th>\n",
       "    </tr>\n",
       "  </thead>\n",
       "  <tbody>\n",
       "    <tr>\n",
       "      <th>0</th>\n",
       "      <td>0</td>\n",
       "      <td>f</td>\n",
       "      <td>f-134</td>\n",
       "      <td>2</td>\n",
       "    </tr>\n",
       "    <tr>\n",
       "      <th>1</th>\n",
       "      <td>1</td>\n",
       "      <td>e</td>\n",
       "      <td>e-181</td>\n",
       "      <td>7</td>\n",
       "    </tr>\n",
       "    <tr>\n",
       "      <th>2</th>\n",
       "      <td>2</td>\n",
       "      <td>d</td>\n",
       "      <td>d-43</td>\n",
       "      <td>8</td>\n",
       "    </tr>\n",
       "    <tr>\n",
       "      <th>3</th>\n",
       "      <td>3</td>\n",
       "      <td>f</td>\n",
       "      <td>f-117</td>\n",
       "      <td>2</td>\n",
       "    </tr>\n",
       "    <tr>\n",
       "      <th>4</th>\n",
       "      <td>4</td>\n",
       "      <td>g</td>\n",
       "      <td>g-106</td>\n",
       "      <td>7</td>\n",
       "    </tr>\n",
       "  </tbody>\n",
       "</table>\n",
       "</div>"
      ],
      "text/plain": [
       "   X_index cat point_id  t\n",
       "0        0   f    f-134  2\n",
       "1        1   e    e-181  7\n",
       "2        2   d     d-43  8\n",
       "3        3   f    f-117  2\n",
       "4        4   g    g-106  7"
      ]
     },
     "execution_count": 6,
     "metadata": {},
     "output_type": "execute_result"
    }
   ],
   "source": [
    "info_df.head()"
   ]
  },
  {
   "cell_type": "code",
   "execution_count": 7,
   "metadata": {},
   "outputs": [
    {
     "data": {
      "text/html": [
       "<div>\n",
       "<style scoped>\n",
       "    .dataframe tbody tr th:only-of-type {\n",
       "        vertical-align: middle;\n",
       "    }\n",
       "\n",
       "    .dataframe tbody tr th {\n",
       "        vertical-align: top;\n",
       "    }\n",
       "\n",
       "    .dataframe thead th {\n",
       "        text-align: right;\n",
       "    }\n",
       "</style>\n",
       "<table border=\"1\" class=\"dataframe\">\n",
       "  <thead>\n",
       "    <tr style=\"text-align: right;\">\n",
       "      <th></th>\n",
       "      <th>X_index</th>\n",
       "      <th>cat</th>\n",
       "      <th>point_id</th>\n",
       "      <th>t</th>\n",
       "    </tr>\n",
       "  </thead>\n",
       "  <tbody>\n",
       "    <tr>\n",
       "      <th>6176</th>\n",
       "      <td>6176</td>\n",
       "      <td>a</td>\n",
       "      <td>a-0</td>\n",
       "      <td>6</td>\n",
       "    </tr>\n",
       "    <tr>\n",
       "      <th>6902</th>\n",
       "      <td>6902</td>\n",
       "      <td>a</td>\n",
       "      <td>a-0</td>\n",
       "      <td>2</td>\n",
       "    </tr>\n",
       "    <tr>\n",
       "      <th>8714</th>\n",
       "      <td>8714</td>\n",
       "      <td>a</td>\n",
       "      <td>a-0</td>\n",
       "      <td>9</td>\n",
       "    </tr>\n",
       "    <tr>\n",
       "      <th>9037</th>\n",
       "      <td>9037</td>\n",
       "      <td>a</td>\n",
       "      <td>a-0</td>\n",
       "      <td>5</td>\n",
       "    </tr>\n",
       "    <tr>\n",
       "      <th>9166</th>\n",
       "      <td>9166</td>\n",
       "      <td>a</td>\n",
       "      <td>a-0</td>\n",
       "      <td>0</td>\n",
       "    </tr>\n",
       "    <tr>\n",
       "      <th>9273</th>\n",
       "      <td>9273</td>\n",
       "      <td>a</td>\n",
       "      <td>a-0</td>\n",
       "      <td>3</td>\n",
       "    </tr>\n",
       "    <tr>\n",
       "      <th>9421</th>\n",
       "      <td>9421</td>\n",
       "      <td>a</td>\n",
       "      <td>a-0</td>\n",
       "      <td>1</td>\n",
       "    </tr>\n",
       "    <tr>\n",
       "      <th>9781</th>\n",
       "      <td>9781</td>\n",
       "      <td>a</td>\n",
       "      <td>a-0</td>\n",
       "      <td>7</td>\n",
       "    </tr>\n",
       "    <tr>\n",
       "      <th>14864</th>\n",
       "      <td>14864</td>\n",
       "      <td>a</td>\n",
       "      <td>a-0</td>\n",
       "      <td>8</td>\n",
       "    </tr>\n",
       "    <tr>\n",
       "      <th>17253</th>\n",
       "      <td>17253</td>\n",
       "      <td>a</td>\n",
       "      <td>a-0</td>\n",
       "      <td>4</td>\n",
       "    </tr>\n",
       "  </tbody>\n",
       "</table>\n",
       "</div>"
      ],
      "text/plain": [
       "       X_index cat point_id  t\n",
       "6176      6176   a      a-0  6\n",
       "6902      6902   a      a-0  2\n",
       "8714      8714   a      a-0  9\n",
       "9037      9037   a      a-0  5\n",
       "9166      9166   a      a-0  0\n",
       "9273      9273   a      a-0  3\n",
       "9421      9421   a      a-0  1\n",
       "9781      9781   a      a-0  7\n",
       "14864    14864   a      a-0  8\n",
       "17253    17253   a      a-0  4"
      ]
     },
     "execution_count": 7,
     "metadata": {},
     "output_type": "execute_result"
    }
   ],
   "source": [
    "info_df[info_df['point_id'] == 'a-0']"
   ]
  },
  {
   "cell_type": "code",
   "execution_count": 8,
   "metadata": {},
   "outputs": [
    {
     "name": "stdout",
     "output_type": "stream",
     "text": [
      "WARNING:tensorflow:From /home/eduardo/.local/share/virtualenvs/dynamic-projections-ak_z834q/lib/python3.5/site-packages/tensorflow/python/framework/op_def_library.py:263: colocate_with (from tensorflow.python.framework.ops) is deprecated and will be removed in a future version.\n",
      "Instructions for updating:\n",
      "Colocations handled automatically by placer.\n"
     ]
    }
   ],
   "source": [
    "n = X.shape[1]\n",
    "ae = Sequential()\n",
    "ae.add(Dense(10, activation='relu', input_shape=(n,)))\n",
    "ae.add(Dense(2))\n",
    "ae.add(Dense(10, activation='relu'))\n",
    "ae.add(Dense(n))"
   ]
  },
  {
   "cell_type": "code",
   "execution_count": 9,
   "metadata": {},
   "outputs": [],
   "source": [
    "ae.compile(loss='mse', optimizer='rmsprop')"
   ]
  },
  {
   "cell_type": "code",
   "execution_count": 10,
   "metadata": {
    "scrolled": true
   },
   "outputs": [
    {
     "name": "stdout",
     "output_type": "stream",
     "text": [
      "WARNING:tensorflow:From /home/eduardo/.local/share/virtualenvs/dynamic-projections-ak_z834q/lib/python3.5/site-packages/tensorflow/python/ops/math_ops.py:3066: to_int32 (from tensorflow.python.ops.math_ops) is deprecated and will be removed in a future version.\n",
      "Instructions for updating:\n",
      "Use tf.cast instead.\n"
     ]
    },
    {
     "name": "stderr",
     "output_type": "stream",
     "text": [
      "/home/eduardo/.local/share/virtualenvs/dynamic-projections-ak_z834q/lib/python3.5/site-packages/ipykernel_launcher.py:1: UserWarning: The `nb_epoch` argument in `fit` has been renamed `epochs`.\n",
      "  \"\"\"Entry point for launching an IPython kernel.\n"
     ]
    },
    {
     "name": "stdout",
     "output_type": "stream",
     "text": [
      "Epoch 1/20\n",
      "20000/20000 [==============================] - 1s 46us/step - loss: 0.0208\n",
      "Epoch 2/20\n",
      "20000/20000 [==============================] - 1s 37us/step - loss: 0.0181\n",
      "Epoch 3/20\n",
      "20000/20000 [==============================] - 1s 43us/step - loss: 0.0168\n",
      "Epoch 4/20\n",
      "20000/20000 [==============================] - 1s 41us/step - loss: 0.0162\n",
      "Epoch 5/20\n",
      "20000/20000 [==============================] - 1s 43us/step - loss: 0.0158\n",
      "Epoch 6/20\n",
      "20000/20000 [==============================] - 1s 37us/step - loss: 0.0154\n",
      "Epoch 7/20\n",
      "20000/20000 [==============================] - 1s 35us/step - loss: 0.0149\n",
      "Epoch 8/20\n",
      "20000/20000 [==============================] - 1s 45us/step - loss: 0.0145\n",
      "Epoch 9/20\n",
      "20000/20000 [==============================] - 1s 38us/step - loss: 0.0143\n",
      "Epoch 10/20\n",
      "20000/20000 [==============================] - 1s 50us/step - loss: 0.0141\n",
      "Epoch 11/20\n",
      "20000/20000 [==============================] - 1s 43us/step - loss: 0.0140\n",
      "Epoch 12/20\n",
      "20000/20000 [==============================] - 1s 44us/step - loss: 0.0140\n",
      "Epoch 13/20\n",
      "20000/20000 [==============================] - 1s 32us/step - loss: 0.0139\n",
      "Epoch 14/20\n",
      "20000/20000 [==============================] - 1s 29us/step - loss: 0.0139\n",
      "Epoch 15/20\n",
      "20000/20000 [==============================] - 1s 30us/step - loss: 0.0139\n",
      "Epoch 16/20\n",
      "20000/20000 [==============================] - 1s 30us/step - loss: 0.0138\n",
      "Epoch 17/20\n",
      "20000/20000 [==============================] - 1s 29us/step - loss: 0.0138\n",
      "Epoch 18/20\n",
      "20000/20000 [==============================] - 1s 29us/step - loss: 0.0138\n",
      "Epoch 19/20\n",
      "20000/20000 [==============================] - 1s 31us/step - loss: 0.0138\n",
      "Epoch 20/20\n",
      "20000/20000 [==============================] - 1s 30us/step - loss: 0.0138\n",
      "CPU times: user 21.9 s, sys: 1.38 s, total: 23.3 s\n",
      "Wall time: 15.1 s\n"
     ]
    },
    {
     "data": {
      "text/plain": [
       "<keras.callbacks.History at 0x7f6509390278>"
      ]
     },
     "execution_count": 10,
     "metadata": {},
     "output_type": "execute_result"
    }
   ],
   "source": [
    "%time ae.fit(X, X, nb_epoch=20)"
   ]
  },
  {
   "cell_type": "code",
   "execution_count": 11,
   "metadata": {},
   "outputs": [
    {
     "name": "stdout",
     "output_type": "stream",
     "text": [
      "_________________________________________________________________\n",
      "Layer (type)                 Output Shape              Param #   \n",
      "=================================================================\n",
      "dense_1 (Dense)              (None, 10)                1010      \n",
      "_________________________________________________________________\n",
      "dense_2 (Dense)              (None, 2)                 22        \n",
      "_________________________________________________________________\n",
      "dense_3 (Dense)              (None, 10)                30        \n",
      "_________________________________________________________________\n",
      "dense_4 (Dense)              (None, 100)               1100      \n",
      "=================================================================\n",
      "Total params: 2,162\n",
      "Trainable params: 2,162\n",
      "Non-trainable params: 0\n",
      "_________________________________________________________________\n"
     ]
    }
   ],
   "source": [
    "ae.summary()"
   ]
  },
  {
   "cell_type": "code",
   "execution_count": 12,
   "metadata": {},
   "outputs": [],
   "source": [
    "# ae.save('../Models/{}.h5'.format(nb_name))"
   ]
  },
  {
   "cell_type": "code",
   "execution_count": 13,
   "metadata": {
    "scrolled": true
   },
   "outputs": [
    {
     "data": {
      "text/plain": [
       "Text(0.5, 0.98, 'loss')"
      ]
     },
     "execution_count": 13,
     "metadata": {},
     "output_type": "execute_result"
    },
    {
     "data": {
      "image/png": "[encoded data removed]",
      "text/plain": [
       "<Figure size 432x288 with 1 Axes>"
      ]
     },
     "metadata": {
      "needs_background": "light"
     },
     "output_type": "display_data"
    }
   ],
   "source": [
    "plt.figure()\n",
    "plt.plot(ae.history.history['loss'])\n",
    "plt.suptitle('loss')"
   ]
  },
  {
   "cell_type": "code",
   "execution_count": 14,
   "metadata": {},
   "outputs": [],
   "source": [
    "n_revisions = info_df['t'].max() + 1"
   ]
  },
  {
   "cell_type": "code",
   "execution_count": 15,
   "metadata": {},
   "outputs": [
    {
     "data": {
      "text/plain": [
       "True"
      ]
     },
     "execution_count": 15,
     "metadata": {},
     "output_type": "execute_result"
    }
   ],
   "source": [
    "Shared.save_tabular_activations(ae, X, info_df, n_revisions, nb_name)"
   ]
  }
 ],
 "metadata": {
  "kernelspec": {
   "display_name": "Python 3",
   "language": "python",
   "name": "python3"
  },
  "language_info": {
   "codemirror_mode": {
    "name": "ipython",
    "version": 3
   },
   "file_extension": ".py",
   "mimetype": "text/x-python",
   "name": "python",
   "nbconvert_exporter": "python",
   "pygments_lexer": "ipython3",
   "version": "3.5.2"
  }
 },
 "nbformat": 4,
 "nbformat_minor": 2
}
