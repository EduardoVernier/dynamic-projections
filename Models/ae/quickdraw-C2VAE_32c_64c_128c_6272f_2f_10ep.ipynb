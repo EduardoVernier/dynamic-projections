{
 "cells": [
  {
   "cell_type": "code",
   "execution_count": 1,
   "metadata": {},
   "outputs": [
    {
     "name": "stderr",
     "output_type": "stream",
     "text": [
      "Using TensorFlow backend.\n"
     ]
    }
   ],
   "source": [
    "%matplotlib inline \n",
    "import keras\n",
    "import numpy as np\n",
    "import pandas as pd\n",
    "import matplotlib.pyplot as plt\n",
    "import matplotlib.patches as patches\n",
    "import cv2\n",
    "import glob\n",
    "import random\n",
    "import re\n",
    "import time\n",
    "import math\n",
    "import os\n",
    "import sys\n",
    "from sklearn.utils import shuffle\n",
    "from sklearn.model_selection import train_test_split"
   ]
  },
  {
   "cell_type": "code",
   "execution_count": 2,
   "metadata": {},
   "outputs": [
    {
     "data": {
      "text/plain": [
       "<module 'Shared' from '../Shared.py'>"
      ]
     },
     "execution_count": 2,
     "metadata": {},
     "output_type": "execute_result"
    }
   ],
   "source": [
    "import importlib\n",
    "sys.path.append('..')\n",
    "import Shared # Shared.py holds functions common to all notebooks\n",
    "importlib.reload(Shared) # In case you make changes to the Shared.py file and don't want to restart the nb kernel "
   ]
  },
  {
   "cell_type": "code",
   "execution_count": 3,
   "metadata": {},
   "outputs": [],
   "source": [
    "nb_name = 'quickdraw-C2VAE_32c_64c_128c_6272f_2f_10ep'  # Couldn't figure out how to get this automatically"
   ]
  },
  {
   "cell_type": "code",
   "execution_count": 4,
   "metadata": {
    "scrolled": true
   },
   "outputs": [
    {
     "data": {
      "text/plain": [
       "(53400,\n",
       " 53400,\n",
       " 89,\n",
       " {0: 'airplane',\n",
       "  1: 'banana',\n",
       "  2: 'baseball',\n",
       "  3: 'bicycle',\n",
       "  4: 'carrot',\n",
       "  5: 'cello'})"
      ]
     },
     "execution_count": 4,
     "metadata": {},
     "output_type": "execute_result"
    }
   ],
   "source": [
    "X, info_df, n_revisions, CATEGORIES = Shared.load_drawings('../../Datasets/quickdraw/')\n",
    "# Flatten Nx28x28 -> Nx784x1\n",
    "N = len(X)\n",
    "# np.reshape(X, (len(X), 1, 784))\n",
    "# X_flat = np.reshape(np.ravel(X), (N, -1))\n",
    "len(X), len(info_df), n_revisions, CATEGORIES"
   ]
  },
  {
   "cell_type": "code",
   "execution_count": 5,
   "metadata": {},
   "outputs": [
    {
     "data": {
      "text/html": [
       "<div>\n",
       "<style scoped>\n",
       "    .dataframe tbody tr th:only-of-type {\n",
       "        vertical-align: middle;\n",
       "    }\n",
       "\n",
       "    .dataframe tbody tr th {\n",
       "        vertical-align: top;\n",
       "    }\n",
       "\n",
       "    .dataframe thead th {\n",
       "        text-align: right;\n",
       "    }\n",
       "</style>\n",
       "<table border=\"1\" class=\"dataframe\">\n",
       "  <thead>\n",
       "    <tr style=\"text-align: right;\">\n",
       "      <th></th>\n",
       "      <th>X_index</th>\n",
       "      <th>drawing_cat_id</th>\n",
       "      <th>drawing_cat_str</th>\n",
       "      <th>drawing_id</th>\n",
       "      <th>t</th>\n",
       "    </tr>\n",
       "  </thead>\n",
       "  <tbody>\n",
       "    <tr>\n",
       "      <th>0</th>\n",
       "      <td>0</td>\n",
       "      <td>5</td>\n",
       "      <td>cello</td>\n",
       "      <td>113947</td>\n",
       "      <td>41</td>\n",
       "    </tr>\n",
       "    <tr>\n",
       "      <th>1</th>\n",
       "      <td>1</td>\n",
       "      <td>4</td>\n",
       "      <td>carrot</td>\n",
       "      <td>41438</td>\n",
       "      <td>42</td>\n",
       "    </tr>\n",
       "    <tr>\n",
       "      <th>2</th>\n",
       "      <td>2</td>\n",
       "      <td>3</td>\n",
       "      <td>bicycle</td>\n",
       "      <td>29295</td>\n",
       "      <td>36</td>\n",
       "    </tr>\n",
       "    <tr>\n",
       "      <th>3</th>\n",
       "      <td>3</td>\n",
       "      <td>4</td>\n",
       "      <td>carrot</td>\n",
       "      <td>94260</td>\n",
       "      <td>79</td>\n",
       "    </tr>\n",
       "    <tr>\n",
       "      <th>4</th>\n",
       "      <td>4</td>\n",
       "      <td>3</td>\n",
       "      <td>bicycle</td>\n",
       "      <td>18402</td>\n",
       "      <td>58</td>\n",
       "    </tr>\n",
       "  </tbody>\n",
       "</table>\n",
       "</div>"
      ],
      "text/plain": [
       "   X_index  drawing_cat_id drawing_cat_str  drawing_id   t\n",
       "0        0               5           cello      113947  41\n",
       "1        1               4          carrot       41438  42\n",
       "2        2               3         bicycle       29295  36\n",
       "3        3               4          carrot       94260  79\n",
       "4        4               3         bicycle       18402  58"
      ]
     },
     "execution_count": 5,
     "metadata": {},
     "output_type": "execute_result"
    }
   ],
   "source": [
    "info_df.head()"
   ]
  },
  {
   "cell_type": "code",
   "execution_count": 6,
   "metadata": {},
   "outputs": [],
   "source": [
    "from keras.layers import Input, Dense, Conv2D, MaxPooling2D, UpSampling2D, Flatten, Reshape, Lambda\n",
    "from keras.models import Model\n",
    "from keras.optimizers import SGD\n",
    "from keras.utils import np_utils\n",
    "from keras.objectives import categorical_crossentropy\n",
    "from keras.losses import mse, binary_crossentropy\n",
    "\n",
    "from keras import backend as K"
   ]
  },
  {
   "cell_type": "code",
   "execution_count": 7,
   "metadata": {},
   "outputs": [
    {
     "name": "stdout",
     "output_type": "stream",
     "text": [
      "WARNING:tensorflow:From /home/eduardo/.local/share/virtualenvs/dynamic-projections-ak_z834q/lib/python3.5/site-packages/tensorflow/python/framework/op_def_library.py:263: colocate_with (from tensorflow.python.framework.ops) is deprecated and will be removed in a future version.\n",
      "Instructions for updating:\n",
      "Colocations handled automatically by placer.\n"
     ]
    }
   ],
   "source": [
    "def sampling(args):\n",
    "    \"\"\"Reparameterization trick by sampling fr an isotropic unit Gaussian.\n",
    "    # Arguments:\n",
    "        args (tensor): mean and log of variance of Q(z|X)\n",
    "    # Returns:\n",
    "        z (tensor): sampled latent vector\n",
    "    \"\"\"\n",
    "    z_mean, z_lvar = args\n",
    "    \n",
    "    batch = K.shape(z_mean)[0]\n",
    "    dim = K.int_shape(z_mean)[1]\n",
    "    \n",
    "    # By default, random_normal has mean=0 and std=1.0\n",
    "    epsilon = K.random_normal(shape=(batch, dim))\n",
    "    \n",
    "    return z_mean + K.exp(0.5*z_lvar)*epsilon\n",
    "\n",
    "# Encoder\n",
    "inputs = Input(shape=(28, 28, 1), name='encoder_input')\n",
    "x = Conv2D(32, (3, 3), activation='relu', padding='same')(inputs)\n",
    "x = MaxPooling2D((2, 2), padding='same')(x)\n",
    "x = Conv2D(64, (3, 3), activation='relu', padding='same')(x)\n",
    "x = MaxPooling2D((2, 2), padding='same')(x)\n",
    "x = Conv2D(128, (3, 3), activation='relu', padding='same')(x)\n",
    "x = Flatten()(x)\n",
    "z_mean = Dense(2, name='z_mean')(x)\n",
    "z_lvar = Dense(2, name='z_lvar')(x)\n",
    "l_code = Lambda(sampling, name='l_code')([z_mean, z_lvar])\n",
    "\n",
    "encoder = Model(inputs, [z_mean, z_lvar, l_code], name='encoder')\n",
    "\n",
    "# Decoder\n",
    "encoded = Input(shape=(2,), name='z_sampled')\n",
    "x = Dense(6272)(encoded)\n",
    "x = Reshape((7, 7, 128))(x)\n",
    "x = Conv2D(128, (3, 3), activation='relu', padding='same')(x)\n",
    "x = UpSampling2D((2, 2))(x)\n",
    "x = Conv2D(64, (3, 3), activation='relu', padding='same')(x)\n",
    "x = UpSampling2D((2, 2))(x)\n",
    "x = Conv2D(32, (3, 3), activation='relu', padding='same')(x)\n",
    "output = Conv2D(1, (3, 3), activation='relu', padding='same')(x)\n",
    "\n",
    "decoder = Model(encoded, output, name='decoder')\n",
    "\n",
    "# VAE\n",
    "va_out = decoder(encoder(inputs)[2])\n",
    "vae = Model(inputs, va_out, name='vae')"
   ]
  },
  {
   "cell_type": "code",
   "execution_count": 8,
   "metadata": {},
   "outputs": [
    {
     "name": "stdout",
     "output_type": "stream",
     "text": [
      "__________________________________________________________________________________________________\n",
      "Layer (type)                    Output Shape         Param #     Connected to                     \n",
      "==================================================================================================\n",
      "encoder_input (InputLayer)      (None, 28, 28, 1)    0                                            \n",
      "__________________________________________________________________________________________________\n",
      "conv2d_1 (Conv2D)               (None, 28, 28, 32)   320         encoder_input[0][0]              \n",
      "__________________________________________________________________________________________________\n",
      "max_pooling2d_1 (MaxPooling2D)  (None, 14, 14, 32)   0           conv2d_1[0][0]                   \n",
      "__________________________________________________________________________________________________\n",
      "conv2d_2 (Conv2D)               (None, 14, 14, 64)   18496       max_pooling2d_1[0][0]            \n",
      "__________________________________________________________________________________________________\n",
      "max_pooling2d_2 (MaxPooling2D)  (None, 7, 7, 64)     0           conv2d_2[0][0]                   \n",
      "__________________________________________________________________________________________________\n",
      "conv2d_3 (Conv2D)               (None, 7, 7, 128)    73856       max_pooling2d_2[0][0]            \n",
      "__________________________________________________________________________________________________\n",
      "flatten_1 (Flatten)             (None, 6272)         0           conv2d_3[0][0]                   \n",
      "__________________________________________________________________________________________________\n",
      "z_mean (Dense)                  (None, 2)            12546       flatten_1[0][0]                  \n",
      "__________________________________________________________________________________________________\n",
      "z_lvar (Dense)                  (None, 2)            12546       flatten_1[0][0]                  \n",
      "__________________________________________________________________________________________________\n",
      "l_code (Lambda)                 (None, 2)            0           z_mean[0][0]                     \n",
      "                                                                 z_lvar[0][0]                     \n",
      "==================================================================================================\n",
      "Total params: 117,764\n",
      "Trainable params: 117,764\n",
      "Non-trainable params: 0\n",
      "__________________________________________________________________________________________________\n",
      "_________________________________________________________________\n",
      "Layer (type)                 Output Shape              Param #   \n",
      "=================================================================\n",
      "z_sampled (InputLayer)       (None, 2)                 0         \n",
      "_________________________________________________________________\n",
      "dense_1 (Dense)              (None, 6272)              18816     \n",
      "_________________________________________________________________\n",
      "reshape_1 (Reshape)          (None, 7, 7, 128)         0         \n",
      "_________________________________________________________________\n",
      "conv2d_4 (Conv2D)            (None, 7, 7, 128)         147584    \n",
      "_________________________________________________________________\n",
      "up_sampling2d_1 (UpSampling2 (None, 14, 14, 128)       0         \n",
      "_________________________________________________________________\n",
      "conv2d_5 (Conv2D)            (None, 14, 14, 64)        73792     \n",
      "_________________________________________________________________\n",
      "up_sampling2d_2 (UpSampling2 (None, 28, 28, 64)        0         \n",
      "_________________________________________________________________\n",
      "conv2d_6 (Conv2D)            (None, 28, 28, 32)        18464     \n",
      "_________________________________________________________________\n",
      "conv2d_7 (Conv2D)            (None, 28, 28, 1)         289       \n",
      "=================================================================\n",
      "Total params: 258,945\n",
      "Trainable params: 258,945\n",
      "Non-trainable params: 0\n",
      "_________________________________________________________________\n",
      "_________________________________________________________________\n",
      "Layer (type)                 Output Shape              Param #   \n",
      "=================================================================\n",
      "encoder_input (InputLayer)   (None, 28, 28, 1)         0         \n",
      "_________________________________________________________________\n",
      "encoder (Model)              [(None, 2), (None, 2), (N 117764    \n",
      "_________________________________________________________________\n",
      "decoder (Model)              (None, 28, 28, 1)         258945    \n",
      "=================================================================\n",
      "Total params: 376,709\n",
      "Trainable params: 376,709\n",
      "Non-trainable params: 0\n",
      "_________________________________________________________________\n"
     ]
    }
   ],
   "source": [
    "encoder.summary()\n",
    "decoder.summary()\n",
    "vae.summary()"
   ]
  },
  {
   "cell_type": "code",
   "execution_count": 9,
   "metadata": {
    "scrolled": true
   },
   "outputs": [],
   "source": [
    "# input_img = Input(shape=(28, 28, 1))\n",
    "# # input_img = Input(shape=(28, 28, 1))\n",
    "# x = Conv2D(32, (3, 3), activation='relu', padding='same')(input_img)\n",
    "# x = MaxPooling2D((2, 2), padding='same')(x)\n",
    "# x = Conv2D(32, (3, 3), activation='relu', padding='same')(x)\n",
    "# x = MaxPooling2D((2, 2), padding='same')(x)\n",
    "# x = Conv2D(32, (3, 3), activation='relu', padding='same')(x)\n",
    "# # encoded = Conv2D(2, (2, 2), activation='relu', padding='same', strides=(1,4))(x)\n",
    "# x = Flatten()(x)\n",
    "# encoded = Dense(2)(x)\n",
    "# x = Dense(1568)(encoded)\n",
    "# x = Reshape((7,7,32))(x)\n",
    "# x = Conv2D(32, (3, 3), activation='relu', padding='same')(x)\n",
    "# x = UpSampling2D((2,2))(x)\n",
    "# x = Conv2D(32, (3, 3), activation='relu', padding='same')(x)\n",
    "# x = UpSampling2D((2,2))(x)\n",
    "# x = Conv2D(32, (3, 3), activation='relu', padding='same')(x)\n",
    "# decoded = Conv2D(1, (3, 3), activation='relu', padding='same')(x)\n",
    "\n",
    "# ae = Model(input_img, decoded)\n",
    "# encoder = Model(input_img, encoded)\n",
    "# ae.summary()"
   ]
  },
  {
   "cell_type": "code",
   "execution_count": 10,
   "metadata": {},
   "outputs": [],
   "source": [
    "# Build VAE loss function. It takes into account the variance layer outputs too.\n",
    "reconstruction_loss = mse(K.flatten(inputs), K.flatten(va_out))\n",
    "reconstruction_loss *= 784\n",
    "kl_loss = 1 + z_lvar - K.square(z_mean) - K.exp(z_lvar)\n",
    "kl_loss = K.sum(kl_loss, axis=-1)\n",
    "kl_loss *= -0.5\n",
    "vae_loss = K.mean(reconstruction_loss + kl_loss)\n",
    "vae.add_loss(vae_loss)"
   ]
  },
  {
   "cell_type": "code",
   "execution_count": 11,
   "metadata": {},
   "outputs": [],
   "source": [
    "# Compile and summary\n",
    "vae.compile(optimizer='adam')"
   ]
  },
  {
   "cell_type": "code",
   "execution_count": 12,
   "metadata": {},
   "outputs": [],
   "source": [
    "(x_train, x_test) = train_test_split(np.array(X).reshape([-1, 28, 28, 1]), test_size=0.1, shuffle=True, random_state=0)"
   ]
  },
  {
   "cell_type": "code",
   "execution_count": 13,
   "metadata": {},
   "outputs": [
    {
     "data": {
      "text/plain": [
       "((48060, 28, 28, 1), (5340, 28, 28, 1), (None, 28, 28, 1), (None, 28, 28, 1))"
      ]
     },
     "execution_count": 13,
     "metadata": {},
     "output_type": "execute_result"
    }
   ],
   "source": [
    "x_train.shape, x_test.shape, vae.input_shape, vae.output_shape"
   ]
  },
  {
   "cell_type": "code",
   "execution_count": 14,
   "metadata": {
    "scrolled": false
   },
   "outputs": [
    {
     "name": "stdout",
     "output_type": "stream",
     "text": [
      "WARNING:tensorflow:From /home/eduardo/.local/share/virtualenvs/dynamic-projections-ak_z834q/lib/python3.5/site-packages/tensorflow/python/ops/math_ops.py:3066: to_int32 (from tensorflow.python.ops.math_ops) is deprecated and will be removed in a future version.\n",
      "Instructions for updating:\n",
      "Use tf.cast instead.\n",
      "Train on 48060 samples, validate on 5340 samples\n",
      "Epoch 1/10\n",
      "48060/48060 [==============================] - 419s 9ms/step - loss: 65.1187 - val_loss: 64.0502\n",
      "Epoch 2/10\n",
      "48060/48060 [==============================] - 413s 9ms/step - loss: 63.3731 - val_loss: 63.1539\n",
      "Epoch 3/10\n",
      "48060/48060 [==============================] - 408s 8ms/step - loss: 62.5550 - val_loss: 62.2324\n",
      "Epoch 4/10\n",
      "48060/48060 [==============================] - 401s 8ms/step - loss: 61.7051 - val_loss: 61.7941\n",
      "Epoch 5/10\n",
      "48060/48060 [==============================] - 402s 8ms/step - loss: 60.9979 - val_loss: 60.8449\n",
      "Epoch 6/10\n",
      "48060/48060 [==============================] - 402s 8ms/step - loss: 60.2425 - val_loss: 60.3609\n",
      "Epoch 7/10\n",
      "48060/48060 [==============================] - 403s 8ms/step - loss: 59.6482 - val_loss: 59.8194\n",
      "Epoch 8/10\n",
      "48060/48060 [==============================] - 410s 9ms/step - loss: 58.9708 - val_loss: 58.9642\n",
      "Epoch 9/10\n",
      "48060/48060 [==============================] - 417s 9ms/step - loss: 58.4354 - val_loss: 58.6359\n",
      "Epoch 10/10\n",
      "48060/48060 [==============================] - 419s 9ms/step - loss: 57.9226 - val_loss: 58.0728\n"
     ]
    }
   ],
   "source": [
    "# Train the VAE.\n",
    "h = vae.fit(x_train, epochs=10, batch_size=32, validation_data=(x_test, None))"
   ]
  },
  {
   "cell_type": "code",
   "execution_count": 15,
   "metadata": {},
   "outputs": [
    {
     "data": {
      "text/plain": [
       "<matplotlib.image.AxesImage at 0x7ff6bc0e6898>"
      ]
     },
     "execution_count": 15,
     "metadata": {},
     "output_type": "execute_result"
    },
    {
     "data": {
      "image/png": "[encoded data removed]",
      "text/plain": [
       "<Figure size 432x288 with 1 Axes>"
      ]
     },
     "metadata": {
      "needs_background": "light"
     },
     "output_type": "display_data"
    }
   ],
   "source": [
    "plt.imshow(x_test[0:1].reshape((28, 28)))"
   ]
  },
  {
   "cell_type": "code",
   "execution_count": 16,
   "metadata": {},
   "outputs": [
    {
     "data": {
      "text/plain": [
       "<matplotlib.image.AxesImage at 0x7ff6bc0648d0>"
      ]
     },
     "execution_count": 16,
     "metadata": {},
     "output_type": "execute_result"
    },
    {
     "data": {
      "image/png": "[encoded data removed]",
      "text/plain": [
       "<Figure size 432x288 with 1 Axes>"
      ]
     },
     "metadata": {
      "needs_background": "light"
     },
     "output_type": "display_data"
    }
   ],
   "source": [
    "plt.imshow(vae.predict(x_test[0:1]).reshape((28, 28)))"
   ]
  },
  {
   "cell_type": "code",
   "execution_count": 17,
   "metadata": {},
   "outputs": [],
   "source": [
    "# vae.save('../Models/{}.h5'.format(nb_name))"
   ]
  },
  {
   "cell_type": "code",
   "execution_count": 18,
   "metadata": {},
   "outputs": [],
   "source": [
    "# from keras.models import load_model\n",
    "# ae = load_model('../Models/{}.h5'.format(nb_name))\n"
   ]
  },
  {
   "cell_type": "code",
   "execution_count": 19,
   "metadata": {},
   "outputs": [],
   "source": [
    "# plt.figure()\n",
    "# plt.plot(ae.history.history['loss'])\n",
    "# plt.suptitle('loss')"
   ]
  },
  {
   "cell_type": "code",
   "execution_count": 20,
   "metadata": {},
   "outputs": [],
   "source": [
    "#Shared.save_quickdraw_activations(ae, np.array(X).reshape([-1, 28, 28, 1]), info_df, n_revisions, nb_name)"
   ]
  },
  {
   "cell_type": "code",
   "execution_count": 21,
   "metadata": {},
   "outputs": [],
   "source": [
    "# Collect all activations\n",
    "layer_output = encoder.predict(np.array(X).reshape([-1, 28, 28, 1]))[0]"
   ]
  },
  {
   "cell_type": "code",
   "execution_count": 22,
   "metadata": {},
   "outputs": [
    {
     "data": {
      "text/plain": [
       "(53400, 2)"
      ]
     },
     "execution_count": 22,
     "metadata": {},
     "output_type": "execute_result"
    }
   ],
   "source": [
    "layer_output.shape"
   ]
  },
  {
   "cell_type": "code",
   "execution_count": 23,
   "metadata": {},
   "outputs": [],
   "source": [
    "# Write activations to csv\n",
    "header = ['id']\n",
    "for t in range(n_revisions):\n",
    "    for d in range(layer_output.shape[1]):\n",
    "        header.append('t{}d{}'.format(t, d))\n",
    "\n",
    "csv_out = []\n",
    "gb = info_df.groupby(['drawing_cat_str', 'drawing_id'])\n",
    "for index, df in gb:  # Iterave over all drawing sequences\n",
    "    drawing_id = index[0] + '-' + str(index[1])\n",
    "    item_row = [drawing_id]\n",
    "    for index, _ in df.sort_values('t').iterrows():  # For all timesteps\n",
    "        for d in range(layer_output.shape[1]):  # Add all dimensions\n",
    "            item_row.append(layer_output[index][d])\n",
    "    csv_out.append(item_row)\n",
    "\n",
    "df_out = pd.DataFrame(csv_out, columns=header)\n",
    "df_out.to_csv('../../Output/{}.csv'.format(nb_name), index=False)"
   ]
  },
  {
   "cell_type": "code",
   "execution_count": null,
   "metadata": {},
   "outputs": [],
   "source": []
  }
 ],
 "metadata": {
  "kernelspec": {
   "display_name": "Python 3",
   "language": "python",
   "name": "python3"
  },
  "language_info": {
   "codemirror_mode": {
    "name": "ipython",
    "version": 3
   },
   "file_extension": ".py",
   "mimetype": "text/x-python",
   "name": "python",
   "nbconvert_exporter": "python",
   "pygments_lexer": "ipython3",
   "version": "3.5.2"
  }
 },
 "nbformat": 4,
 "nbformat_minor": 2
}
